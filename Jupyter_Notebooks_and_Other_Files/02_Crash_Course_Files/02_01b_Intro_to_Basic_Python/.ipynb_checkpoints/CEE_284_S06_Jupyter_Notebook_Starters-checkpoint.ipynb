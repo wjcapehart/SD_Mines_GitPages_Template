{
 "cells": [
  {
   "cell_type": "markdown",
   "metadata": {},
   "source": [
    "![CEE Masthead](http://kyrill.ias.sdsmt.edu/wjc/eduresources/CEE_284_Masthead.png)\n",
    "# Part 1a: Introduction to Jupyter and Markdown\n",
    "\n",
    "## What is a Jupyter Notebook\n",
    "\n",
    "This is a [Jupyter Notebook](https://jupyter.org), a web-based service that allows a user to create both documentation (including equations, links and images), code and its output in a single framework. \n",
    "\n",
    "Use of Jupyter Notebooks are in increasing use in the science, engineering and technology fields because of their ability to create effective, integrated, sharable, transparent and reproducible reporting.  \n",
    "\n",
    "## How to Use this Particular Notebook\n",
    "\n",
    "Most notebooks for these sessions are self-contained guides to play along.  You would be doing the work and writing the code in your own notebook as well as documenting it with Markdown.  \n",
    "\n",
    "This one is different since it focuses on the Markdown itself which when it's integrated into the notebook, becomes HTML-style text.  \n",
    "\n",
    "Therefore for this notebook you should be working with this particular notebook in one window, and an open notebook of your own in another window and \"toggling\" by clicking the mouse over various cells to view the raw Markdown and \"Running\" the cells to see the results."
   ]
  },
  {
   "cell_type": "markdown",
   "metadata": {},
   "source": [
    "### Kernels\n",
    "\n",
    "Notebooks use a combination of \"cells\" that contain either text and code.  The latter operates inside of a “kernel” which here describes the programming environment for the Notebook.  There are a number of kernel’s available.\n",
    "\n",
    "Specific kernels provide support for \n",
    "\n",
    "* Python 2 and 3\n",
    "* R\n",
    "* Julia \n",
    "* C\n",
    "* Coarray Fortran\n",
    "* The UNIX Bash and Zsh Shells.\n",
    "\n",
    "There can be only one “kernel” for any given notebook.\n",
    "\n",
    "Our sessions will use the Kernel for Python 3\n",
    "\n",
    "A full list of available kernels can be found [here]( https://github.com/jupyter/jupyter/wiki/Jupyter-kernels).  From my experience, some work better than others, and have been depreciated or “frozen” in development."
   ]
  },
  {
   "cell_type": "markdown",
   "metadata": {},
   "source": [
    "### Markdown\n",
    "The text components of the Markdown are designed to written as HTML print elements.  However, rather than using traditional HTML coding, it uses a different system called [“Markdown”](https://jupyter-notebook.readthedocs.io/en/stable/examples/Notebook/Working%20With%20Markdown%20Cells.html) that uses simple plain-text typing to create formatted document text that is a little faster than raw HTML coding.  \n",
    "\n",
    "If you click om any of the text cells in this notebook you will see Markdown in action.\n",
    "\n",
    "Most of this document covers markdown.  (The Python part will only be the traditional “your first python program.)\n"
   ]
  },
  {
   "cell_type": "markdown",
   "metadata": {},
   "source": [
    "## Markdown Elements\n",
    "I recommend for this document that you \"toggle\" between raw markdown and it's results by clicking your mouse on the desired \"cell\" to show the raw markdown and to hit the \"Run\" button at the top of the notebook to view the results.  You should also try on your own as you absorb the material to write some text in Markdown leveraging some of the elements."
   ]
  },
  {
   "cell_type": "markdown",
   "metadata": {},
   "source": [
    "### Markdown vs Code Cells\n",
    "Markdown cells are activated by using the oulldown menu on the button bar above.  When you start a brand new cell it defaults to a Code cell featuring the language that you selected when you created the notebook."
   ]
  },
  {
   "cell_type": "markdown",
   "metadata": {},
   "source": [
    "### Text and Paragraphs\n",
    "Simple text in Markdown is easy. Just type.  The basic elements of punctation, periods, commas (Oxford and otherwise), parentheses, brackets, question marks, exclamation marks are as it would be if you were typing plain old ascii.\n",
    "\n",
    "Other elements like tabs will have other uses.\n",
    "\n",
    "For a paragraph within a Markdown cell, you should just be able to hit the enter key twice as if you are making a double space between the paragraphs."
   ]
  },
  {
   "cell_type": "markdown",
   "metadata": {},
   "source": [
    "### Bold, Italics, Underlines and Strikethrough\n",
    "Here are some simple elements to show emphasis.  Here is where you want to toggle.\n",
    "\n",
    "For bold and italics, we leverage the use of enclosing the impacted text with asterisks, and underscores.  \n",
    "\n",
    "A single \"wrap\" of text using single asterisk or underscore will make _italics_ *text*.\n",
    "\n",
    "_Two_ asterisks or underscores as \"wrappers\" will make __bold__ **text**.  \n",
    "\n",
    "If you want **bold** ***and*** *italics* you can nest a __*bold around italics*__,  or _**italics around bold**_.  It **_doesn't_** matter if you use ***asterixes*** or ___underscores___ for either bold or italics and indeed as shown here when you toggle, you can just use one of the two choices for both.\n",
    "\n",
    "Also if you need to use a lone asterix ( * ) or underscore ( _ ) just have a space on either side.\n",
    "\n",
    "Markdown cannot do user-requested underlines.  Tyoically URLs and other \"links\" are underlined in HTML. Italics are often considered to be a good and more readable replacement to non-link underscores in HTML. \n",
    "\n",
    "But if you want to do a ~~strikethrough~~ use the tilde ~ symbol.\n",
    "\n",
    "(We'll look at how to make $super^{scripts}$ and $_{sub}scripts$ later)\n",
    "\n"
   ]
  },
  {
   "cell_type": "markdown",
   "metadata": {},
   "source": [
    "### Bullet Lists\n",
    "\n",
    "Need a list?  Here are some examples\n",
    "\n",
    "\n",
    "* you can represent a list\n",
    "* with a leading asteriks\n",
    "\n",
    "\n",
    "If you need blank lines between list elements you need two spaces between them.\n",
    "\n",
    "\n",
    "+ a plus will \n",
    "+ also work\n",
    "\n",
    "\n",
    "- or a single \n",
    "- hyphen, too.\n",
    "\n",
    "\n",
    "* You can also \n",
    "  + nest lists with two spaces.\n",
    "  + the nesting will change\n",
    "     * change the symbols when\n",
    "     * you \"run\" back\n",
    "  * into HTML mode\n",
    "* from cell editing mode\n",
    "  "
   ]
  },
  {
   "cell_type": "markdown",
   "metadata": {},
   "source": [
    "### Numbered Lists\n",
    "\n",
    "1. you can also\n",
    "2. have explicitly\n",
    "  1. outline-styled lists\n",
    "  2. you have indent these by two too\n",
    "    1. just remember to not have \n",
    "    2. lone sublist items\n",
    "  3. or Mrs Travis will make you\n",
    "  4. [diagram sentences](http://grammar.ccc.commnet.edu/grammar/diagrams2/one_pager1.htm) as punishment.\n",
    "    1. you need to indent with\n",
    "      1. all numbers\n",
    "      2. but when you \n",
    "        1. convert it to html\n",
    "        2. it will have the\n",
    "          1. multiformat outlines\n",
    "          2. you would expect to see \n",
    "          3. which is pretty \n",
    "3. neat\n",
    "      \n",
    "    "
   ]
  },
  {
   "cell_type": "markdown",
   "metadata": {},
   "source": [
    "### Hyperlinks and Pictures\n",
    "\n",
    "You've already seen how URL hyperlinks work. A URL link requires two parts.  The text of the link is wrapped between two [square brackets] and the URL comes immediately after the closing square bracket and is wrapped in (parenthesis) following [this example](https://jupyter-notebook.readthedocs.io/en/stable/examples/Notebook/Working%20With%20Markdown%20Cells.html).\n",
    "\n",
    "Need to embed a picture?\n",
    "\n",
    "![Remain Indoors! Await Further Instructions!](http://kyrill.ias.sdsmt.edu/wjc/eduresources/Remain_Indoors_1small.jpeg)\n",
    "\n",
    "It's the same method but the square brackets have an exclaimation mark immediately before the first one  The square bracket should include a caption for enviromnments that cannot serve graphics."
   ]
  },
  {
   "cell_type": "markdown",
   "metadata": {},
   "source": [
    "### Tables\n",
    "\n",
    "Here is a very simple table.\n",
    "\n",
    "Note the use of \"capital-backslashes\" (\\) and hyphens.  Colons will let you center or right- or left-justify when inserted in the row of hyphens that separates the table headers from the table data.\n",
    "\n",
    "They also don't need to have perfect table look-n-feel.  The Markdown-to-HTML interpreter will make it pretty.  (But as with excel, open and closing the |'s starts to confuse me quickly so I *normaly* try to keep things all aligned as best as I can.\n",
    "\n",
    "\n",
    "| Heading | Another Heading  | And Another | Last One  |\n",
    "|---------|---------:|:------------|:--------------:|\n",
    "| default | right    |    left|             center |\n",
    "| justify |   justify| justify     | justfy |\n",
    "\n"
   ]
  },
  {
   "cell_type": "markdown",
   "metadata": {},
   "source": [
    "### Headings and Reference Lines\n",
    "\n",
    "As you've notice you can also have different level of headings... comme \n",
    "ça with #Capitol3\n",
    "\n",
    "You can make dividing lines with three hyphens separated with a space (\"- - -\")\n",
    "\n",
    "- - - \n",
    "\n",
    "# Heading Level 1 (Title)\n",
    "## Heading Level 2\n",
    "### Heading Level 3\n",
    "#### Heading Level 4 (you probably want to stop at level 3).\n",
    "\n",
    "- - -"
   ]
  },
  {
   "cell_type": "markdown",
   "metadata": {},
   "source": [
    "### Indented Blockquotes and Unformatted Text\n",
    "\n",
    "If you need a \"blockquote\" you preceed the section with a \">\". Be aware that for every hard return you will need a new one. \n",
    "\n",
    "> Here I am using a block quote by typing something in MS Word and then cutting and pasting cell with a preceding > symbol.  This will look like a single line in markdown \n",
    "\n",
    "And another example follows with me breaking up the text.\n",
    "\n",
    "> This blockquote uses has multiple line breaks through \n",
    "> it as if you are typing freehand and arbitrarily\n",
    "> inserting \n",
    "> carriage return (which \n",
    "> is \n",
    "> what old people call the enter key).  \n",
    "> after each hard-return you will need to\n",
    "> start the new line with a > so you keep the\n",
    "> blockquote going.\n",
    ">\n",
    ">\n",
    "> Above is a double space which adds a single space that \n",
    "> new paragraph inside the blockquote. \n",
    "\n",
    "For unformatted text you enclose the area with three \"backticks\" (the \"lower-case\" tilde that's normally next to the \"1\" on the keyboard).\n",
    "\n",
    "```\n",
    "This text breaks the formatted HTML so the text is equal \n",
    "spaced, and also the other formatting options are disabled \n",
    "so you can do _this_ and *this* for example, also \n",
    "all \n",
    "carriage returns\n",
    "are \n",
    "literally interpreted\n",
    "```"
   ]
  },
  {
   "cell_type": "markdown",
   "metadata": {},
   "source": [
    "### Math and Symbols and LaTeX\n",
    "This is the scaryiest part.  Equations, complex math symbols use a convention in old-school technical writing called LaTeX which entered the market when I was starting senior high school.  This was developed before before most science based writers had easy access to graphical interface computers. All fancy formatting is done through a different text-based approach from Markdown.  \n",
    "\n",
    "That said, LaTeX is the standard of equation editing in Markdown type environments like R-Studio and Jupyter.  \n",
    "\n",
    "The good news is that there are plenty of cheat sheets and web sites that will walk people from the WYSIWYG generation through the process of adding things like pi, integrals, and complex math formulae into their documents.  \n",
    "\n",
    "\n",
    "To just add something in like $\\pi$ as part of a section of text you will need to wrap the LaTeX syntax with a pair of dollar signs ($).  \n",
    "\n",
    "For a centered equation normally for larger equations we use a pair of two dollar signs as the wrapper.\n",
    "\n",
    "$$\\pi=\\int_{0}^{1}\\frac{4}{1+x^2} dx$$\n",
    "\n",
    "Now when toggling back and forth you have likely noticed that the equaton for pi above looks nothing like the Markdown version in HTML and vice versa!  This is what LaTeX's equation markdown looks like!  \n",
    "\n",
    "But have no fear because...\n",
    "\n",
    "...To make the acutal equations without having to know LaTeX's equation markup, there are a number of web pages that have free web-apps that let you \"sketch\" the equation like commonly used word processor equation editor using a GUI.\n",
    "\n",
    "This is one I prefer:  [https://www.codecogs.com/latex/eqneditor.php](https://www.codecogs.com/latex/eqneditor.php).  This one also lets you download an image of the equation you can use in other applications.  \n",
    "\n",
    "This is also the environment for us to be able to make our subscripts and superscripts.\n",
    "\n",
    "* ``` $super^{script}$ ``` $super^{script}$ uses the \"carot\" (aka capital-6)\n",
    "* ``` $_{sub}script$ ``` $_{sub}script$ uses the underscore.\n",
    "* if you only have one thing to \"$_sub$\" or \"$^super$,\" you don't need the curly brackets.\n",
    "* The downside is that as you can see you will have everything in LaTeX's default script."
   ]
  },
  {
   "cell_type": "markdown",
   "metadata": {},
   "source": [
    "## Things to Try"
   ]
  },
  {
   "cell_type": "markdown",
   "metadata": {},
   "source": [
    "Once you get the basics down, most of the essentials of Markdown are pretty easy.  The scarier part is to use the equations.  But as you keep woring with Markdown you'll be able to do very simple formulas without needing the help GUI.\n",
    "\n",
    "Otherwise the best advice is to just use Markdown.  Note that much of R-Studio's flavor of Markdown is very similar to the one used with Jupyter since they come from the same envirionemt."
   ]
  },
  {
   "cell_type": "markdown",
   "metadata": {},
   "source": [
    "## Way forward to Part 1b..."
   ]
  },
  {
   "cell_type": "markdown",
   "metadata": {},
   "source": [
    "Our next step will be to acutally begin programming with Python.  Here we will start simple and start working with \n",
    "\n",
    "* basic \"checkbook\" math\n",
    "* Loops\n",
    "* \"if - elif - else\" blocks\n",
    "* and lists and arrays (which has some elements that tend to confuse people right away).\n",
    "\n",
    "But first.... Let's try the following! "
   ]
  },
  {
   "cell_type": "code",
   "execution_count": 1,
   "metadata": {},
   "outputs": [
    {
     "name": "stdout",
     "output_type": "stream",
     "text": [
      "Hello World\n"
     ]
    }
   ],
   "source": [
    "#######################################\n",
    "#\n",
    "# The obligatory Hello World Program \n",
    "#\n",
    "#   (in Python, Comments use a #Capital3)\n",
    "#\n",
    "\n",
    "print(\"Hello World\")\n",
    "\n",
    "#\n",
    "######################################"
   ]
  },
  {
   "cell_type": "markdown",
   "metadata": {},
   "source": [
    "And with our traditional first program that you are expected to write in any language you are beginning to learn you are ready for Part 1b."
   ]
  },
  {
   "cell_type": "markdown",
   "metadata": {},
   "source": [
    "## Version Information\n",
    "\n",
    "(You will see this on most of the Notebooks I make.  This creates an inventory of the python components used in each notebook.  This helps with troubleshooting replicability issues)."
   ]
  },
  {
   "cell_type": "code",
   "execution_count": 2,
   "metadata": {},
   "outputs": [
    {
     "data": {
      "application/json": {
       "Software versions": [
        {
         "module": "Python",
         "version": "3.8.3 64bit [Clang 10.0.0 ]"
        },
        {
         "module": "IPython",
         "version": "7.16.1"
        },
        {
         "module": "OS",
         "version": "macOS 10.15.6 x86_64 i386 64bit"
        },
        {
         "module": "version_information",
         "version": "1.0.3"
        }
       ]
      },
      "text/html": [
       "<table><tr><th>Software</th><th>Version</th></tr><tr><td>Python</td><td>3.8.3 64bit [Clang 10.0.0 ]</td></tr><tr><td>IPython</td><td>7.16.1</td></tr><tr><td>OS</td><td>macOS 10.15.6 x86\\_64 i386 64bit</td></tr><tr><td>version_information</td><td>1.0.3</td></tr><tr><td colspan='2'>Wed Sep 02 10:10:38 2020 MDT</td></tr></table>"
      ],
      "text/latex": [
       "\\begin{tabular}{|l|l|}\\hline\n",
       "{\\bf Software} & {\\bf Version} \\\\ \\hline\\hline\n",
       "Python & 3.8.3 64bit [Clang 10.0.0 ] \\\\ \\hline\n",
       "IPython & 7.16.1 \\\\ \\hline\n",
       "OS & macOS 10.15.6 x86\\_64 i386 64bit \\\\ \\hline\n",
       "version_information & 1.0.3 \\\\ \\hline\n",
       "\\hline \\multicolumn{2}{|l|}{Wed Sep 02 10:10:38 2020 MDT} \\\\ \\hline\n",
       "\\end{tabular}\n"
      ],
      "text/plain": [
       "Software versions\n",
       "Python 3.8.3 64bit [Clang 10.0.0 ]\n",
       "IPython 7.16.1\n",
       "OS macOS 10.15.6 x86_64 i386 64bit\n",
       "version_information 1.0.3\n",
       "Wed Sep 02 10:10:38 2020 MDT"
      ]
     },
     "execution_count": 2,
     "metadata": {},
     "output_type": "execute_result"
    }
   ],
   "source": [
    "################################################################\n",
    "#\n",
    "# Loading Version Information\n",
    "#\n",
    "\n",
    "%load_ext version_information\n",
    "%version_information version_information\n",
    "\n",
    "#\n",
    "################################################################"
   ]
  }
 ],
 "metadata": {
  "kernelspec": {
   "display_name": "Python 3 (ipykernel)",
   "language": "python",
   "name": "python3"
  },
  "language_info": {
   "codemirror_mode": {
    "name": "ipython",
    "version": 3
   },
   "file_extension": ".py",
   "mimetype": "text/x-python",
   "name": "python",
   "nbconvert_exporter": "python",
   "pygments_lexer": "ipython3",
   "version": "3.9.12"
  }
 },
 "nbformat": 4,
 "nbformat_minor": 2
}
