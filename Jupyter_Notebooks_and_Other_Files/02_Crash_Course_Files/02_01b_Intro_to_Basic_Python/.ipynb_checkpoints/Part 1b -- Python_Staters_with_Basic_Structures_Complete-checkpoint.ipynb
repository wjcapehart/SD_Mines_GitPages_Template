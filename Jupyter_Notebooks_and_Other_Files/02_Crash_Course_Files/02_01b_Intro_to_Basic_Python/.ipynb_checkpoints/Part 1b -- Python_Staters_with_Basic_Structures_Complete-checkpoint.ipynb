{
 "cells": [
  {
   "cell_type": "markdown",
   "metadata": {},
   "source": [
    "![AES/CEE Masthead](http://kyrill.ias.sdsmt.edu/wjc/eduresources/AES_CEE_Masthead.png)\n",
    "\n",
    "# Part 1b -- Python Basic Structures (Complete)\n",
    "\n",
    "## Victory Laps for This Session\n",
    "\n",
    "For this session we will explore\n",
    "\n",
    "*  Bloat your Python Directories with Stuff that *may* be Useful\n",
    "*  Simple Output to The Screen\n",
    "*  Elementary Arithmetic\n",
    "*  Data Elements of Basic Python\n",
    "  *  Integers\n",
    "  *  Floating Points\n",
    "  *  Character Strings\n",
    "  *  Lists (Arrays come later)\n",
    "    *  Indexing arrays\n",
    "    *  How indexing in Python is different from other languages\n",
    "*  Loops \n",
    "  *  \"Counting\" through a \"range\"\n",
    "  *  Walking through a list\n",
    "  *  While Loops\n",
    "*  If-Elif-Else Structures (Forshadowing our next session)\n",
    "\n"
   ]
  },
  {
   "cell_type": "markdown",
   "metadata": {},
   "source": [
    "\n",
    "## Hello World\n",
    "\n",
    "It’s a tradition.  We do it in nearly every language we teach.  Here we will use it to demonstrate how we print stuff to the string with the basic python routine “print”\n",
    "\n",
    "Specifically let's look at the [print](https://docs.python.org/3/library/functions.html#print) function.  Here we are only printing a string.  But also notice as we play below that \n",
    "\n",
    "1.  It doesn't matter (so far) if you use single or double quotes so long as you close with who opened it.\n",
    "2.  You can separate character strings with \n",
    "  1.  a comma (which will slide in an extra breaking space), or \n",
    "  2.  a plus (which directly abutts each string against each other with no padding)  \n",
    "  \n",
    "When we start playing with numbers and printing them, that will change a little."
   ]
  },
  {
   "cell_type": "code",
   "execution_count": 1,
   "metadata": {},
   "outputs": [
    {
     "name": "stdout",
     "output_type": "stream",
     "text": [
      "Hello World\n",
      "Hello World\n",
      "Hello World\n"
     ]
    }
   ],
   "source": [
    "#####################################################\n",
    "#\n",
    "# Hello World (Comments in Python start with a #Capital-3)\n",
    "#\n",
    "\n",
    "print('Hello World')\n",
    "print('Hello' + \" \" + 'World')\n",
    "print(\"Hello\", 'World')\n",
    "\n",
    "#\n",
    "#####################################################"
   ]
  },
  {
   "cell_type": "markdown",
   "metadata": {},
   "source": [
    "## Python Arithmetic\n",
    "\n",
    "This section does not include complex math functions such as trig functions, logs, etc.\n",
    "\n",
    "This is just going to cover the basic things found on most cheap calculators.\n",
    "\n",
    "The basic operators are pretty intuitive if you've worked with Excel or other languages.\n",
    "\n",
    "*  (+) addition\n",
    "*  (-) subtraction\n",
    "*  (*) multiplication\n",
    "*  (/) division\n",
    "*  (%) modulus (aka the remainder from division)\n",
    "*  (**) raising the former to the latter's power.  \n",
    "  *  You probably were expecting a \"capital-6\" (^). The (**) is how it's done in Fortran.\n",
    "  *  If you are a C-programmer and want to use the pow(x,y) function that is also available as a intrinsic (built-in) function.\n",
    "\n",
    "The order of operations are the same as in basic arithmetic.  "
   ]
  },
  {
   "cell_type": "code",
   "execution_count": 2,
   "metadata": {},
   "outputs": [
    {
     "name": "stdout",
     "output_type": "stream",
     "text": [
      "  9 + 6   =  15\n",
      "  9 - 6   =  3\n",
      "  9 * 6   =  54\n",
      "  9 / 6   =  1.5\n",
      "  9 % 6   =  3\n",
      "  9 ** 6  =  531441\n",
      " pow(9,6) =  531441\n"
     ]
    }
   ],
   "source": [
    "#####################################################\n",
    "#\n",
    "# The Traditional Arithmetic Operators\n",
    "# \n",
    "#    Try these with a + instead of a comma as a\n",
    "#       separator\n",
    "#\n",
    "\n",
    "print(\"  9 + 6   = \", 9 + 6)\n",
    "print(\"  9 - 6   = \", 9 - 6)\n",
    "print(\"  9 * 6   = \", 9 * 6)\n",
    "print(\"  9 / 6   = \", 9 / 6)\n",
    "print(\"  9 % 6   = \", 9 % 6)\n",
    "print(\"  9 ** 6  = \", 9 ** 6)\n",
    "print(\" pow(9,6) = \", pow(9,6))\n",
    "\n",
    "#\n",
    "#####################################################"
   ]
  },
  {
   "cell_type": "markdown",
   "metadata": {},
   "source": [
    "## A few simple intrinsic functions\n",
    "\n",
    "If you tried to use a + sign to separate the string and calculation above, you got an error.  \n",
    "\n",
    "The (+) sign joins (or \"concatenates\") strings, the comma will join separate data \"types\".  A plus WILL work if you convert the number into a string with the [str()](https://docs.python.org/3/library/stdtypes.html#text-sequence-type-str) function (and notice the change in typesetting when you try it!):"
   ]
  },
  {
   "cell_type": "code",
   "execution_count": 3,
   "metadata": {},
   "outputs": [
    {
     "name": "stdout",
     "output_type": "stream",
     "text": [
      "  9 + 6   =  15\n",
      "  9 + 6   = 15\n",
      "  9 + 6   =  15\n"
     ]
    }
   ],
   "source": [
    "#####################################################\n",
    "#\n",
    "# Comparing printing ... \n",
    "#\n",
    "#    a number as a number separated with a comma\n",
    "#\n",
    "\n",
    "print(\"  9 + 6   = \", 9 + 6)\n",
    "\n",
    "#\n",
    "#    and a number as a string with both a comma \n",
    "#       and a  plus\n",
    "#\n",
    "\n",
    "print(\"  9 + 6   = \" + str(9 + 6))\n",
    "print(\"  9 + 6   = \",  str(9 + 6))\n",
    "\n",
    "#\n",
    "#####################################################"
   ]
  },
  {
   "cell_type": "markdown",
   "metadata": {},
   "source": [
    "There are a few other onboard intrinsic [functions](https://docs.python.org/3/library/functions.html).  But for many of the math functions you may take for granted (unless you've been using Mathcad and remember what happens when you are off the campus license server!), those will be accessed with external libaries which we will cover in subsequent sessions."
   ]
  },
  {
   "cell_type": "markdown",
   "metadata": {},
   "source": [
    "## Data Types\n",
    "\n",
    "As with other languages there are multiple data types with which to work.  Here are a few of them and how to \"active\" them.\n",
    "\n",
    "### Integers\n",
    "\n",
    "These are the easiest.  Just type it in without a decimal.  Integers in Python 3 are 8-bytes long which gives them a dynamic range of (−9,223,372,036,854,775,807 to +9,223,372,036,854,775,807).\n"
   ]
  },
  {
   "cell_type": "code",
   "execution_count": 4,
   "metadata": {},
   "outputs": [
    {
     "name": "stdout",
     "output_type": "stream",
     "text": [
      "a =  3\n",
      "b =  4\n",
      "\n",
      "a + b =  7\n",
      "b - a =  1\n",
      "b * a =  12\n",
      "b / a =  1.3333333333333333\n"
     ]
    }
   ],
   "source": [
    "#####################################################\n",
    "#\n",
    "# Integers ... \n",
    "#\n",
    "#   Plain old counting numbers\n",
    "#\n",
    "\n",
    "a = 3\n",
    "\n",
    "b = 4\n",
    "\n",
    "print(\"a = \", a)\n",
    "print(\"b = \", b)\n",
    "\n",
    "print()\n",
    "\n",
    "print(\"a + b = \", a + b)\n",
    "print(\"b - a = \", b - a)\n",
    "print(\"b * a = \", b * a)\n",
    "print(\"b / a = \", b / a) # look I just became a floating point number!\n",
    "\n",
    "\n",
    "#\n",
    "#####################################################"
   ]
  },
  {
   "cell_type": "markdown",
   "metadata": {},
   "source": [
    "This last one is rather nice because some languages will return a integer from an operation of two integers no matter what the results are.\n",
    "\n",
    "If you are unclear after beating on a value if it's an integer or note you can query it's status as shown in the example below using the type() function."
   ]
  },
  {
   "cell_type": "code",
   "execution_count": 5,
   "metadata": {},
   "outputs": [
    {
     "name": "stdout",
     "output_type": "stream",
     "text": [
      "3 + 4 makes a  <class 'int'>\n",
      "4 - 3 makes a  <class 'int'>\n",
      "4 * 3 makes a  <class 'int'>\n",
      "4 / 3 makes a  <class 'float'>\n"
     ]
    }
   ],
   "source": [
    "#####################################################\n",
    "#\n",
    "# Am I an integer or floating point?\n",
    "#\n",
    "\n",
    "c = a + b\n",
    "d = b - a\n",
    "e = b * a\n",
    "f = b / a\n",
    "\n",
    "#\n",
    "#\n",
    "\n",
    "print(a,\"+\",b, \"makes a \", type(c))\n",
    "print(b,\"-\",a, \"makes a \", type(d))\n",
    "print(b,\"*\",a, \"makes a \", type(e))\n",
    "print(b,\"/\",a, \"makes a \", type(f))\n",
    "\n",
    "\n",
    "#\n",
    "#####################################################"
   ]
  },
  {
   "cell_type": "markdown",
   "metadata": {},
   "source": [
    "... and that last one brings us to\n",
    "\n",
    "## Floating Points\n",
    "\n",
    "In Python 3 Floating points are 8-bytes long (what we call \"double precision) should be able to go from an exponent range $10^{-308}$ to  $10^{+308}$  and 15-17 significant figures.\n",
    "\n",
    "Calling one just requires a decimal place or an \"e\" to create a mantisa-exponent pair like you would in excel or any other language.\n",
    "\n",
    "Thus,"
   ]
  },
  {
   "cell_type": "code",
   "execution_count": 6,
   "metadata": {},
   "outputs": [
    {
     "name": "stdout",
     "output_type": "stream",
     "text": [
      "x =  3.0 <class 'float'>\n",
      "y =  6.0221409e+23 <class 'float'>\n",
      "z =  1e+308 <class 'float'>\n"
     ]
    }
   ],
   "source": [
    "#####################################################\n",
    "#\n",
    "# Floating Points ... \n",
    "#\n",
    "\n",
    "x = 3.0\n",
    "y = 6.0221409e+23\n",
    "z = 1e308\n",
    "\n",
    "print(\"x = \", x, type(x))\n",
    "print(\"y = \", y, type(x))\n",
    "print(\"z = \", z, type(z))\n",
    "\n",
    "#\n",
    "#####################################################"
   ]
  },
  {
   "cell_type": "markdown",
   "metadata": {},
   "source": [
    "### \"I will get over this because I am shallow and self-centered...  You, however, are [snort] *complex*.  You will be agonizing over this for months!\"\n",
    "\n",
    "Complex Numbers can be created by calculating them or by initial design.  Note what while we often use *i* for the value of \\sqrt{-1}$ they use the *j* (which is common when working with electrical engineers since Electrical Current is also denoted with the symbol *i*)"
   ]
  },
  {
   "cell_type": "code",
   "execution_count": 7,
   "metadata": {},
   "outputs": [
    {
     "name": "stdout",
     "output_type": "stream",
     "text": [
      "sqrt(-1) =  (8.659560562354934e-17+1.4142135623730951j) <class 'complex'>\n",
      " i squared =  (-1+0j)\n",
      " (3+4j)  =  (3+4j) <class 'complex'>\n"
     ]
    }
   ],
   "source": [
    "#####################################################\n",
    "#\n",
    "# Complex numbers... \n",
    "#\n",
    "\n",
    "imagination = (-2)**(1/2)\n",
    "\n",
    "print(\"sqrt(-1) = \", imagination, type(imagination))\n",
    "\n",
    "print(\" i squared = \", 1j ** 2)\n",
    "\n",
    "snuffolupogus = (3+4j) \n",
    "\n",
    "print(\" (3+4j)  = \", snuffolupogus, type(snuffolupogus))\n",
    "\n",
    "#\n",
    "#####################################################"
   ]
  },
  {
   "cell_type": "markdown",
   "metadata": {},
   "source": [
    "### Characters and Strings\n",
    "\n",
    "Characters and strings are easy to produce with either a pair of single-quotes or a pair of double-quotes. "
   ]
  },
  {
   "cell_type": "code",
   "execution_count": 8,
   "metadata": {},
   "outputs": [
    {
     "name": "stdout",
     "output_type": "stream",
     "text": [
      "string1 =  Hello <class 'str'>\n",
      "string2 =  World <class 'str'>\n",
      "string3 =  Hello World <class 'str'>\n"
     ]
    }
   ],
   "source": [
    "#####################################################\n",
    "#\n",
    "# Strings and Characters\n",
    "#\n",
    "\n",
    "string1 = \"Hello\"\n",
    "string2 = 'World'\n",
    "string3 = string1 + \" \" + string2\n",
    "#\n",
    "print(\"string1 = \", string1, type(string1))\n",
    "print(\"string2 = \", string2, type(string2))\n",
    "print(\"string3 = \", string3, type(string3))\n",
    "\n",
    "#\n",
    "#####################################################"
   ]
  },
  {
   "cell_type": "markdown",
   "metadata": {},
   "source": [
    "### Lists, \"Tupples\" and Arrays\n",
    "\n",
    "Arrays and Lists are treated differently.  Arrays will be addressed in a future session on Numerical Python (NumPy). \n",
    "\n",
    "For lists it's easy.  They are 1-D lists (*but not vectors*) with brackets for \"wrapping\" and commas to delimit the members of the list.\n",
    "\n",
    "One interesting thing about lists is that you can list heterogeneous types in them, mixing types (e.g., characters, integers, & floats) in a single list.  (This won't be the case with numerical arrays)"
   ]
  },
  {
   "cell_type": "code",
   "execution_count": 9,
   "metadata": {},
   "outputs": [
    {
     "name": "stdout",
     "output_type": "stream",
     "text": [
      "a =  [0, 1, 2, 3, 4] <class 'list'>\n",
      "b =  [0.0, 10.0, 20.0, 30.0, 40.0] <class 'list'>\n",
      "c =  ['zero', 'one', 'two', 'three', 'four'] <class 'list'>\n",
      "d =  [0, 1j, 2, 3j, 4] <class 'list'>\n",
      "e =  [0, 'one', 2, 3j, 4] <class 'list'>\n",
      "\n",
      "2a =  [0, 1, 2, 3, 4, 0, 1, 2, 3, 4] <class 'list'>\n",
      "a + b =  [0, 1, 2, 3, 4, 0.0, 10.0, 20.0, 30.0, 40.0] <class 'list'>\n"
     ]
    }
   ],
   "source": [
    "#####################################################\n",
    "#\n",
    "# Lists\n",
    "#\n",
    "\n",
    "a = [0,   1,   2,   3,   4 ]\n",
    "b = [0., 10., 20., 30., 40.]\n",
    "c = ['zero',\"one\",\"two\",'three',\"four\"]\n",
    "d = [0,   1j,  2,   3j,  4]\n",
    "e = [0,   \"one\",  2,   3j,  4]\n",
    "\n",
    "\n",
    "#\n",
    "print(\"a = \", a, type(a))\n",
    "print(\"b = \", b, type(b))\n",
    "print(\"c = \", c, type(c))\n",
    "print(\"d = \", d, type(d))\n",
    "print(\"e = \", e, type(e))\n",
    "\n",
    "\n",
    "print()\n",
    "\n",
    "a_plus_b = a + b \n",
    "\n",
    "print(\"2a = \", 2*a, type(2*a))\n",
    "print(\"a + b = \",a_plus_b, type(a_plus_b))\n",
    "\n",
    "#\n",
    "#####################################################"
   ]
  },
  {
   "cell_type": "markdown",
   "metadata": {},
   "source": [
    "(Whoa!  Did those two do what you expected?  A list is NOT an array or traditional vector or array.  It operates more like a string.  So in both cases (even the 2*a case which surprised me!) \"adding\" lists concatenate (string together) lists rather than peform math on them.  We will be able to do \"math\" on them with numerical python"
   ]
  },
  {
   "cell_type": "markdown",
   "metadata": {},
   "source": [
    "You may also sometimes see a structure that wraps a series of fields in a parenthesis.  \n",
    "\n",
    "These are called \"tupples.\"  In Python a tupple is a list that you can create or declare but while you can change the values in an array or list, you cannot do so in a \"Tupple.\"  While a function may throw me a tupple, I personally prefer not to use them, prefering the more flexible lists and arrays instead."
   ]
  },
  {
   "cell_type": "code",
   "execution_count": 11,
   "metadata": {},
   "outputs": [
    {
     "name": "stdout",
     "output_type": "stream",
     "text": [
      "MyList  ['A', 'a', 1, 2, 'happy']\n",
      "MyTupple  ('A', 'a', 1, 2, 'happy')\n",
      "My New List  ['A', 'b', 1, 2, 'happy']\n"
     ]
    },
    {
     "ename": "TypeError",
     "evalue": "'tuple' object does not support item assignment",
     "output_type": "error",
     "traceback": [
      "\u001b[0;31m---------------------------------------------------------------------------\u001b[0m",
      "\u001b[0;31mTypeError\u001b[0m                                 Traceback (most recent call last)",
      "Cell \u001b[0;32mIn[11], line 21\u001b[0m\n\u001b[1;32m     17\u001b[0m \u001b[38;5;28mprint\u001b[39m(\u001b[38;5;124m\"\u001b[39m\u001b[38;5;124mMy New List \u001b[39m\u001b[38;5;124m\"\u001b[39m,   mylist)\n\u001b[1;32m     19\u001b[0m \u001b[38;5;66;03m#\u001b[39;00m\n\u001b[0;32m---> 21\u001b[0m \u001b[43mmytupple\u001b[49m\u001b[43m[\u001b[49m\u001b[38;5;241;43m1\u001b[39;49m\u001b[43m]\u001b[49m \u001b[38;5;241m=\u001b[39m \u001b[38;5;124m\"\u001b[39m\u001b[38;5;124mb\u001b[39m\u001b[38;5;124m\"\u001b[39m \u001b[38;5;66;03m# (this will make an error)\u001b[39;00m\n\u001b[1;32m     22\u001b[0m \u001b[38;5;28mprint\u001b[39m(\u001b[38;5;124m\"\u001b[39m\u001b[38;5;124mMy New Tupple \u001b[39m\u001b[38;5;124m\"\u001b[39m,   mytupple)\n\u001b[1;32m     24\u001b[0m \u001b[38;5;66;03m#\u001b[39;00m\n\u001b[1;32m     25\u001b[0m \u001b[38;5;66;03m#####################################################\u001b[39;00m\n",
      "\u001b[0;31mTypeError\u001b[0m: 'tuple' object does not support item assignment"
     ]
    }
   ],
   "source": [
    "#####################################################\n",
    "#\n",
    "# Tupple Demonstration \n",
    "#\n",
    "\n",
    "mylist  = [\"A\", \"a\", 1, 2, \"happy\"] # list\n",
    "\n",
    "mytupple    = (\"A\", \"a\", 1, 2, \"happy\") # tupple\n",
    "\n",
    "print(\"MyList \",   mylist)\n",
    "print(\"MyTupple \", mytupple)\n",
    "\n",
    "# Let's try to change an element in each.\n",
    "#  Indexing in Python starts at zero\n",
    "\n",
    "mylist[1] = \"b\"\n",
    "print(\"My New List \",   mylist)\n",
    "\n",
    "#\n",
    "\n",
    "mytupple[1] = \"b\" # (this will make an error)\n",
    "print(\"My New Tupple \",   mytupple)\n",
    "\n",
    "#\n",
    "#####################################################\n"
   ]
  },
  {
   "cell_type": "markdown",
   "metadata": {},
   "source": [
    "### Indexing Arrays and Lists in Python... This is going to get weird!\n",
    "\n",
    "Indexing in Python starts at zero.  Indicies are wrapped in brackets (not parentheses) So for example getting the above first element in list \"b\" is ..."
   ]
  },
  {
   "cell_type": "code",
   "execution_count": 12,
   "metadata": {},
   "outputs": [
    {
     "name": "stdout",
     "output_type": "stream",
     "text": [
      "The first element of b (element zero) is =  0.0\n"
     ]
    }
   ],
   "source": [
    "#####################################################\n",
    "#\n",
    "\n",
    "print(\"The first element of b (element zero) is = \", b[0])\n",
    "\n",
    "#\n",
    "#####################################################"
   ]
  },
  {
   "cell_type": "code",
   "execution_count": 13,
   "metadata": {},
   "outputs": [
    {
     "name": "stdout",
     "output_type": "stream",
     "text": [
      "The second element of b (element 1) is =  10.0\n"
     ]
    }
   ],
   "source": [
    "#####################################################\n",
    "#\n",
    "\n",
    "print(\"The second element of b (element 1) is = \", b[1])\n",
    "\n",
    "#\n",
    "#####################################################"
   ]
  },
  {
   "cell_type": "markdown",
   "metadata": {},
   "source": [
    "That's straight forward enough.  But what if you want to print a range of elements.  Let's say the first 3 elements (0, 1 & 2). To fetch more than one you can use the : to create the range - this is similar to other languages."
   ]
  },
  {
   "cell_type": "code",
   "execution_count": 14,
   "metadata": {},
   "outputs": [
    {
     "name": "stdout",
     "output_type": "stream",
     "text": [
      "The first three elements of b SHOULD be...  [0.0, 10.0]\n"
     ]
    }
   ],
   "source": [
    "#####################################################\n",
    "#\n",
    "\n",
    "print(\"The first three elements of b SHOULD be... \", b[0:2])\n",
    "\n",
    "#\n",
    "#####################################################"
   ]
  },
  {
   "cell_type": "markdown",
   "metadata": {},
   "source": [
    "Whoa (again).  This is a quirk of Python that isn't in other languages. \n",
    "\n",
    "The first listed index in a range is \"inclusive\" meaning that the first index you ask for is the first you get!  (As it should be yes?)  \n",
    "\n",
    "BUT... (and there's always a \"but\" isn't there?)\n",
    "\n",
    "The second listed index in a given range is \"EXCLUSIVE.\"  That means that it is one ***PLUS*** the *listed* index.  So if we want to do the above example and do the first three, it must look like the one below."
   ]
  },
  {
   "cell_type": "code",
   "execution_count": 15,
   "metadata": {},
   "outputs": [
    {
     "name": "stdout",
     "output_type": "stream",
     "text": [
      "The first three elements of b are *really*...  [0.0, 10.0, 20.0]\n",
      "                                           or  [0.0, 10.0, 20.0]\n"
     ]
    }
   ],
   "source": [
    "#####################################################\n",
    "#\n",
    "\n",
    "print(\"The first three elements of b are *really*... \", b[0:2+1])\n",
    "print(\"                                           or \", b[0:3])\n",
    "\n",
    "\n",
    "#\n",
    "#####################################################"
   ]
  },
  {
   "cell_type": "markdown",
   "metadata": {},
   "source": [
    "#### And who came up with *that* winning idea?!?\n",
    "\n",
    "I've seen a lot of apologetics for this.  The ~~best~~ lest-unconvincing one to me is to accomodate how we think when we count vs how things indexing at zero work:\n",
    "\n",
    "\"index from 0 for the 3 spaces.\"\n",
    "\n",
    "I'm still not convinced in part because I've spent ~~years~~ decades explicitly saying 0 to N-1.  "
   ]
  },
  {
   "cell_type": "markdown",
   "metadata": {},
   "source": [
    "### Creating Ranges in Python\n",
    "\n",
    "This comes in handy to remember when you work shortly in loops or otherwise have to make a series of numbers to walk through in Python.\n",
    "\n",
    "The function to do this is called \"[range(*start*,*stop+1*,[*delta*])]\"(https://docs.python.org/3/library/functions.html#func-range)\n",
    "\n",
    "if your interval is one then you don't need that last argument.\n",
    "\n",
    "An example of this making a counting list from 1 to 10 is below.  However the data class in which a range is stored is accessed normally only through a loop (which we will need to do next)."
   ]
  },
  {
   "cell_type": "code",
   "execution_count": 16,
   "metadata": {},
   "outputs": [
    {
     "name": "stdout",
     "output_type": "stream",
     "text": [
      " range(1, 11)\n",
      "1\n",
      "2\n",
      "3\n",
      "4\n",
      "5\n",
      "6\n",
      "7\n",
      "8\n",
      "9\n",
      "10\n"
     ]
    }
   ],
   "source": [
    "#####################################################\n",
    "#\n",
    "# Range from 1 to 10\n",
    "#\n",
    "\n",
    "range1 = range(1, 10+1)\n",
    "\n",
    "print(\"\", range1)\n",
    "\n",
    "for i in range1:\n",
    "    print(i)\n",
    "\n",
    "#\n",
    "#####################################################"
   ]
  },
  {
   "cell_type": "markdown",
   "metadata": {},
   "source": [
    "## Loops\n",
    "\n",
    "And that is a good segue into loops.  \n",
    "\n",
    "There two species of loops\n",
    "\n",
    "### Counting Loops (The For Loop)\n",
    "\n",
    "Counting Loops leverage Ranges which as we saw above have that inclusive exclusive pairing.\n",
    "\n",
    "And we just did one... \n",
    "\n",
    "A few things.\n",
    "\n",
    "*  The Loops and If-Elif-Else Blocks start with : at the starter line.  \n",
    "*  You must then indent (Jupyter will do it for you).  \n",
    "*  When done with the indent the \"cue\" that you are out of the structure is simply returning to the previous indent level (or hard against the left margin).  You'll see a nested system shortly."
   ]
  },
  {
   "cell_type": "code",
   "execution_count": 17,
   "metadata": {},
   "outputs": [
    {
     "name": "stdout",
     "output_type": "stream",
     "text": [
      "i =  1 out of  5\n",
      "i =  2 out of  5\n",
      "i =  3 out of  5\n",
      "i =  4 out of  5\n",
      "i =  5 out of  5\n",
      "\n",
      "k =  0 out of  5\n",
      "k =  1 out of  5\n",
      "k =  2 out of  5\n",
      "k =  3 out of  5\n",
      "k =  4 out of  5\n",
      "k =  5 out of  5\n"
     ]
    }
   ],
   "source": [
    "#####################################################\n",
    "#\n",
    "# Range from 1 to 10\n",
    "#\n",
    "\n",
    "N = 5\n",
    "\n",
    "for i in range(1, N+1):\n",
    "    print(\"i = \", i, \"out of \", N)\n",
    "    \n",
    "print()\n",
    "\n",
    "for k in range(0, N+1):\n",
    "    print(\"k = \", k, \"out of \", N)\n",
    "\n",
    "#\n",
    "#####################################################"
   ]
  },
  {
   "cell_type": "markdown",
   "metadata": {},
   "source": [
    "It also works with lists"
   ]
  },
  {
   "cell_type": "code",
   "execution_count": 18,
   "metadata": {},
   "outputs": [
    {
     "name": "stdout",
     "output_type": "stream",
     "text": [
      "Roll Call!\n",
      "  Sharon!\n",
      "  Bobby!\n",
      "  Lonnie!\n",
      "  Tommy!\n",
      "  Annette!\n",
      "  Darlene!\n",
      "  Cubby!\n",
      "  Karen!\n",
      "  Doreen!\n"
     ]
    }
   ],
   "source": [
    "#####################################################\n",
    "#\n",
    "# For Looping through a List\n",
    "#\n",
    "#   notice that continuation is just starting a new\n",
    "#      line like you can do in R\n",
    "#\n",
    "\n",
    "mousekateeers = [\"Sharon\",\n",
    "                 \"Bobby\",\n",
    "                 \"Lonnie\",\n",
    "                 \"Tommy\",\n",
    "                 \"Annette\",\n",
    "                 \"Darlene\",\n",
    "                 \"Cubby\",\n",
    "                 \"Karen\",\n",
    "                 \"Doreen\"]\n",
    "                 \n",
    "\n",
    "print(\"Roll Call!\")\n",
    "for mousekateer in mousekateeers:\n",
    "    print(\"  \" + mousekateer + \"!\")\n",
    "\n",
    "#\n",
    "#####################################################"
   ]
  },
  {
   "cell_type": "markdown",
   "metadata": {},
   "source": [
    "### Conditional Loops (The While Loop)\n",
    "\n",
    "This one drops out when the condition is satisfied (this is what we used when we programmed Roots in Mathcad)\n",
    "\n",
    "And let's do a revisit to our first foray into programming!\n",
    "\n",
    "![Flowchart from the Presentation from CEE 284 Lecture 2](http://kyrill.ias.sdsmt.edu/wjc/eduresources/Lecture_2_Flowchart.png)"
   ]
  },
  {
   "cell_type": "code",
   "execution_count": 19,
   "metadata": {},
   "outputs": [
    {
     "name": "stdout",
     "output_type": "stream",
     "text": [
      "i+1= 3\n",
      "i+1= 5\n",
      "i+1= 7\n",
      "We're Outahere like Vladimir\n"
     ]
    }
   ],
   "source": [
    "#####################################################\n",
    "#\n",
    "# While Loop (using our first loop EVER!)\n",
    "#\n",
    "\n",
    "i = 2\n",
    "while (i <= 6):\n",
    "    print(\"i+1=\", i+1)\n",
    "    i = i + 2\n",
    "print(\"We're Outahere like Vladimir\")\n",
    "\n",
    "#\n",
    "#####################################################"
   ]
  },
  {
   "cell_type": "markdown",
   "metadata": {},
   "source": [
    "## Decision Blocks\n",
    "\n",
    "We often have choices to make when we program... here are the classics that come with Python.  Note that if you are used to using a \"case\" statement which exists in a number of languages, it's not explicitly included with Python.\n",
    "\n",
    "### A Cascading If-ElseIf-Else Block\n",
    "\n",
    "This one is a redux of the vending machine problem from Lecture 2.  Remember if you know you have a dime, you don't have to ask again if it's a nickel.\n",
    "\n",
    "Here Else If is compressed into a single word, \"elif.\""
   ]
  },
  {
   "cell_type": "code",
   "execution_count": 20,
   "metadata": {},
   "outputs": [
    {
     "name": "stdout",
     "output_type": "stream",
     "text": [
      "value =  0.05\n"
     ]
    }
   ],
   "source": [
    "#####################################################\n",
    "#\n",
    "# If-Elif-Else Block \n",
    "#\n",
    "\n",
    "coin = \"Nickel\"\n",
    "\n",
    "if (coin == \"Quarter\"):\n",
    "    value = 0.25\n",
    "elif (coin == \"Dime\"):\n",
    "    value = 0.10\n",
    "elif (coin == \"Nickel\"):\n",
    "    value = 0.05\n",
    "elif (coin == \"Penny\"):\n",
    "    value = 0.01\n",
    "else:\n",
    "    value = \"Use the right money\"\n",
    "    \n",
    "print(\"value = \", value)\n",
    "\n",
    "#\n",
    "#####################################################"
   ]
  },
  {
   "cell_type": "markdown",
   "metadata": {},
   "source": [
    "### Single Question If Statements\n",
    "\n",
    "This one is easy...  Remember after any of these questions you still have to ask the next questions"
   ]
  },
  {
   "cell_type": "code",
   "execution_count": 21,
   "metadata": {},
   "outputs": [
    {
     "name": "stdout",
     "output_type": "stream",
     "text": [
      "0.05 is between 0.00 and 0.10\n",
      "0.05 is under 1.00\n",
      "0.05 is less than 0.50 or more than 1.00\n"
     ]
    }
   ],
   "source": [
    "#####################################################\n",
    "#\n",
    "# Singular If Statement \n",
    "#\n",
    "#   (also showing multiple conditions)\n",
    "#\n",
    "\n",
    "value = 0.05\n",
    "\n",
    "if (value >= 0) & (value <= 0.10):\n",
    "    print(value, \"is between 0.00 and 0.10\")\n",
    "if (value >= 0.10) & (value <= 0.50):\n",
    "    print(value, \"is between 0.10 and 0.50\")\n",
    "if (value >= 0.00) & (value < 1.00):\n",
    "    print(value, \"is under 1.00\")\n",
    "if (value < 0.50) | (value > 1.00):\n",
    "    print(value, \"is less than 0.50 or more than 1.00\")\n",
    "#\n",
    "#####################################################"
   ]
  },
  {
   "cell_type": "markdown",
   "metadata": {},
   "source": [
    "## Setup for Next Week's Playtime!\n",
    "\n",
    "There are a couple things you can try with the skills you have now.  But this one we can use later when we plot things!\n",
    "\n",
    "### Our Pi Case.\n",
    "\n",
    "You've done this before... you can do it here.  \n",
    "\n",
    "Recall that we are using a Reimann Sum method to do this.\n",
    "\n",
    "![Reimann Summing for Pi](http://kyrill.ias.sdsmt.edu/wjc/eduresources/PI_Integration_Figure.png)\n",
    "\n",
    "Remember the base equation\n",
    "\n",
    "$$\\pi =\\frac{1}{N}\\sum^{N}_{i=1}\\frac{4}{1+x^2}$$\n",
    "\n",
    "And the pseudocode.  \n",
    "\n",
    "Just enter the block below by declaring a variable n.\n",
    "\n",
    "```\n",
    "Input the value “n” \n",
    "if n < 1 then\n",
    "{\n",
    "   print an error statement\n",
    "}\n",
    "else \n",
    "{\n",
    "   h = 1 / n\n",
    "   sum  = 0\n",
    "   repeat i from 1 to n by 1\n",
    "   {\n",
    "      x = h * (i - 0.5)\n",
    "      sum = sum + 4 / (1 + x*x)\n",
    "   }\n",
    "   pi = h * sum\n",
    "   return, pi\n",
    "}\n",
    "```"
   ]
  },
  {
   "cell_type": "markdown",
   "metadata": {},
   "source": [
    "## Version Information\n",
    "\n",
    "There was once a very handy tool that would print version information of the Python version, operating system, and the versions of the Python packages you are running. It leveraged a \"magic\" command in IPython (which is what lies beneath Jupyter and JuptyerLab notebooks).\n",
    "\n",
    "The developer has moved on to other things, but the resource still has a narrow but ~militant~ ernest fan base (myself included). The original doesn't work with versions of Python above 3.7. So, a couple of us wrote some patches to fix it. You can access my version below by following these instructions.\n",
    "\n",
    "*  If you don't have GIT on your rig yet, you can fetch it via conda (you can do this on the fly in the jupyter notebook by using that leading \"!\"\n",
    "```\n",
    "!conda install -y -v git\n",
    "```\n",
    "*  You can install it using the following command.\n",
    "```\n",
    "!pip install git+https://github.com/wjcapehart/version_information\n",
    "```\n",
    "\n",
    "### JupyterLab Caveat\n",
    "\n",
    "For people using Jupyter Lab, the interface does not play well with this \"magic\" function. It exports the results in the Jupyter Lab notebook as a JSON object with clicky expander arrow buttons. However, if you \"Export\" your notebook as an HTML or PDF file, it will look like a nice table."
   ]
  },
  {
   "cell_type": "code",
   "execution_count": 22,
   "metadata": {},
   "outputs": [
    {
     "data": {
      "application/json": {
       "Software versions": [
        {
         "module": "Python",
         "version": "3.11.4 64bit [Clang 15.0.7 ]"
        },
        {
         "module": "IPython",
         "version": "8.14.0"
        },
        {
         "module": "OS",
         "version": "macOS 13.5.1 arm64 arm 64bit"
        },
        {
         "module": "version_information",
         "version": "1.0.3"
        }
       ]
      },
      "text/html": [
       "<table><tr><th>Software</th><th>Version</th></tr><tr><td>Python</td><td>3.11.4 64bit [Clang 15.0.7 ]</td></tr><tr><td>IPython</td><td>8.14.0</td></tr><tr><td>OS</td><td>macOS 13.5.1 arm64 arm 64bit</td></tr><tr><td>version_information</td><td>1.0.3</td></tr><tr><td colspan='2'>Tue Sep 05 12:12:49 2023 MDT</td></tr></table>"
      ],
      "text/latex": [
       "\\begin{tabular}{|l|l|}\\hline\n",
       "{\\bf Software} & {\\bf Version} \\\\ \\hline\\hline\n",
       "Python & 3.11.4 64bit [Clang 15.0.7 ] \\\\ \\hline\n",
       "IPython & 8.14.0 \\\\ \\hline\n",
       "OS & macOS 13.5.1 arm64 arm 64bit \\\\ \\hline\n",
       "version_information & 1.0.3 \\\\ \\hline\n",
       "\\hline \\multicolumn{2}{|l|}{Tue Sep 05 12:12:49 2023 MDT} \\\\ \\hline\n",
       "\\end{tabular}\n"
      ],
      "text/plain": [
       "Software versions\n",
       "Python 3.11.4 64bit [Clang 15.0.7 ]\n",
       "IPython 8.14.0\n",
       "OS macOS 13.5.1 arm64 arm 64bit\n",
       "version_information 1.0.3\n",
       "Tue Sep 05 12:12:49 2023 MDT"
      ]
     },
     "execution_count": 22,
     "metadata": {},
     "output_type": "execute_result"
    }
   ],
   "source": [
    "################################################################\n",
    "#\n",
    "# Loading Version Information\n",
    "#\n",
    "\n",
    "%load_ext version_information\n",
    "%version_information version_information\n",
    "\n",
    "#\n",
    "################################################################"
   ]
  },
  {
   "cell_type": "code",
   "execution_count": null,
   "metadata": {},
   "outputs": [],
   "source": []
  }
 ],
 "metadata": {
  "kernelspec": {
   "display_name": "Python 3 (ipykernel)",
   "language": "python",
   "name": "python3"
  },
  "language_info": {
   "codemirror_mode": {
    "name": "ipython",
    "version": 3
   },
   "file_extension": ".py",
   "mimetype": "text/x-python",
   "name": "python",
   "nbconvert_exporter": "python",
   "pygments_lexer": "ipython3",
   "version": "3.11.4"
  }
 },
 "nbformat": 4,
 "nbformat_minor": 4
}
