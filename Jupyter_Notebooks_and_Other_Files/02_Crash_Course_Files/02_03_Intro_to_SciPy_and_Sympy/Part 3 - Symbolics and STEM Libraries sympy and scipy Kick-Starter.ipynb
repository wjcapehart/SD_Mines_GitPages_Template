{
 "cells": [
  {
   "cell_type": "markdown",
   "metadata": {},
   "source": [
    "![CEE Masthead](http://kyrill.ias.sdsmt.edu/wjc/eduresources/CEE_284_Masthead.png)\n",
    "# Part 3 : Symbolics and STEM Libraries: SymPy and SciPy (Starter-Pack)\n",
    "\n",
    "\n",
    "Last time we explored working with plotting and also working with the basic math-and-array library for python.  \n",
    "\n",
    "Today we are going to get a little more abstract with two libraries that manage advance math.  This will also empower us to be able to attack Roots and Matrices.   \n",
    "\n",
    "These two libraries are\n",
    "\n",
    "[SciPy](https://scipy.org/scipylib/index.html) : A set of resources for linear algebra, statistics, and differentiation/integration.\n",
    "[SymPy](https://www.sympy.org/en/index.html) : A symbolic computer algebra system (which does a few things that we’ve done with Mathcad.\n",
    "\n",
    "We’ll start by exploring SymPy and then move forward with some tricks in SciPy.  This will then have us ready to start attacking some of our past homework assignments the “python” way.  "
   ]
  },
  {
   "cell_type": "markdown",
   "metadata": {},
   "source": [
    "## Loading the Libraries\n",
    "\n",
    "Let's start by loading up a set of libraries that we'll be working with today.\n",
    "\n",
    "Along with the above two libraries we'll be digging out NumPy and Matplotlib.\n",
    "\n",
    "Let's call our four libraries using the handle system to \"grab\" them when we run our program."
   ]
  },
  {
   "cell_type": "code",
   "execution_count": 1,
   "metadata": {},
   "outputs": [],
   "source": [
    "##########################################################\n",
    "#\n",
    "# Library Calls.\n",
    "#\n",
    "\n",
    "import numpy             as np\n",
    "import matplotlib.pyplot as plt\n",
    "\n",
    "# loading sympy\n",
    "\n",
    "import sympy             as sym\n",
    "\n",
    "# For SciPy, there are some modules that you will need to\n",
    "#    explicitly pull (rather like the pyplot area \n",
    "#    of matplotlib)\n",
    "\n",
    "import scipy             as sci     # basic scipy \n",
    "import scipy.integrate   as sciint  # integration tools\n",
    "import scipy.optimize    as sciopt  # optimization tools (for roots)\n",
    "import scipy.linalg      as scilina # linear algebra tools \n",
    "import scipy.misc        as scimisc # some other tools (includes derivatives)\n",
    " \n",
    "\n",
    "\n",
    "#\n",
    "##########################################################"
   ]
  },
  {
   "cell_type": "markdown",
   "metadata": {},
   "source": [
    "## Sympy Play\n",
    "\n",
    "\n",
    "### Starting with Making a Variable\n",
    "Variables in symbolic math solvers be it with Python or also with MATLAB are handled differently than an ordinary variable or array.  \n",
    "\n",
    "To play in SymPy, we create a variable (or symbol).  This will be independant of the numpy library we worked with last session as will alot of things we'll be doing in this part of today's exercise.   \n",
    "\n",
    "To access the the function to create a variable, just as we did with the numpy library, we invoke the library and then the symbols() function.  The documentation for it is here:  [sympy.symbols](https://docs.sympy.org/latest/modules/core.html#sympy.core.symbol.symbols).\n"
   ]
  },
  {
   "cell_type": "code",
   "execution_count": 2,
   "metadata": {},
   "outputs": [],
   "source": [
    "################################################################\n",
    "#\n",
    "# Let's make a x and y for use in symbolic solutions\n",
    "#\n",
    "\n",
    "\n",
    "\n",
    "#\n",
    "################################################################"
   ]
  },
  {
   "cell_type": "markdown",
   "metadata": {},
   "source": [
    "### A Little Calc-Fu\n",
    "\n",
    "Now let's test this with something simple:  Let's do a very simple derivative using the [sympy.diff](https://docs.sympy.org/latest/modules/core.html#sympy.core.function.diff) function:  \n",
    "\n",
    "$$ \\frac{d}{dx}\\left(x^2 - 3 x + 2 \\right) $$"
   ]
  },
  {
   "cell_type": "code",
   "execution_count": 3,
   "metadata": {},
   "outputs": [],
   "source": [
    "################################################################\n",
    "#\n",
    "# Demonstrating how differentiate\n",
    "#  a very simple math function\n",
    "#\n",
    "\n",
    "            # and we're differentiating by \"x\"\n",
    "\n",
    "#\n",
    "################################################################"
   ]
  },
  {
   "cell_type": "markdown",
   "metadata": {},
   "source": [
    "Ooooo... Pretty.  If you look closely the font is different than the normal python output.  That's acutally HTML in Jupyter.  (It's not as pretty if you have to work in a boring terminal.  Indeed the results can be so ugly that I avoided SymPy before working with Jupyter Notebooks.  "
   ]
  },
  {
   "cell_type": "markdown",
   "metadata": {},
   "source": [
    "OK now let's try this one (more relevant to what we are doing above with pi!)...\n",
    "\n",
    "$$ \\frac{d}{dx}\\left( 4  \\arctan{x} \\right) $$\n",
    "\n",
    "(Note that we will need to use SymPy's version of any math function that you'd otherwise use from the NumPy python library where you'd normally do your number-crunching.)"
   ]
  },
  {
   "cell_type": "code",
   "execution_count": 4,
   "metadata": {},
   "outputs": [],
   "source": [
    "################################################################\n",
    "#\n",
    "# Demonstrating how differentiate\n",
    "#  using a basic math function \n",
    "#\n",
    "\n",
    "\n",
    "\n",
    "#\n",
    "################################################################"
   ]
  },
  {
   "cell_type": "markdown",
   "metadata": {},
   "source": [
    "still pretty.\n",
    "\n",
    "Bet you can guess what we do next:\n",
    "\n",
    "We can symbolically integrate as well... (We'll use SciPy for this shortly.)  Such as the one from our pi example.  The function for symbolic integration, while accessable from the \"root\" sympy library area is [sympy.integrals.integrals.integrate](https://docs.sympy.org/latest/modules/integrals/integrals.html#sympy.integrals.integrals.integrate)\n",
    "\n",
    "$$ \\int {\\frac{4}{1 + x^2}}dx  $$"
   ]
  },
  {
   "cell_type": "code",
   "execution_count": 5,
   "metadata": {},
   "outputs": [],
   "source": [
    "################################################################\n",
    "#\n",
    "# Demonstrating how integrate a function \n",
    "#\n",
    "\n",
    "#\n",
    "################################################################"
   ]
  },
  {
   "cell_type": "markdown",
   "metadata": {},
   "source": [
    "And we can request specific ranges for our integral!\n",
    "\n",
    "$$ \\int_{0}^{1} {\\frac{4}{1 + x^2}}dx  $$"
   ]
  },
  {
   "cell_type": "code",
   "execution_count": 6,
   "metadata": {},
   "outputs": [],
   "source": [
    "################################################################\n",
    "#\n",
    "# Demonstrating how integrate a function \n",
    "#   over a range (this time the last one is inclusive)\n",
    "#\n",
    "\n",
    "\n",
    "#\n",
    "################################################################"
   ]
  },
  {
   "cell_type": "markdown",
   "metadata": {},
   "source": [
    "(Honestly the first time I did this on Jupyter, I was expecting the equivalent of np.pi!)"
   ]
  },
  {
   "cell_type": "markdown",
   "metadata": {},
   "source": [
    "### Simple Root-Fu!\n",
    "\n",
    "We'll play rough with roots with SciPy shortly as well... but let's do a little Sympi fun first.\n",
    "\n",
    "Let's try a basic quadradic equation!  Here we can pretend that we've already slammed all of our terms on one side of the equal sign.\n",
    "\n",
    "$$ f(x) = x^2 - 3 x + 2 $$\n",
    "\n",
    "(This is one the school board would allow Mrs Mercer to give you in Middle School and it's easy to factor without fighting with or having to remember the quadradic equation song.)\n",
    "\n",
    "But remember... what do we do first? \n",
    "\n",
    "Yup, we plot it!\n",
    "\n",
    "SymPy has a separate [plotting library](https://docs.sympy.org/latest/modules/plotting.html) using elements from matplotlib comes in handy here... You can also zero in on your x-range in a way that is similar to the above calculus integration method!  The default, like Mathcad, is to plot x from -10 to +10."
   ]
  },
  {
   "cell_type": "code",
   "execution_count": 7,
   "metadata": {},
   "outputs": [],
   "source": [
    "################################################################\n",
    "#\n",
    "# Showing how to plot a function using \n",
    "#   the SymPy package (and how to plot it\n",
    "#   over a range where x is bounded between \n",
    "#   0 and 3).\n",
    "#\n",
    "\n",
    "\n",
    "#\n",
    "################################################################\n",
    "\n"
   ]
  },
  {
   "cell_type": "markdown",
   "metadata": {},
   "source": [
    "For a more complicated problem you could now fetch a couple values on the x axis for first guesses of your root!\n",
    "\n",
    "But let's try this function below to solve the system using [sympy.solve](https://docs.sympy.org/latest/modules/solvers/solvers.html?highlight=sympy.solve#sympy.solvers.solvers.solve)."
   ]
  },
  {
   "cell_type": "code",
   "execution_count": 8,
   "metadata": {},
   "outputs": [],
   "source": [
    "################################################################\n",
    "#\n",
    "# Demonstrating the Sym.Solve Function\n",
    "#\n",
    "\n",
    "\n",
    "#\n",
    "################################################################"
   ]
  },
  {
   "cell_type": "markdown",
   "metadata": {},
   "source": [
    "And we can have a little more fun (if you think flashbacks back to Mrs Mercer's Algebra class is \"fun.\") with [sympy.factor](https://docs.sympy.org/latest/modules/polys/reference.html?highlight=factor#sympy.polys.polytools.factor)"
   ]
  },
  {
   "cell_type": "code",
   "execution_count": 9,
   "metadata": {},
   "outputs": [],
   "source": [
    "################################################################\n",
    "#\n",
    "# Showing-off the Factoring Function\n",
    "#\n",
    "\n",
    "\n",
    "#\n",
    "################################################################"
   ]
  },
  {
   "cell_type": "markdown",
   "metadata": {},
   "source": [
    "We can also do a bounded root solution (For a simple nonlinear equation, it's defaulting to the secant method. It can also manage oversolved / overdetermined systems.).  Here we use [sympy.nsolve](https://docs.sympy.org/latest/modules/solvers/solvers.html?highlight=nsolve#sympy.solvers.solvers.nsolve)."
   ]
  },
  {
   "cell_type": "code",
   "execution_count": 10,
   "metadata": {},
   "outputs": [],
   "source": [
    "################################################################\n",
    "#\n",
    "# Showing-off the Nsolve Function\n",
    "#\n",
    "\n",
    "\n",
    "#\n",
    "################################################################"
   ]
  },
  {
   "cell_type": "code",
   "execution_count": 11,
   "metadata": {},
   "outputs": [],
   "source": [
    "################################################################\n",
    "#\n",
    "# Showing-off the Nsolve Function WITH verbose output\n",
    "#\n",
    "\n",
    "\n",
    "#\n",
    "################################################################"
   ]
  },
  {
   "cell_type": "code",
   "execution_count": 12,
   "metadata": {},
   "outputs": [],
   "source": [
    "################################################################\n",
    "#\n",
    "# MORE Showing-off the Nsolve Function WITH verbose output\n",
    "#\n",
    "\n",
    "\n",
    "#\n",
    "################################################################"
   ]
  },
  {
   "cell_type": "code",
   "execution_count": 13,
   "metadata": {},
   "outputs": [],
   "source": [
    "################################################################\n",
    "#\n",
    "# EVEN MORE Showing-off the Nsolve Function WITH STILL MORE \n",
    "#       verbose output\n",
    "#\n",
    "\n",
    "\n",
    "\n",
    "\n",
    "#\n",
    "################################################################"
   ]
  },
  {
   "cell_type": "markdown",
   "metadata": {},
   "source": [
    "### A Couple Simultaneous Equations, (Root-Style)\n",
    "\n",
    "Let's now leverage symbolic solutions to do some simple simultaneous equations.\n",
    "\n",
    "Consider our standard linaer equation pair.\n",
    "\n",
    "$$f(x,y) = 2x-y+2$$\n",
    "$$g(x,y) = 2x+y-6$$\n",
    "\n",
    "recall from our earlier work that \n",
    "$$x = 1$$\n",
    "$$y = 4$$\n",
    "\n",
    "We'll explore a few elements of this that demonstrate the SymPy features\n",
    "\n",
    "First we'll need a symbolic symbol for y:"
   ]
  },
  {
   "cell_type": "code",
   "execution_count": 14,
   "metadata": {},
   "outputs": [],
   "source": [
    "################################################################\n",
    "#\n",
    "# Solve the two equations symbolically using the same tool\n",
    "#\n",
    "\n",
    "\n",
    "#\n",
    "################################################################"
   ]
  },
  {
   "cell_type": "markdown",
   "metadata": {},
   "source": [
    "We can also prep our equations for plotting"
   ]
  },
  {
   "cell_type": "code",
   "execution_count": 15,
   "metadata": {},
   "outputs": [],
   "source": [
    "################################################################\n",
    "#\n",
    "# Solve the two equations symbolically using the same tool\n",
    "#\n",
    "\n",
    "\n",
    "\n",
    "#\n",
    "################################################################"
   ]
  },
  {
   "cell_type": "markdown",
   "metadata": {},
   "source": [
    "and we can plot!"
   ]
  },
  {
   "cell_type": "code",
   "execution_count": 16,
   "metadata": {},
   "outputs": [],
   "source": [
    "################################################################\n",
    "#\n",
    "# Now let's plot two equations at once.\n",
    "#\n",
    "\n",
    "\n",
    "                                   \n",
    "\n",
    "#\n",
    "################################################################\n",
    "\n"
   ]
  },
  {
   "cell_type": "markdown",
   "metadata": {},
   "source": [
    "and now let's do some of these steps in our other library to explore in this session:  SciPy\n",
    "\n",
    "## Exploring Some Features in SciPy\n",
    "\n",
    "We'll mirror some of our earier work from above \n",
    "\n",
    "Let's start with our arctangent-pi play from above.\n",
    "\n",
    "$  f(x) = \\frac{4}{1+x^2} $\n",
    "\n",
    "Here is how we express this in a [function](https://docs.python.org/3/tutorial/controlflow.html#defining-functions) in Python. (You can also do this with pi from our previous sessions.)"
   ]
  },
  {
   "cell_type": "code",
   "execution_count": 17,
   "metadata": {},
   "outputs": [],
   "source": [
    "################################################################\n",
    "#\n",
    "# let's make a \"function\" in python\n",
    "#\n",
    "\n",
    "\n",
    "\n",
    "#\n",
    "################################################################"
   ]
  },
  {
   "cell_type": "markdown",
   "metadata": {},
   "source": [
    "... and plot it out (As you get braver and more confortable with plotting in python there are tools that make nice and fancy plots, but for now let's keep it basic but with a few simple to make embelishments from last time using horizontal and vertical lines through our x=0 and y=0 axes with [matplotlib.pyplot.axhline](https://matplotlib.org/3.2.1/api/_as_gen/matplotlib.pyplot.axhline.html) and [matplotlib.pyplot.axvline](https://matplotlib.org/3.2.1/api/_as_gen/matplotlib.pyplot.axvline.html#matplotlib.pyplot.axvline)"
   ]
  },
  {
   "cell_type": "code",
   "execution_count": 18,
   "metadata": {},
   "outputs": [],
   "source": [
    "################################################################\n",
    "#\n",
    "# testing our function\n",
    "#\n",
    "\n",
    "\n",
    "\n",
    "#\n",
    "# replotting the function with matplotlib\n",
    "#\n",
    "\n",
    "\n",
    "\n",
    "\n",
    "#\n",
    "# (with those axes set you can toss in a pair of \n",
    "#  reference lines for your true x and y axes)\n",
    "#\n",
    "\n",
    "\n",
    "#\n",
    "################################################################"
   ]
  },
  {
   "cell_type": "markdown",
   "metadata": {},
   "source": [
    "What's that derivative where x = 1? This will be a quantitative, not symbolic, calculation dervived at a given value on the \"number line\" using [scipy.misc.derivative](https://docs.scipy.org/doc/scipy/reference/generated/scipy.misc.derivative.html)"
   ]
  },
  {
   "cell_type": "code",
   "execution_count": 19,
   "metadata": {},
   "outputs": [],
   "source": [
    "################################################################\n",
    "#\n",
    "# a simple derivative evaluated at a given value\n",
    "#\n",
    "\n",
    "\n",
    "\n",
    "#\n",
    "################################################################"
   ]
  },
  {
   "cell_type": "markdown",
   "metadata": {},
   "source": [
    "And let's say that our uncertainty of x ($\\Delta x$) is 0.01.  Recalling how error propagates.\n",
    "\n",
    "$$\\Delta f = \\frac{df}{dx}\\Delta x$$ so... "
   ]
  },
  {
   "cell_type": "code",
   "execution_count": 20,
   "metadata": {},
   "outputs": [],
   "source": [
    "################################################################\n",
    "#\n",
    "# a simple derivative\n",
    "#\n",
    "\n",
    "\n",
    "\n",
    "\n",
    "#\n",
    "################################################################"
   ]
  },
  {
   "cell_type": "markdown",
   "metadata": {},
   "source": [
    "### Estimating Integrals\n",
    "\n",
    "We can also get the area under the curve with a set of [integration functions](https://docs.scipy.org/doc/scipy/reference/integrate.html).\n",
    "\n",
    "The most basic function for integrating that has worked well for me is [scipy.integrate.quad](https://docs.scipy.org/doc/scipy/reference/integrate.html) (short for the quadrature method of estimating integrals).  \n",
    "\n",
    "Let's integrate over our test-case function from 0 to 1 which as you recall should be $\\pi$"
   ]
  },
  {
   "cell_type": "code",
   "execution_count": 21,
   "metadata": {},
   "outputs": [],
   "source": [
    "################################################################\n",
    "#\n",
    "# a simple integration\n",
    "#\n",
    "\n",
    "\n",
    "\n",
    "#\n",
    "# (that trailing value in the result is the absolute error of\n",
    "#  the estimated integral - as you can see this one is effectively\n",
    "#  zero)\n",
    "#\n",
    "\n",
    "#\n",
    "################################################################"
   ]
  },
  {
   "cell_type": "markdown",
   "metadata": {},
   "source": [
    "### Roots in SciPy\n",
    "\n",
    "There are a number of [functions](https://docs.scipy.org/doc/scipy/reference/optimize.html) for optimization (finding the \"least bad\" result) and root-finding (finding the perfect \"zero\") in SciPy.  \n",
    "\n",
    "Since our current f(x) doesn't cut through zero let's make a new function with our earlier quadradic example."
   ]
  },
  {
   "cell_type": "code",
   "execution_count": 22,
   "metadata": {},
   "outputs": [
    {
     "ename": "IndentationError",
     "evalue": "unexpected indent (<ipython-input-22-bf1e3c3b56ef>, line 12)",
     "output_type": "error",
     "traceback": [
      "\u001b[0;36m  File \u001b[0;32m\"<ipython-input-22-bf1e3c3b56ef>\"\u001b[0;36m, line \u001b[0;32m12\u001b[0m\n\u001b[0;31m    color = 'black') # \"paint it black\"\u001b[0m\n\u001b[0m    ^\u001b[0m\n\u001b[0;31mIndentationError\u001b[0m\u001b[0;31m:\u001b[0m unexpected indent\n"
     ]
    }
   ],
   "source": [
    "################################################################\n",
    "#\n",
    "# let's make another function in python\n",
    "#\n",
    "\n",
    "\n",
    "#\n",
    "# replotting the function with matplotlib\n",
    "#\n",
    "\n",
    "\n",
    "                color = 'black') # \"paint it black\"\n",
    "\n",
    "#\n",
    "################################################################"
   ]
  },
  {
   "cell_type": "markdown",
   "metadata": {},
   "source": [
    "There are a number of root-finding functions (you have to go below the optimization routines on the above link to the area discussing [\"root finding\"](https://docs.scipy.org/doc/scipy/reference/optimize.html#root-finding)).  You will recognize functions for bisection, newton and sectant methods.... For False Position Brent's and Ridder's methods are \"improvements\" to the original classic false position scheme."
   ]
  },
  {
   "cell_type": "code",
   "execution_count": null,
   "metadata": {},
   "outputs": [],
   "source": [
    "################################################################\n",
    "#\n",
    "# Playing with a Newton Raphson Solver.\n",
    "#\n",
    "\n",
    "\n",
    "\n",
    "# \"they go low, we go high and drop rocks on'em.\"\n",
    "\n",
    "\n",
    "\n",
    "#\n",
    "################################################################"
   ]
  },
  {
   "cell_type": "code",
   "execution_count": null,
   "metadata": {},
   "outputs": [],
   "source": [
    "################################################################\n",
    "#\n",
    "# Playing with a Secant Solver.\n",
    "#\n",
    "\n",
    "\n",
    "\n",
    "#\n",
    "# Playing with a False Position (Brent's) Solver.\n",
    "#\n",
    "\n",
    "\n",
    "\n",
    "#\n",
    "################################################################"
   ]
  },
  {
   "cell_type": "markdown",
   "metadata": {},
   "source": [
    "### Linear Algebra\n",
    "Both NumPy and SciPy both have linear algebra funcitons.  [Scipy has some spiffier additions](https://docs.scipy.org/doc/scipy/reference/linalg.html) though so I use that when I do matrix-fu.\n",
    "\n",
    "Let's use our above equations...\n",
    "\n",
    "$$f(x,y) = 2x-y+2$$\n",
    "$$g(x,y) = 2x+y-6$$\n",
    "\n",
    "which creates a matrix system\n",
    "\n",
    "$$\\mathbf{A}=\\begin{bmatrix}\n",
    "2 & -1 \\\\ \n",
    "2 & 1 \n",
    "\\end{bmatrix}  \\vec{b}=\\begin{bmatrix}\n",
    "-2\\\\ \n",
    "6\n",
    "\\end{bmatrix}$$"
   ]
  },
  {
   "cell_type": "code",
   "execution_count": null,
   "metadata": {},
   "outputs": [],
   "source": [
    "################################################################\n",
    "#\n",
    "# Using NumPy to make the array\n",
    "#\n",
    "\n",
    "\n",
    "\n",
    "# you can also make b like this: np.array([-2,6])\n",
    "#   frequently a 1-d array will be automatically treated\n",
    "#   like a \"vertical\" vector in some languates\n",
    "#\n",
    "################################################################"
   ]
  },
  {
   "cell_type": "markdown",
   "metadata": {},
   "source": [
    "With this we can do some basic Matrix Operations... "
   ]
  },
  {
   "cell_type": "code",
   "execution_count": null,
   "metadata": {},
   "outputs": [],
   "source": [
    "################################################################\n",
    "#\n",
    "# Calculate Determinant and Inverse\n",
    "#\n",
    "\n",
    "\n",
    "\n",
    "#\n",
    "################################################################"
   ]
  },
  {
   "cell_type": "markdown",
   "metadata": {},
   "source": [
    "Finally we have the ability to solve matrix systems without an intermediate matix inverse step."
   ]
  },
  {
   "cell_type": "code",
   "execution_count": null,
   "metadata": {},
   "outputs": [],
   "source": [
    "################################################################\n",
    "#\n",
    "# Calculate Determinant and Inverse\n",
    "#\n",
    "\n",
    "\n",
    "\n",
    "#\n",
    "################################################################"
   ]
  },
  {
   "cell_type": "markdown",
   "metadata": {},
   "source": [
    "## Final Note\n",
    "\n",
    "There are a LOT of other resources available in SciPy. Nobody could (or should) try to dig into them all at one setting.  There are also resources for statistics and specialized physics problems but, I will save the former for another session where we replicate your previous assignments.  "
   ]
  },
  {
   "cell_type": "markdown",
   "metadata": {},
   "source": [
    "# Version Information"
   ]
  },
  {
   "cell_type": "code",
   "execution_count": 23,
   "metadata": {},
   "outputs": [
    {
     "data": {
      "application/json": {
       "Software versions": [
        {
         "module": "Python",
         "version": "3.7.7 64bit [Clang 11.0.0 (clang-1100.0.33.17)]"
        },
        {
         "module": "IPython",
         "version": "7.13.0"
        },
        {
         "module": "OS",
         "version": "Darwin 19.4.0 x86_64 i386 64bit"
        },
        {
         "module": "version_information",
         "version": "1.0.3"
        },
        {
         "module": "numpy",
         "version": "1.18.2"
        },
        {
         "module": "sympy",
         "version": "1.5.1"
        },
        {
         "module": "scipy",
         "version": "1.4.1"
        },
        {
         "module": "matplotlib",
         "version": "3.2.1"
        }
       ]
      },
      "text/html": [
       "<table><tr><th>Software</th><th>Version</th></tr><tr><td>Python</td><td>3.7.7 64bit [Clang 11.0.0 (clang-1100.0.33.17)]</td></tr><tr><td>IPython</td><td>7.13.0</td></tr><tr><td>OS</td><td>Darwin 19.4.0 x86_64 i386 64bit</td></tr><tr><td>version_information</td><td>1.0.3</td></tr><tr><td>numpy</td><td>1.18.2</td></tr><tr><td>sympy</td><td>1.5.1</td></tr><tr><td>scipy</td><td>1.4.1</td></tr><tr><td>matplotlib</td><td>3.2.1</td></tr><tr><td colspan='2'>Fri Apr 17 12:59:49 2020 MDT</td></tr></table>"
      ],
      "text/latex": [
       "\\begin{tabular}{|l|l|}\\hline\n",
       "{\\bf Software} & {\\bf Version} \\\\ \\hline\\hline\n",
       "Python & 3.7.7 64bit [Clang 11.0.0 (clang-1100.0.33.17)] \\\\ \\hline\n",
       "IPython & 7.13.0 \\\\ \\hline\n",
       "OS & Darwin 19.4.0 x86\\_64 i386 64bit \\\\ \\hline\n",
       "version_information & 1.0.3 \\\\ \\hline\n",
       "numpy & 1.18.2 \\\\ \\hline\n",
       "sympy & 1.5.1 \\\\ \\hline\n",
       "scipy & 1.4.1 \\\\ \\hline\n",
       "matplotlib & 3.2.1 \\\\ \\hline\n",
       "\\hline \\multicolumn{2}{|l|}{Fri Apr 17 12:59:49 2020 MDT} \\\\ \\hline\n",
       "\\end{tabular}\n"
      ],
      "text/plain": [
       "Software versions\n",
       "Python 3.7.7 64bit [Clang 11.0.0 (clang-1100.0.33.17)]\n",
       "IPython 7.13.0\n",
       "OS Darwin 19.4.0 x86_64 i386 64bit\n",
       "version_information 1.0.3\n",
       "numpy 1.18.2\n",
       "sympy 1.5.1\n",
       "scipy 1.4.1\n",
       "matplotlib 3.2.1\n",
       "Fri Apr 17 12:59:49 2020 MDT"
      ]
     },
     "execution_count": 23,
     "metadata": {},
     "output_type": "execute_result"
    }
   ],
   "source": [
    "################################################################\n",
    "#\n",
    "# Loading Version Information\n",
    "#\n",
    "\n",
    "%load_ext version_information\n",
    "\n",
    "%version_information version_information, numpy, sympy, scipy, matplotlib\n",
    "\n",
    "#\n",
    "################################################################"
   ]
  },
  {
   "cell_type": "code",
   "execution_count": null,
   "metadata": {},
   "outputs": [],
   "source": []
  }
 ],
 "metadata": {
  "kernelspec": {
   "display_name": "Python 3",
   "language": "python",
   "name": "python3"
  },
  "language_info": {
   "codemirror_mode": {
    "name": "ipython",
    "version": 3
   },
   "file_extension": ".py",
   "mimetype": "text/x-python",
   "name": "python",
   "nbconvert_exporter": "python",
   "pygments_lexer": "ipython3",
   "version": "3.7.7"
  }
 },
 "nbformat": 4,
 "nbformat_minor": 2
}
