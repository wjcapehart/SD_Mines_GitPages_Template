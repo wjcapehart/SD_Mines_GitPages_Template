{
 "cells": [
  {
   "cell_type": "markdown",
   "metadata": {},
   "source": [
    "###### ![CEE Masthead](http://kyrill.ias.sdsmt.edu/wjc/eduresources/CEE_284_Masthead.png)\n",
    "# Part 6 -- Solving Simultaneous Equations in Python\n",
    "\n",
    "In this exercise we will be solving our truss problem both as a matrix algebra problem *and* as a generic simultaneous equation question.\n",
    "\n",
    "The text parts of this exercise also use a lot of LaTeX Equations. An online tool to help with make these equations can be found at the address below.\n",
    "\n",
    "[https://www.codecogs.com/latex/eqneditor.php](https://www.codecogs.com/latex/eqneditor.php)\n",
    "\n"
   ]
  },
  {
   "cell_type": "markdown",
   "metadata": {},
   "source": [
    "## Libraries\n",
    "\n",
    "For Here we are going to limit ourselves to as few libraries as possible. These root problems we are going to try to use as few libraries as possible.  The slimmer a script is the better.\n",
    "\n",
    "* [NumPy](https://docs.scipy.org/doc/numpy/reference/routines.math.html) for some basic math functions\n",
    "* [SciPy](https://docs.scipy.org/doc/scipy/reference/optimize.html) for optimization\n",
    "* [SymPy](https://www.sympy.org/en/index.html) for symbolic solutions\n"
   ]
  },
  {
   "cell_type": "code",
   "execution_count": 1,
   "metadata": {},
   "outputs": [],
   "source": [
    "################################################\n",
    "#\n",
    "# Libraries\n",
    "#\n",
    "\n",
    "import numpy             as np\n",
    "import scipy.optimize    as opt\n",
    "import sympy             as sym\n",
    "\n",
    "#\n",
    "################################################"
   ]
  },
  {
   "cell_type": "markdown",
   "metadata": {},
   "source": [
    "## Problem 1 : Our Truss Case\n",
    "\n",
    "Let's explore our basic truss problem:\n",
    "\n",
    "> Consider the system below.  Solve for $F_1$, $F_2$, $F_3$, $H_2$, $V_2$, and $V_3$. Correct answers in red.\n",
    "\n",
    "![Simple Truss Figure](http://kyrill.ias.sdsmt.edu/wjc/eduresources/Simple_Truss.png)\n",
    "\n"
   ]
  },
  {
   "cell_type": "markdown",
   "metadata": {},
   "source": [
    "### Problem Setup\n",
    "Let's start by setting up the constants.\n",
    "\n",
    "#### Basic Equations\n",
    "\n",
    "Let's set up the basic balance equations.\n",
    "\n",
    "We'll have six equations.  Since we have sines and cosines in the formulae we will need two sets of equations if we want to play with the symbolic and SciPy/NumPy solvers.\n",
    "\n",
    "\n",
    "$$f_{1x}\\left( F_1,F_3  \\right)     = -F_1 \\cos \\theta_2 + F_3 \\cos \\theta_3 + P_{1x}$$\n",
    "$$f_{1y}\\left( F_1,F_3  \\right)     = -F_1 \\sin \\theta_2 - F_3 \\sin \\theta_3 + P_{1y}$$\n",
    "\n",
    "$$f_{2x}\\left( F_1,F_2,H_2  \\right) =  F_1 \\cos \\theta_2 + F_2 + H_2       + P_{2x}$$\n",
    "$$f_{2y}\\left( F_1,V_2  \\right)     =  F_1 \\sin \\theta_2             + V_2 + P_{2y}$$\n",
    "\n",
    "$$f_{3x}\\left( F_2,F_3 \\right)      = -F_2 - F_3 \\cos \\theta_3       + P_{3x}$$\n",
    "$$f_{3y}\\left( F_3,V_3  \\right)     =        F_3 \\sin \\theta_3 + V_3 + P_{3y}$$\n",
    "\n",
    "#### Matrix Setup\n",
    "\n",
    "For the matrix setup the above equations translates into the linear algebra system\n",
    "\n",
    "(also Fun Fact: Doing Matricies in LaTeX Markdown is even worse than doing it in MS Word's new Equation Editor even with the Web Tool!)\n",
    "\n",
    "$$\\mathbf{F} \\vec{f}=-\\vec{p}$$\n",
    "\n",
    "$$\\begin{bmatrix}\n",
    "-\\cos\\theta_2 &  0 &  \\cos\\theta_3 & 0 & 0 & 0 \\\\ \n",
    "-\\sin\\theta_2 &  0 & -\\sin\\theta_3 & 0 & 0 & 0 \\\\ \n",
    " \\cos\\theta_2 &  1 &       0       & 1 & 0 & 0 \\\\  \n",
    " \\sin\\theta_2 &  0 &       0       & 0 & 1 & 0 \\\\ \n",
    "        0     & -1 & -\\cos\\theta_3 & 0 & 0 & 0 \\\\ \n",
    "        0     &  0 &  \\sin\\theta_3 & 0 & 0 & 1\n",
    "\\end{bmatrix}\n",
    "\\begin{bmatrix}\n",
    "F_1\\\\ \n",
    "F_2\\\\ \n",
    "F_3\\\\ \n",
    "H_2\\\\ \n",
    "V_2\\\\ \n",
    "V_3\n",
    "\\end{bmatrix}\n",
    "=\n",
    "\\begin{bmatrix}\n",
    "-P_{1x}\\\\ \n",
    "-P_{1y}\\\\\n",
    "-P_{2x}\\\\ \n",
    "-P_{2y}\\\\\n",
    "-P_{3x}\\\\\n",
    "-P_{3y}\\\n",
    "\\end{bmatrix}$$"
   ]
  },
  {
   "cell_type": "markdown",
   "metadata": {},
   "source": [
    "#### Constants and Parameters\n",
    "Let's load up our known values.  Notice that handy function that comes with NumPy to convert Degrees to Radians."
   ]
  },
  {
   "cell_type": "code",
   "execution_count": 2,
   "metadata": {},
   "outputs": [],
   "source": [
    "################################################\n",
    "#\n",
    "# Constants and Parameters\n",
    "#\n",
    "\n",
    "theta_2 = np.radians(30.0) \n",
    "theta_3 = np.radians(60.0) \n",
    "\n",
    "P1x     =     0.\n",
    "P1y     = -1000.\n",
    "\n",
    "P2x     =     0.\n",
    "P2y     =     0.\n",
    "\n",
    "P3x     =     0.\n",
    "P3y     =     0.\n",
    "\n",
    "#\n",
    "################################################"
   ]
  },
  {
   "cell_type": "markdown",
   "metadata": {},
   "source": [
    "### Treating the System as a System of Simutaneous Equations\n",
    "\n",
    "Let's start by creating a symbolic solution system (we'll prefix these functions with a \"*g*\")"
   ]
  },
  {
   "cell_type": "code",
   "execution_count": 3,
   "metadata": {},
   "outputs": [
    {
     "name": "stdout",
     "output_type": "stream",
     "text": [
      "\n",
      ">> Symbolic Equation System\n",
      "\n"
     ]
    },
    {
     "data": {
      "text/latex": [
       "$\\displaystyle - 0.866025403784439 F_{1} + 0.5 F_{3}$"
      ],
      "text/plain": [
       "-0.866025403784439*F_1 + 0.5*F_3"
      ]
     },
     "metadata": {},
     "output_type": "display_data"
    },
    {
     "data": {
      "text/latex": [
       "$\\displaystyle - 0.5 F_{1} - 0.866025403784439 F_{3} - 1000.0$"
      ],
      "text/plain": [
       "-0.5*F_1 - 0.866025403784439*F_3 - 1000.0"
      ]
     },
     "metadata": {},
     "output_type": "display_data"
    },
    {
     "name": "stdout",
     "output_type": "stream",
     "text": [
      "\n"
     ]
    },
    {
     "data": {
      "text/latex": [
       "$\\displaystyle 0.866025403784439 F_{1} + F_{2} + H_{2}$"
      ],
      "text/plain": [
       "0.866025403784439*F_1 + F_2 + H_2"
      ]
     },
     "metadata": {},
     "output_type": "display_data"
    },
    {
     "data": {
      "text/latex": [
       "$\\displaystyle 0.5 F_{1} + V_{2}$"
      ],
      "text/plain": [
       "0.5*F_1 + V_2"
      ]
     },
     "metadata": {},
     "output_type": "display_data"
    },
    {
     "name": "stdout",
     "output_type": "stream",
     "text": [
      "\n"
     ]
    },
    {
     "data": {
      "text/latex": [
       "$\\displaystyle - F_{2} - 0.5 F_{3}$"
      ],
      "text/plain": [
       "-F_2 - 0.5*F_3"
      ]
     },
     "metadata": {},
     "output_type": "display_data"
    },
    {
     "data": {
      "text/latex": [
       "$\\displaystyle 0.5 F_{3} + V_{3}$"
      ],
      "text/plain": [
       "0.5*F_3 + V_3"
      ]
     },
     "metadata": {},
     "output_type": "display_data"
    }
   ],
   "source": [
    "################################################\n",
    "#\n",
    "# SymPy Formulas for Our System\n",
    "#\n",
    "\n",
    "#\n",
    "# Create our \"symbolic variables\"\n",
    "#\n",
    "\n",
    "F1 = sym.symbols(\"F_1\")\n",
    "F2 = sym.symbols(\"F_2\")\n",
    "F3 = sym.symbols(\"F_3\")\n",
    "\n",
    "H2 = sym.symbols(\"H_2\")\n",
    "V2 = sym.symbols(\"V_2\")\n",
    "V3 = sym.symbols(\"V_3\")\n",
    "\n",
    "\n",
    "\n",
    "def g1x(F1, F3):\n",
    "    return( - F1 * sym.cos(theta_2) + F3 * sym.cos(theta_3) + P1x )\n",
    "\n",
    "def g1y(F1, F3):\n",
    "    return( - F1 * sym.sin(theta_2) - F3 * sym.sin(theta_3) + P1y )\n",
    "\n",
    "\n",
    "\n",
    "def g2x(F1, F2, H2):\n",
    "    return( F1 * sym.cos(theta_2) + F2 + H2 + P2x )\n",
    "\n",
    "def g2y(F1, V2):\n",
    "    return( F1 * sym.sin(theta_2) + V2 + P2y )\n",
    "\n",
    "\n",
    "\n",
    "def g3x(F2, F3):\n",
    "    return( -F2 - F3*sym.cos(theta_3) + P3x )\n",
    "\n",
    "def g3y(F3, V3):\n",
    "    return( F3*sym.cos(theta_3) + V3 + P3y )\n",
    "\n",
    "print()\n",
    "print(\">> Symbolic Equation System\")\n",
    "print()\n",
    "display(g1x(F1, F3))\n",
    "display(g1y(F1, F3))\n",
    "print()\n",
    "display(g2x(F1, F2, H2))\n",
    "display(g2y(F1, V2))\n",
    "print()\n",
    "display(g3x(F2, F3))\n",
    "display(g3y(F3, V3))\n",
    "\n",
    "#\n",
    "################################################"
   ]
  },
  {
   "cell_type": "markdown",
   "metadata": {},
   "source": [
    "#### SymPySympy Solution for Simultaneous Equations\n",
    "\n",
    "Early versions of SymPy would recommend the generic solve() function in SymPy. However this is being depreciated in favor of other resources.  The justification for some of the issues and it's replacement sub-package is called [solveset](https://docs.sympy.org/latest/modules/solvers/solveset.html).\n",
    "\n",
    "But for legacy purposes, here is the [sympy.solve](https://docs.sympy.org/latest/modules/solvers/solvers.html) function."
   ]
  },
  {
   "cell_type": "code",
   "execution_count": 4,
   "metadata": {},
   "outputs": [
    {
     "data": {
      "text/plain": [
       "{F_1: -500.000000000000,\n",
       " F_2: 433.012701892219,\n",
       " F_3: -866.025403784438,\n",
       " H_2: 0.0,\n",
       " V_2: 250.000000000000,\n",
       " V_3: 433.012701892219}"
      ]
     },
     "metadata": {},
     "output_type": "display_data"
    }
   ],
   "source": [
    "################################################\n",
    "#\n",
    "# Solving Symbolic Equations in Sympy\n",
    "#\n",
    "\n",
    "solve_eq_sympy = sym.solve([g1x(F1, F3),\n",
    "                            g1y(F1, F3),\n",
    "                            g2x(F1, F2, H2),\n",
    "                            g2y(F1, V2),\n",
    "                            g3x(F2, F3),\n",
    "                            g3y(F3, V3)],\n",
    "                           (F1, F2, F3, H2, V2, V3))\n",
    "\n",
    "\n",
    "display(solve_eq_sympy)\n",
    "\n",
    "#\n",
    "################################################"
   ]
  },
  {
   "cell_type": "markdown",
   "metadata": {},
   "source": [
    "But here are two examples of working with the solveset packages.  \n",
    "\n",
    "First we have the recommended solver for this type of system:  [linsolve](https://docs.sympy.org/latest/modules/solvers/solveset.html#sympy.solvers.solveset.linsolve)"
   ]
  },
  {
   "cell_type": "code",
   "execution_count": 5,
   "metadata": {},
   "outputs": [
    {
     "name": "stdout",
     "output_type": "stream",
     "text": [
      "FiniteSet((-500.0, 433.012701892219, -866.025403784439, 0, 250.0, 433.012701892219))\n"
     ]
    }
   ],
   "source": [
    "################################################\n",
    "#\n",
    "# Solving Symbolic Equations in SymPy with linsolve\n",
    "#\n",
    "\n",
    "linsolve_eq_sympy = sym.linsolve([g1x(F1, F3),\n",
    "                                  g1y(F1, F3),\n",
    "                                  g2x(F1, F2, H2),\n",
    "                                  g2y(F1, V2),\n",
    "                                  g3x(F2, F3),\n",
    "                                  g3y(F3, V3)],\n",
    "                                 (F1, F2, F3, H2, V2, V3))\n",
    "\n",
    "\n",
    "print(linsolve_eq_sympy)\n",
    "\n",
    "#\n",
    "################################################"
   ]
  },
  {
   "cell_type": "markdown",
   "metadata": {},
   "source": [
    "Second we have the recommended solver for a *non*linear system:  [nonlinsolve](https://docs.sympy.org/latest/modules/solvers/solveset.html#sympy.solvers.solveset.nonlinsolve) just to demonstate the function if we had nonlinear terms in our system for future reference."
   ]
  },
  {
   "cell_type": "code",
   "execution_count": 6,
   "metadata": {},
   "outputs": [
    {
     "name": "stdout",
     "output_type": "stream",
     "text": [
      "FiniteSet((-500.0, 433.012701892219, -866.025403784439, 0, 250.0, 433.012701892219))\n"
     ]
    }
   ],
   "source": [
    "################################################\n",
    "#\n",
    "# Solving Symbolic Equations in SymPy with nonlinsolve\n",
    "#\n",
    "\n",
    "nonlinsolve_eq_sympy = sym.nonlinsolve([g1x(F1, F3),\n",
    "                                        g1y(F1, F3),\n",
    "                                        g2x(F1, F2, H2),\n",
    "                                        g2y(F1, V2),\n",
    "                                        g3x(F2, F3),\n",
    "                                        g3y(F3, V3)],\n",
    "                                        (F1, F2, F3, H2, V2, V3))\n",
    "\n",
    "\n",
    "print(nonlinsolve_eq_sympy)\n",
    "\n",
    "#\n",
    "################################################"
   ]
  },
  {
   "cell_type": "markdown",
   "metadata": {},
   "source": [
    "### Solving Matrices with SymPy\n",
    "\n",
    "To make a symbolic matrix we use the [Matrix]() function.  "
   ]
  },
  {
   "cell_type": "code",
   "execution_count": 7,
   "metadata": {},
   "outputs": [
    {
     "data": {
      "text/latex": [
       "$\\displaystyle \\left[\\begin{matrix}-0.866025403784439 & 0 & 0.5 & 0 & 0 & 0\\\\-0.5 & 0 & -0.866025403784439 & 0 & 0 & 0\\\\0.866025403784439 & 1 & 0 & 1 & 0 & 0\\\\0.5 & 0 & 0 & 0 & 1 & 0\\\\0 & -1 & -0.5 & 0 & 0 & 0\\\\0 & 0 & 0.866025403784439 & 0 & 0 & 1\\end{matrix}\\right]$"
      ],
      "text/plain": [
       "Matrix([\n",
       "[-0.866025403784439,  0,                0.5, 0, 0, 0],\n",
       "[              -0.5,  0, -0.866025403784439, 0, 0, 0],\n",
       "[ 0.866025403784439,  1,                  0, 1, 0, 0],\n",
       "[               0.5,  0,                  0, 0, 1, 0],\n",
       "[                 0, -1,               -0.5, 0, 0, 0],\n",
       "[                 0,  0,  0.866025403784439, 0, 0, 1]])"
      ]
     },
     "metadata": {},
     "output_type": "display_data"
    },
    {
     "data": {
      "text/latex": [
       "$\\displaystyle \\left[\\begin{matrix}0.0\\\\1000.0\\\\0.0\\\\0.0\\\\0.0\\\\0.0\\end{matrix}\\right]$"
      ],
      "text/plain": [
       "Matrix([\n",
       "[   0.0],\n",
       "[1000.0],\n",
       "[   0.0],\n",
       "[   0.0],\n",
       "[   0.0],\n",
       "[   0.0]])"
      ]
     },
     "metadata": {},
     "output_type": "display_data"
    }
   ],
   "source": [
    "################################################\n",
    "#\n",
    "# Solving Symbolic Equations in SymPy with nonlinsolve\n",
    "#\n",
    "\n",
    "F = sym.Matrix([[-sym.cos(theta_2),  0,  sym.cos(theta_3),    0,   0,   0],\n",
    "                [-sym.sin(theta_2),  0, -sym.sin(theta_3),    0,   0,   0],\n",
    "                [ sym.cos(theta_2),  1,        0         ,    1,   0,   0],\n",
    "                [ sym.sin(theta_2),  0,        0         ,    0,   1,   0],\n",
    "                [       0         , -1, -sym.cos(theta_3),    0,   0,   0],\n",
    "                [       0         ,  0,  sym.sin(theta_3),    0,   0,   1]])\n",
    "\n",
    "neg_p  = sym.Matrix([[-P1x],\n",
    "                     [-P1y],\n",
    "                     [-P2x],\n",
    "                     [-P2y],\n",
    "                     [-P3x],\n",
    "                     [-P3y]])\n",
    "\n",
    "display(F)\n",
    "\n",
    "display(neg_p)\n",
    "\n",
    "#\n",
    "################################################"
   ]
  },
  {
   "cell_type": "markdown",
   "metadata": {},
   "source": [
    "If we want to do a mimalist matrix algebra solution it's rather easy.  We just invert **F** and multiply it against -$\\vec{p}$.  Inversion, Determinant and other Matrix operators and SymPy.  Can be found inside the [Matrix object in SymPy](https://docs.sympy.org/0.7.2/modules/matrices/matrices.html#matrix-class-reference)."
   ]
  },
  {
   "cell_type": "code",
   "execution_count": 8,
   "metadata": {},
   "outputs": [
    {
     "data": {
      "text/latex": [
       "$\\displaystyle \\left[\\begin{matrix}-500.0\\\\433.012701892219\\\\-866.025403784439\\\\0\\\\250.0\\\\750.0\\end{matrix}\\right]$"
      ],
      "text/plain": [
       "Matrix([\n",
       "[           -500.0],\n",
       "[ 433.012701892219],\n",
       "[-866.025403784439],\n",
       "[                0],\n",
       "[            250.0],\n",
       "[            750.0]])"
      ]
     },
     "metadata": {},
     "output_type": "display_data"
    }
   ],
   "source": [
    "################################################\n",
    "#\n",
    "# Solving Symbolic Linear Algebra Matrices w/ SymPy.\n",
    "#\n",
    "#   The matrix object in SymPy comes with objects\n",
    "#   for basic matrix operations\n",
    "#\n",
    "\n",
    "inverted_matrix_sympy = F.inv() * neg_p\n",
    "\n",
    "display(inverted_matrix_sympy)\n",
    "\n",
    "#\n",
    "################################################\n",
    "\n"
   ]
  },
  {
   "cell_type": "markdown",
   "metadata": {},
   "source": [
    "We can also use the linsolve function:  [linsolve](https://docs.sympy.org/latest/modules/solvers/solveset.html#sympy.solvers.solveset.linsolve)"
   ]
  },
  {
   "cell_type": "code",
   "execution_count": 9,
   "metadata": {},
   "outputs": [
    {
     "name": "stdout",
     "output_type": "stream",
     "text": [
      "FiniteSet((-500.0, 433.012701892219, -866.025403784439, 0, 250.0, 750.0))\n"
     ]
    }
   ],
   "source": [
    "################################################\n",
    "#\n",
    "# Solving Symbolic Matrix for Linear Equations in SymPy with linsolve\n",
    "#\n",
    "\n",
    "linsolve_matrix_sympy = sym.linsolve((F, neg_p),\n",
    "                                     (F1, F2, F3, H2, V2, V3))\n",
    "\n",
    "\n",
    "print(linsolve_matrix_sympy)\n",
    "\n",
    "#\n",
    "################################################"
   ]
  },
  {
   "cell_type": "markdown",
   "metadata": {},
   "source": [
    "### Simultaneous Equations with SciPy's fslolve function\n",
    "\n",
    "Now let's do the above problem with the SciPy libraries.\n",
    "\n",
    "As with our root exercise a function that has a similar functionality to our Mathcad Solve Block construct us the [fsolve](https://docs.scipy.org/doc/scipy/reference/generated/scipy.optimize.fsolve.html#scipy.optimize.fsolve) function.\n",
    "\n",
    "Let's first rewrite our equations here (we'll use NumPy trig functions)  We also need to cluster them as a single system.  \n",
    "\n",
    "This first appraoch will work with nonlinear equations as well just as it does in a solve block."
   ]
  },
  {
   "cell_type": "code",
   "execution_count": 10,
   "metadata": {},
   "outputs": [],
   "source": [
    "################################################\n",
    "#\n",
    "# SciPy/NumPy Formulas for Our System\n",
    "#\n",
    "\n",
    "#\n",
    "#  We create a single function for all of our equations\n",
    "#    there will be a single argument.  It will expect\n",
    "#    in this case an array 6 slots long which will\n",
    "#    hold our F1, F2, F3, H2, V2, and F3.\n",
    "#\n",
    "#  Holding true to our earlier nomenclature, let's call this new\n",
    "#    function of multiple g#x's capital-G\n",
    "\n",
    "def G(f):\n",
    "    \n",
    "    #\n",
    "    # firsrt, let's give the input vector, f\n",
    "    #   parameter names to which we can relate.\n",
    "    #\n",
    "    \n",
    "    F1 = f[0]\n",
    "    F2 = f[1]\n",
    "    F3 = f[2]\n",
    "    H2 = f[3]\n",
    "    V2 = f[4]\n",
    "    V3 = f[5]\n",
    "    \n",
    "    #\n",
    "    # Now we create an empty 6-long vector\n",
    "    #\n",
    "\n",
    "    system = np.empty(6)\n",
    "    \n",
    "    #\n",
    "    # And we fill that fector with our equations\n",
    "    #\n",
    "    \n",
    "    system[0] = - F1 * np.cos(theta_2) + F3 * np.cos(theta_3) + P1x \n",
    "    system[1] = - F1 * np.sin(theta_2) - F3 * np.sin(theta_3) + P1y \n",
    "    system[2] = F1 * np.cos(theta_2) + F2 + H2 + P2x\n",
    "    system[3] = F1 * np.sin(theta_2) + V2 + P2y \n",
    "    system[4] = -F2 - F3 * np.cos(theta_3) + P3x\n",
    "    system[5] = F3 * np.cos(theta_3) + V3 + P3y\n",
    "    \n",
    "    #\n",
    "    # We're done so let's return the variable \"system\"\n",
    "    #\n",
    "    \n",
    "    return(system)\n",
    "\n",
    "\n",
    "#\n",
    "################################################"
   ]
  },
  {
   "cell_type": "markdown",
   "metadata": {},
   "source": [
    "And now we create a first guess of a 6-zero-long vector (or any abitrary number) and feed it into our fsolve function."
   ]
  },
  {
   "cell_type": "code",
   "execution_count": 11,
   "metadata": {},
   "outputs": [
    {
     "name": "stdout",
     "output_type": "stream",
     "text": [
      "\n",
      ">>> Fsolve\n",
      ">>>>> F1 =  -500.0000000000001\n",
      ">>>>> F2 =  433.01270189221947\n",
      ">>>>> F3 =  -866.0254037844387\n",
      ">>>>> H2 =  -4.6145886141812234e-29\n",
      ">>>>> V2 =  250.00000000000003\n",
      ">>>>> V3 =  433.01270189221947\n",
      "\n",
      ">>> Test : G(f) [ 0.00000000e+00  0.00000000e+00 -4.61458861e-29  0.00000000e+00\n",
      "  0.00000000e+00  0.00000000e+00]\n"
     ]
    }
   ],
   "source": [
    "################################################\n",
    "#\n",
    "# SciPy's FSolve function.\n",
    "#\n",
    "\n",
    "                         # F1 F2,F3,H2,V2,V3\n",
    "first_guess    = np.array(( 0, 0, 0, 0, 0, 0))\n",
    "\n",
    "f_root_scalar_fsolve = opt.fsolve(G, first_guess)\n",
    "\n",
    "print()\n",
    "print(\">>> Fsolve\")\n",
    "print(\">>>>> F1 = \", f_root_scalar_fsolve[0])\n",
    "print(\">>>>> F2 = \", f_root_scalar_fsolve[1])\n",
    "print(\">>>>> F3 = \", f_root_scalar_fsolve[2])\n",
    "print(\">>>>> H2 = \", f_root_scalar_fsolve[3])\n",
    "print(\">>>>> V2 = \", f_root_scalar_fsolve[4])\n",
    "print(\">>>>> V3 = \", f_root_scalar_fsolve[5])\n",
    "\n",
    "print()\n",
    "print(\">>> Test : G(f)\", G(f_root_scalar_fsolve))\n",
    "\n",
    "#\n",
    "################################################"
   ]
  },
  {
   "cell_type": "markdown",
   "metadata": {},
   "source": [
    "### Matrix Approach with NumPy\n",
    "\n",
    "Let's construct a simple pair of matricies with NumPy's [matrix](https://docs.scipy.org/doc/numpy/reference/generated/numpy.matrix.html#numpy.matrix) object.  Like the SymPy variant, this will have a number of attributes that will help you calculate determinants, inverses, etc.\n",
    "\n",
    "Advanced warning:  These are not going to be as pretty as it is when working with SymPy"
   ]
  },
  {
   "cell_type": "code",
   "execution_count": 12,
   "metadata": {},
   "outputs": [
    {
     "name": "stdout",
     "output_type": "stream",
     "text": [
      ">>>> F Matrix\n"
     ]
    },
    {
     "data": {
      "text/plain": [
       "matrix([[-0.8660254,  0.       ,  0.5      ,  0.       ,  0.       ,\n",
       "          0.       ],\n",
       "        [-0.5      ,  0.       , -0.8660254,  0.       ,  0.       ,\n",
       "          0.       ],\n",
       "        [ 0.8660254,  1.       ,  0.       ,  1.       ,  0.       ,\n",
       "          0.       ],\n",
       "        [ 0.5      ,  0.       ,  0.       ,  0.       ,  1.       ,\n",
       "          0.       ],\n",
       "        [ 0.       , -1.       , -0.5      ,  0.       ,  0.       ,\n",
       "          0.       ],\n",
       "        [ 0.       ,  0.       ,  0.8660254,  0.       ,  0.       ,\n",
       "          1.       ]])"
      ]
     },
     "metadata": {},
     "output_type": "display_data"
    },
    {
     "name": "stdout",
     "output_type": "stream",
     "text": [
      "\n",
      ">>>> -p vector\n"
     ]
    },
    {
     "data": {
      "text/plain": [
       "matrix([[  -0.],\n",
       "        [1000.],\n",
       "        [  -0.],\n",
       "        [  -0.],\n",
       "        [  -0.],\n",
       "        [  -0.]])"
      ]
     },
     "metadata": {},
     "output_type": "display_data"
    },
    {
     "name": "stdout",
     "output_type": "stream",
     "text": [
      "\n",
      ">>>> f via Matrix Solution\n",
      "\n"
     ]
    },
    {
     "data": {
      "text/plain": [
       "matrix([[-500.        ],\n",
       "        [ 433.01270189],\n",
       "        [-866.02540378],\n",
       "        [   0.        ],\n",
       "        [ 250.        ],\n",
       "        [ 750.        ]])"
      ]
     },
     "metadata": {},
     "output_type": "display_data"
    },
    {
     "name": "stdout",
     "output_type": "stream",
     "text": [
      ">>> Test : G(f) [ 0.00000000e+00  0.00000000e+00  0.00000000e+00 -2.84217094e-14\n",
      "  0.00000000e+00  3.16987298e+02]\n"
     ]
    }
   ],
   "source": [
    "################################################\n",
    "#\n",
    "# Solving Matrix Equations in NumPy\n",
    "#\n",
    "\n",
    "#\n",
    "#  Let's make a matrix!\n",
    "#\n",
    "\n",
    "F = np.matrix([[-np.cos(theta_2),  0,  np.cos(theta_3),    0,   0,   0],\n",
    "               [-np.sin(theta_2),  0, -np.sin(theta_3),    0,   0,   0],\n",
    "               [ np.cos(theta_2),  1,        0        ,    1,   0,   0],\n",
    "               [ np.sin(theta_2),  0,        0        ,    0,   1,   0],\n",
    "               [      0         , -1, -np.cos(theta_3),    0,   0,   0],\n",
    "               [      0         ,  0,  np.sin(theta_3),    0,   0,   1]])\n",
    "\n",
    "#\n",
    "# And a vector using the matrix object.\n",
    "#\n",
    "\n",
    "neg_p  = np.matrix([[-P1x],\n",
    "                    [-P1y],\n",
    "                    [-P2x],\n",
    "                    [-P2y],\n",
    "                    [-P3x],\n",
    "                    [-P3y]])\n",
    "\n",
    "#\n",
    "# Do a fast print\n",
    "#\n",
    "\n",
    "print(\">>>> F Matrix\")\n",
    "display(F)\n",
    "\n",
    "print()\n",
    "\n",
    "print(\">>>> -p vector\")\n",
    "display(neg_p)\n",
    "\n",
    "print()\n",
    "\n",
    "#\n",
    "# Now let's try to make an inverse.\n",
    "#\n",
    "#   the [X].I operator will invert the matrix.\n",
    "#\n",
    "\n",
    "f_matrix_inverse = F.I * neg_p\n",
    "\n",
    "print(\">>>> f via Matrix Solution\")\n",
    "\n",
    "print()\n",
    "\n",
    "display(f_matrix_inverse)\n",
    "\n",
    "print(\">>> Test : G(f)\", G(f_matrix_inverse))\n",
    "\n",
    "#\n",
    "################################################"
   ]
  },
  {
   "cell_type": "markdown",
   "metadata": {},
   "source": [
    "## Version Information"
   ]
  },
  {
   "cell_type": "code",
   "execution_count": 13,
   "metadata": {},
   "outputs": [
    {
     "data": {
      "application/json": {
       "Software versions": [
        {
         "module": "Python",
         "version": "3.7.7 64bit [Clang 11.0.0 (clang-1100.0.33.17)]"
        },
        {
         "module": "IPython",
         "version": "7.13.0"
        },
        {
         "module": "OS",
         "version": "Darwin 19.4.0 x86_64 i386 64bit"
        },
        {
         "module": "version_information",
         "version": "1.0.3"
        },
        {
         "module": "numpy",
         "version": "1.18.2"
        },
        {
         "module": "matplotlib",
         "version": "3.2.1"
        },
        {
         "module": "scipy",
         "version": "1.4.1"
        },
        {
         "module": "sympy",
         "version": "1.5.1"
        }
       ]
      },
      "text/html": [
       "<table><tr><th>Software</th><th>Version</th></tr><tr><td>Python</td><td>3.7.7 64bit [Clang 11.0.0 (clang-1100.0.33.17)]</td></tr><tr><td>IPython</td><td>7.13.0</td></tr><tr><td>OS</td><td>Darwin 19.4.0 x86_64 i386 64bit</td></tr><tr><td>version_information</td><td>1.0.3</td></tr><tr><td>numpy</td><td>1.18.2</td></tr><tr><td>matplotlib</td><td>3.2.1</td></tr><tr><td>scipy</td><td>1.4.1</td></tr><tr><td>sympy</td><td>1.5.1</td></tr><tr><td colspan='2'>Tue Apr 14 12:11:22 2020 MDT</td></tr></table>"
      ],
      "text/latex": [
       "\\begin{tabular}{|l|l|}\\hline\n",
       "{\\bf Software} & {\\bf Version} \\\\ \\hline\\hline\n",
       "Python & 3.7.7 64bit [Clang 11.0.0 (clang-1100.0.33.17)] \\\\ \\hline\n",
       "IPython & 7.13.0 \\\\ \\hline\n",
       "OS & Darwin 19.4.0 x86\\_64 i386 64bit \\\\ \\hline\n",
       "version_information & 1.0.3 \\\\ \\hline\n",
       "numpy & 1.18.2 \\\\ \\hline\n",
       "matplotlib & 3.2.1 \\\\ \\hline\n",
       "scipy & 1.4.1 \\\\ \\hline\n",
       "sympy & 1.5.1 \\\\ \\hline\n",
       "\\hline \\multicolumn{2}{|l|}{Tue Apr 14 12:11:22 2020 MDT} \\\\ \\hline\n",
       "\\end{tabular}\n"
      ],
      "text/plain": [
       "Software versions\n",
       "Python 3.7.7 64bit [Clang 11.0.0 (clang-1100.0.33.17)]\n",
       "IPython 7.13.0\n",
       "OS Darwin 19.4.0 x86_64 i386 64bit\n",
       "version_information 1.0.3\n",
       "numpy 1.18.2\n",
       "matplotlib 3.2.1\n",
       "scipy 1.4.1\n",
       "sympy 1.5.1\n",
       "Tue Apr 14 12:11:22 2020 MDT"
      ]
     },
     "execution_count": 13,
     "metadata": {},
     "output_type": "execute_result"
    }
   ],
   "source": [
    "################################################################\n",
    "#\n",
    "# Loading Version Information\n",
    "#\n",
    "\n",
    "%load_ext version_information\n",
    "\n",
    "%version_information version_information, numpy, matplotlib, scipy, sympy\n",
    "\n",
    "#\n",
    "################################################################"
   ]
  }
 ],
 "metadata": {
  "kernelspec": {
   "display_name": "Python 3",
   "language": "python",
   "name": "python3"
  },
  "language_info": {
   "codemirror_mode": {
    "name": "ipython",
    "version": 3
   },
   "file_extension": ".py",
   "mimetype": "text/x-python",
   "name": "python",
   "nbconvert_exporter": "python",
   "pygments_lexer": "ipython3",
   "version": "3.7.7"
  }
 },
 "nbformat": 4,
 "nbformat_minor": 2
}
