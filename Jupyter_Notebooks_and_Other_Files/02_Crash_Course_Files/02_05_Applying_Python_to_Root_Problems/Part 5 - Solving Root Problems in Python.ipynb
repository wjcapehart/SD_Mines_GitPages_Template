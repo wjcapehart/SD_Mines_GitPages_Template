{
 "cells": [
  {
   "cell_type": "markdown",
   "metadata": {},
   "source": [
    "![CEE Masthead](http://kyrill.ias.sdsmt.edu/wjc/eduresources/CEE_284_Masthead.png)\n",
    "# Part 5 -- Solving Root Problems in Python\n",
    "\n",
    "In this exercise we are going to attack two root problems.  One from our homework battery, the other one of our poster child problems (the infamous toilet float example).\n",
    "\n",
    "The text parts of this exercise also use a lot of LaTeX Equations. An online tool to help with make these equations can be found at this address\n",
    "\n",
    "[https://www.codecogs.com/latex/eqneditor.php](https://www.codecogs.com/latex/eqneditor.php)\n",
    "\n"
   ]
  },
  {
   "cell_type": "markdown",
   "metadata": {},
   "source": [
    "## Libraries\n",
    "\n",
    "For Here we are going to limit ourselves to as few libraries as possible. These root problems we are going to try to use as few libraries as possible.  The slimmer a script is the better.\n",
    "\n",
    "* [NumPy](https://docs.scipy.org/doc/numpy/reference/routines.math.html) for some basic math functions\n",
    "* [SciPy](https://docs.scipy.org/doc/scipy/reference/optimize.html) for optimization\n",
    "* [SymPy](https://www.sympy.org/en/index.html) for symbolic solutions\n",
    "* [Matplotlib](https://matplotlib.org) for plotting"
   ]
  },
  {
   "cell_type": "code",
   "execution_count": 1,
   "metadata": {},
   "outputs": [],
   "source": [
    "################################################\n",
    "#\n",
    "# Libraries\n",
    "#\n",
    "\n",
    "import numpy             as np\n",
    "import scipy.optimize    as opt\n",
    "import sympy             as sym\n",
    "import matplotlib.pyplot as plt\n",
    "\n",
    "#\n",
    "################################################"
   ]
  },
  {
   "cell_type": "markdown",
   "metadata": {},
   "source": [
    "## Problem 1 : Axial Loads\n",
    "\n",
    "Let's consider the following familiar problem:\n",
    "\n",
    "> Looking at off-center axial loads on a column, the secant formula defines the force per unit area, $\\frac{P}{A}$, that causes a maximum stress, $\\sigma_m$, in a column of given slenderness ratio, $\\frac{L}{k}$, where $\\frac{ec}{k^2}$ = the eccentricity ratio and E = the modulus of elasticity:\n",
    "\n",
    "$$ \\frac{P}{A} = \\frac{\\sigma_m}{1 + \\frac{ec}{k^2} \\sec{\\sec{ \\left( \\frac{L}{2 k}\\sqrt{\\frac{P}{EA}} \\right) } } }  $$\n",
    " \n",
    "> Compute $\\frac{P}{A}$ for a steel beam where \n",
    "> E = 200,000 MPa, \n",
    "> $\\frac{ec}{k^2}$ = 0.4, and \n",
    "> $\\sigma_m$ = 250 MPa, \n",
    "> for $\\frac{L}{k}$ = 50. "
   ]
  },
  {
   "cell_type": "markdown",
   "metadata": {},
   "source": [
    "### Create the Root Function\n",
    "\n",
    "Let's start by assembling our knowns\n",
    "\n",
    "* E = 200,000 MPa, \n",
    "* $\\frac{ec}{k^2}$ = 0.4, and \n",
    "* $\\sigma_m$ = 250 MPa \n",
    "* $\\frac{L}{k}$ = 50. "
   ]
  },
  {
   "cell_type": "code",
   "execution_count": 2,
   "metadata": {},
   "outputs": [],
   "source": [
    "################################################\n",
    "#\n",
    "# Our Constants\n",
    "#\n",
    "\n",
    "E     = 200000.  # MPa (using the comments to recall the units)\n",
    "eck2  =      0.4\n",
    "sigma =    250.  # MPa\n",
    "Lk    =     50.\n",
    "\n",
    "#\n",
    "################################################"
   ]
  },
  {
   "cell_type": "markdown",
   "metadata": {},
   "source": [
    "For our formula, $$ \\frac{P}{A} = \\frac{\\sigma_m}{1 + \\frac{ec}{k^2} \\sec{ \\left( \\frac{L}{2 k}\\sqrt{\\frac{P}{EA}} \\right) } }  $$\n",
    "\n",
    " let's present it as a function but as always, let's present it in \"root\" form with every term on one side of the equal sign.\n",
    "\n",
    "$$ f\\left(  \\frac{P}{A} \\right)  = \\frac{\\sigma_m}{1 + \\frac{ec}{k^2} \\sec{ \\left( \\frac{L}{2 k}\\sqrt{\\frac{P}{EA}} \\right) } } - \\frac{P}{A} $$"
   ]
  },
  {
   "cell_type": "code",
   "execution_count": 3,
   "metadata": {},
   "outputs": [],
   "source": [
    "################################################\n",
    "#\n",
    "# Our Root Function, f(PA), \n",
    "#\n",
    "#   Note that as with Mathcad, if the parameters were defined\n",
    "#    defined above, they will be inherite in the equation below.\n",
    "#\n",
    "\n",
    "def f(PA) : \n",
    "    return ( sigma / ( 1 + eck2 / np.cos( Lk/2 * np.sqrt(PA/E)))  - PA )\n",
    "\n",
    "#\n",
    "# However, if you redefine a parameter after defining\n",
    "#    the function (e.g., Lk) it will update the\n",
    "#    value in the function, accordingly\n",
    "#\n",
    "# Try this and see what happens\n",
    "#\n",
    "################################################"
   ]
  },
  {
   "cell_type": "markdown",
   "metadata": {},
   "source": [
    "### Plotting the Function\n",
    "Now let's plot the function so we have a feel for the first guesses.\n",
    "\n",
    "For this we will use the symbolic solving library (SymPy)"
   ]
  },
  {
   "cell_type": "code",
   "execution_count": 4,
   "metadata": {},
   "outputs": [
    {
     "data": {
      "text/latex": [
       "$\\displaystyle - pa + \\frac{250.0}{0.4 \\sec{\\left(0.0559016994374947 \\sqrt{pa} \\right)} + 1}$"
      ],
      "text/plain": [
       "-pa + 250.0/(0.4*sec(0.0559016994374947*sqrt(pa)) + 1)"
      ]
     },
     "metadata": {},
     "output_type": "display_data"
    },
    {
     "name": "stderr",
     "output_type": "stream",
     "text": [
      "/usr/local/lib/python3.7/site-packages/sympy/plotting/plot.py:1065: MatplotlibDeprecationWarning: \n",
      "The set_smart_bounds function was deprecated in Matplotlib 3.2 and will be removed two minor releases later.\n",
      "  self.ax[i].spines['left'].set_smart_bounds(True)\n",
      "/usr/local/lib/python3.7/site-packages/sympy/plotting/plot.py:1066: MatplotlibDeprecationWarning: \n",
      "The set_smart_bounds function was deprecated in Matplotlib 3.2 and will be removed two minor releases later.\n",
      "  self.ax[i].spines['bottom'].set_smart_bounds(False)\n"
     ]
    },
    {
     "data": {
      "image/png": "[encoded data removed]",
      "text/plain": [
       "<Figure size 432x288 with 1 Axes>"
      ]
     },
     "metadata": {
      "needs_background": "light"
     },
     "output_type": "display_data"
    },
    {
     "data": {
      "image/png": "[encoded data removed]",
      "text/plain": [
       "<Figure size 432x288 with 1 Axes>"
      ]
     },
     "metadata": {
      "needs_background": "light"
     },
     "output_type": "display_data"
    },
    {
     "data": {
      "image/png": "[encoded data removed]",
      "text/plain": [
       "<Figure size 432x288 with 1 Axes>"
      ]
     },
     "metadata": {
      "needs_background": "light"
     },
     "output_type": "display_data"
    },
    {
     "data": {
      "text/plain": [
       "<sympy.plotting.plot.Plot at 0x12b2c9690>"
      ]
     },
     "execution_count": 4,
     "metadata": {},
     "output_type": "execute_result"
    }
   ],
   "source": [
    "################################################\n",
    "#\n",
    "# Use SymPy to plot\n",
    "#\n",
    "\n",
    "pa = sym.symbols('pa')\n",
    "\n",
    "def g(pa) :\n",
    "    return( sigma / ( 1 + eck2 * sym.sec( Lk/2 * sym.sqrt(pa/E)))  - pa )\n",
    "\n",
    "display( g(pa) )\n",
    "\n",
    "sym.plot(g(pa),          # our function\n",
    "        (pa, 0, 200) )   # our x axis ranges          \n",
    "\n",
    "\n",
    "sym.plot(g(pa),               # our function\n",
    "         (pa,-5000,10000),    # our x axis ranges\n",
    "          ylim=[-9000,9000])  # our y axis ranges\n",
    "\n",
    "\n",
    "sym.plot(g(pa),               # our function\n",
    "         (pa, 0,200),         # our x axis ranges\n",
    "          ylim=[-100,200])    # our y axis ranges\n",
    "\n",
    "\n",
    "#\n",
    "################################################"
   ]
  },
  {
   "cell_type": "markdown",
   "metadata": {},
   "source": [
    "### Solving the System with SciPy's Optimization Routines\n",
    "From the graph we can guess that our brackets should between 100 and 200. \n",
    "\n",
    "\n",
    "#### Fsolve in SciPy's Optimization Tooklit\n",
    "\n",
    "Let's use their generic function."
   ]
  },
  {
   "cell_type": "code",
   "execution_count": 5,
   "metadata": {},
   "outputs": [
    {
     "name": "stdout",
     "output_type": "stream",
     "text": [
      "\n",
      ">>> Fsolve\n",
      "[163.44290959]\n",
      "\n",
      ">>> Test : f(PA) [-5.68434189e-14]\n"
     ]
    }
   ],
   "source": [
    "################################################\n",
    "#\n",
    "# SciPy's FSolve Method\n",
    "#\n",
    "\n",
    "first_guess = 100\n",
    "\n",
    "PA_root_scalar_fsolve = opt.fsolve(f, first_guess)\n",
    "\n",
    "print()\n",
    "print(\">>> Fsolve\")\n",
    "print(PA_root_scalar_fsolve)\n",
    "\n",
    "print()\n",
    "print(\">>> Test : f(PA)\", f(PA_root_scalar_fsolve))\n",
    "\n",
    "#\n",
    "################################################"
   ]
  },
  {
   "cell_type": "markdown",
   "metadata": {},
   "source": [
    "#### Classical Root Methods\n",
    "\n",
    "Here we will use the three methods, Bisecton, a False Position Method and the Secant Method\n",
    "\n",
    "For Newton's Method, you will need to add an explicit formula for f'. For this one... let's not do that one.  You remember how scary it was.... OK... if you didn't:"
   ]
  },
  {
   "cell_type": "code",
   "execution_count": 6,
   "metadata": {},
   "outputs": [
    {
     "data": {
      "text/latex": [
       "$\\displaystyle pa - \\frac{- pa + \\frac{250.0}{0.4 \\sec{\\left(0.0559016994374947 \\sqrt{pa} \\right)} + 1}}{-1 - \\frac{2.79508497187474 \\tan{\\left(0.0559016994374947 \\sqrt{pa} \\right)} \\sec{\\left(0.0559016994374947 \\sqrt{pa} \\right)}}{\\sqrt{pa} \\left(0.4 \\sec{\\left(0.0559016994374947 \\sqrt{pa} \\right)} + 1\\right)^{2}}}$"
      ],
      "text/plain": [
       "pa - (-pa + 250.0/(0.4*sec(0.0559016994374947*sqrt(pa)) + 1))/(-1 - 2.79508497187474*tan(0.0559016994374947*sqrt(pa))*sec(0.0559016994374947*sqrt(pa))/(sqrt(pa)*(0.4*sec(0.0559016994374947*sqrt(pa)) + 1)**2))"
      ]
     },
     "metadata": {},
     "output_type": "display_data"
    }
   ],
   "source": [
    "################################################\n",
    "#\n",
    "# Why we aren't using Newton's Method\n",
    "#\n",
    "\n",
    "display( pa - g(pa) / sym.diff(g(pa), pa) )\n",
    "\n",
    "#\n",
    "# \"Let's not...\"\n",
    "#\n",
    "################################################"
   ]
  },
  {
   "cell_type": "markdown",
   "metadata": {},
   "source": [
    "... so let's just use the ones that don't need the derivative.  The next example *will* have a pretty easy derivative with which to work."
   ]
  },
  {
   "cell_type": "code",
   "execution_count": 7,
   "metadata": {},
   "outputs": [
    {
     "name": "stdout",
     "output_type": "stream",
     "text": [
      "\n",
      ">>> Bisection Method\n",
      "      converged: True\n",
      "           flag: 'converged'\n",
      " function_calls: 48\n",
      "     iterations: 46\n",
      "           root: 163.4429095899705\n",
      "\n",
      ">>> Test : f(PA) 1.1368683772161603e-13\n"
     ]
    }
   ],
   "source": [
    "################################################\n",
    "#\n",
    "# SciPy's Bisection Method\n",
    "#\n",
    "\n",
    "PA_root_scalar_bisect = opt.root_scalar(f, \n",
    "                                        bracket = [100, 200], \n",
    "                                        method  = 'bisect')\n",
    "\n",
    "print()\n",
    "print(\">>> Bisection Method\")\n",
    "print(PA_root_scalar_bisect)\n",
    "\n",
    "print()\n",
    "print(\">>> Test : f(PA)\", f(PA_root_scalar_bisect.root))\n",
    "\n",
    "#\n",
    "################################################"
   ]
  },
  {
   "cell_type": "code",
   "execution_count": 8,
   "metadata": {},
   "outputs": [
    {
     "name": "stdout",
     "output_type": "stream",
     "text": [
      "\n",
      ">>> False-Position with Brent-Q\n",
      "      converged: True\n",
      "           flag: 'converged'\n",
      " function_calls: 7\n",
      "     iterations: 6\n",
      "           root: 163.4429095899706\n",
      "\n",
      ">>> Test : f(PA) -2.842170943040401e-14\n"
     ]
    }
   ],
   "source": [
    "################################################\n",
    "#\n",
    "# SciPy's False-Position Method with Brent-Q\n",
    "#\n",
    "\n",
    "PA_root_scalar_brentq = opt.root_scalar(f, \n",
    "                                        bracket = [100, 200], \n",
    "                                        method  = 'brentq')\n",
    "\n",
    "print()\n",
    "print(\">>> False-Position with Brent-Q\")\n",
    "print(PA_root_scalar_brentq)\n",
    "\n",
    "print()\n",
    "print(\">>> Test : f(PA)\", f(PA_root_scalar_brentq.root))\n",
    "#\n",
    "################################################"
   ]
  },
  {
   "cell_type": "code",
   "execution_count": 9,
   "metadata": {},
   "outputs": [
    {
     "name": "stdout",
     "output_type": "stream",
     "text": [
      "\n",
      ">>> Secant Method\n",
      "      converged: True\n",
      "           flag: 'converged'\n",
      " function_calls: 6\n",
      "     iterations: 5\n",
      "           root: 163.4429095899706\n",
      "\n",
      ">>> Test : f(PA) -2.842170943040401e-14\n"
     ]
    }
   ],
   "source": [
    "################################################\n",
    "#\n",
    "# SciPy's Secant Method\n",
    "#\n",
    "\n",
    "PA_root_scalar_secant= opt.root_scalar(f, \n",
    "                                       x0     = 100, \n",
    "                                       x1     = 200, \n",
    "                                       method = 'secant')\n",
    "\n",
    "print()\n",
    "print(\">>> Secant Method\")\n",
    "print(PA_root_scalar_secant)\n",
    "\n",
    "print()\n",
    "print(\">>> Test : f(PA)\", f(PA_root_scalar_secant.root))\n",
    "\n",
    "\n",
    "#\n",
    "################################################"
   ]
  },
  {
   "cell_type": "markdown",
   "metadata": {},
   "source": [
    "## Problem 2 : The Floating Ball Problem\n",
    "You have a small spherical buoy (we won’t ask what it’s for) with a diameter, *d*, of 11 cm and mass, *m*, of 418 g. (You're on Earth, so acceleration due to gravity, *g* is 980.665 m s$^{-1}$)\n",
    "\n",
    "When immersed in water (which has a density, $\\rho_w$, of 1 g cm$^{-3}$) what is it’s displacement (draft), *h*?\n",
    "\n",
    "For this, use Archimedes Principle from Physics Class in which,\n",
    "\n",
    "*  The Buoyant Force = The Weight of the Object, and \n",
    "*  The Displaced Volume of Fluid = the Volume of Submerged Mass). \n",
    "\n",
    "For this our formulae are \n",
    "\n",
    "$$F_{object} = F_{buoyancy}$$\n",
    "$$F_{object} = m  g $$\n",
    "$$F_{buoyancy} = g \\rho_w V_{disp}$$\n",
    "$$V_{disp}(h) = \\frac{\\pi h^2}{3} \\left(  3r-h  \\right)$$\n",
    "\n",
    "\n",
    "\n"
   ]
  },
  {
   "cell_type": "markdown",
   "metadata": {},
   "source": [
    "### Initial Attack and Problem Setup\n",
    "\n",
    "This one is a little different because we are deriving our root equation from first principles.\n",
    "\n",
    "We can start by pen-and-paperwork to make our root equation, *f*(*h*)... I'm doing the results here in the notebook using the formulas from above\n",
    "\n",
    "$$F_{object} = F_{buoyancy}$$\n",
    "$$ m g  = g \\rho_w V_{disp}$$\n",
    "$$ m g  = g \\rho_w \\frac{\\pi h^2}{3} \\left(  3r-h  \\right)$$\n",
    "$$ m  =  \\frac{ \\rho_w \\pi}{3}  h^2 \\left(  3r-h  \\right)$$\n",
    "$$ f(h) = \\frac{ \\rho_w \\pi}{3}  h^2 \\left(  3r-h  \\right) - m$$\n",
    "\n",
    "\n",
    "Then we create our known variables.  We are grounded here in the cgs units system."
   ]
  },
  {
   "cell_type": "code",
   "execution_count": 10,
   "metadata": {},
   "outputs": [],
   "source": [
    "################################################################\n",
    "#\n",
    "# Known Variables\n",
    "#\n",
    "#   Physical Constants\n",
    "#\n",
    "\n",
    "g   = 980.665 # m s-2  # notice with the algebra, we don't really need this!\n",
    "rho =   1.0   # g cm-3 # despite it being 1.0 we still will need this one of we change the fluid properties\n",
    "\n",
    "#\n",
    "#   Parameters for Buoy \n",
    "#\n",
    "\n",
    "m   = 418.0   # g\n",
    "d   =  11.0   # cm\n",
    "r   =  d/2    # cm\n",
    "\n",
    "#\n",
    "################################################################"
   ]
  },
  {
   "cell_type": "markdown",
   "metadata": {},
   "source": [
    "Now let's make our formulas.  As before we can do these for both SciPy and SymPy.\n",
    "\n",
    "We'll start with SymPy"
   ]
  },
  {
   "cell_type": "code",
   "execution_count": 11,
   "metadata": {},
   "outputs": [
    {
     "data": {
      "text/plain": [
       "'g(h) = '"
      ]
     },
     "metadata": {},
     "output_type": "display_data"
    },
    {
     "data": {
      "text/latex": [
       "$\\displaystyle 1.0471975511966 h^{2} \\left(16.5 - h\\right) - 418.0$"
      ],
      "text/plain": [
       "1.0471975511966*h**2*(16.5 - h) - 418.0"
      ]
     },
     "metadata": {},
     "output_type": "display_data"
    },
    {
     "data": {
      "text/plain": [
       "'g(h) = '"
      ]
     },
     "metadata": {},
     "output_type": "display_data"
    },
    {
     "data": {
      "text/latex": [
       "$\\displaystyle - 1.0471975511966 h^{3} + 17.2787595947439 h^{2} - 418.0$"
      ],
      "text/plain": [
       "-1.0471975511966*h**3 + 17.2787595947439*h**2 - 418.0"
      ]
     },
     "metadata": {},
     "output_type": "display_data"
    }
   ],
   "source": [
    "################################################################\n",
    "#\n",
    "# Our Root Equation f(h) for SymPy\n",
    "#\n",
    "\n",
    "h = sym.symbols(\"h\")\n",
    "\n",
    "def f(h) : \n",
    "    return(rho * np.pi / 3 * h**2 * (3*r - h) - m)\n",
    "\n",
    "display(\"g(h) = \",f(h))\n",
    "\n",
    "\n",
    "#\n",
    "# remember the symplify and expand arrow modifiers in Mathcad?\n",
    "#\n",
    "\n",
    "display(\"g(h) = \",sym.expand(f(h)))\n",
    "\n",
    "#\n",
    "################################################################"
   ]
  },
  {
   "cell_type": "markdown",
   "metadata": {},
   "source": [
    "Which we see is a cubic solution.  This is a polynoial and an \"algebraic\" equation and is relatively hastle-free so long as our roots aren't imaginary.  With this we can use a symbolic solver\n",
    "\n",
    "### Plotting our Function\n",
    "\n",
    "But let's first plot things out ...\n",
    "\n",
    "...  and we know that the draft on the ball can only go from its bottom (*h* = 0) to its top (*h* = *d*)"
   ]
  },
  {
   "cell_type": "code",
   "execution_count": 12,
   "metadata": {},
   "outputs": [
    {
     "data": {
      "image/png": "[encoded data removed]",
      "text/plain": [
       "<Figure size 432x288 with 1 Axes>"
      ]
     },
     "metadata": {
      "needs_background": "light"
     },
     "output_type": "display_data"
    },
    {
     "data": {
      "image/png": "[encoded data removed]",
      "text/plain": [
       "<Figure size 432x288 with 1 Axes>"
      ]
     },
     "metadata": {
      "needs_background": "light"
     },
     "output_type": "display_data"
    },
    {
     "data": {
      "text/plain": [
       "<sympy.plotting.plot.Plot at 0x12b054450>"
      ]
     },
     "execution_count": 12,
     "metadata": {},
     "output_type": "execute_result"
    }
   ],
   "source": [
    "################################################\n",
    "#\n",
    "# Use SymPy to plot\n",
    "#\n",
    "\n",
    "sym.plot(f(h),      # our function\n",
    "         (h,0,d) )  # our x axis ranges\n",
    "\n",
    "\n",
    "sym.plot(f(h),      # our function\n",
    "         (h,0,d),   # our x axis ranges\n",
    "         ylim = [-500,300] )   # our x axis ranges\n",
    "\n",
    "\n",
    "\n",
    "#\n",
    "################################################"
   ]
  },
  {
   "cell_type": "markdown",
   "metadata": {},
   "source": [
    "So we can eyeball a pair of brackets between 6 and 8 cm\n",
    "\n",
    "### Solving the Root with SymPy's Solver Routines\n",
    "\n",
    "Now let's play with our solvers starting this time with our symbolic ones (the eaier problem was messy so we passed on this).  The safest one to use us normally [solveset](https://docs.sympy.org/latest/modules/solvers/solveset.html) and works like this"
   ]
  },
  {
   "cell_type": "code",
   "execution_count": 13,
   "metadata": {},
   "outputs": [
    {
     "name": "stdout",
     "output_type": "stream",
     "text": [
      "FiniteSet(-4.37301748153818, 6.23619394816947, 14.6368235333687)\n"
     ]
    }
   ],
   "source": [
    "################################################\n",
    "#\n",
    "# SymPy's Symbolic Solver with Solveset\n",
    "#\n",
    "\n",
    "root_solveset_h = sym.solveset(f(h), h)\n",
    "\n",
    "print(root_solveset_h)\n",
    "\n",
    "#\n",
    "################################################"
   ]
  },
  {
   "cell_type": "markdown",
   "metadata": {},
   "source": [
    "So here it gives is three roots and we now based on our known physical limits of our problem that our results must be between 0 and 11 cm.  That leaves the 6.2 cm solution to be our answer.\n",
    "\n",
    "### Solving the Root with SciPy's Basic Root Optimization Schemes\n",
    "\n",
    "Again, let's use the [fsolve](https://docs.scipy.org/doc/scipy/reference/generated/scipy.optimize.fsolve.html#scipy.optimize.fsolve) function\n"
   ]
  },
  {
   "cell_type": "code",
   "execution_count": 14,
   "metadata": {},
   "outputs": [
    {
     "name": "stdout",
     "output_type": "stream",
     "text": [
      "\n",
      ">>> Fsolve\n",
      "[6.23619395]\n",
      "\n",
      ">>> Test : f(h) [-1.13686838e-13]\n"
     ]
    }
   ],
   "source": [
    "################################################\n",
    "#\n",
    "# SciPy's FSolve Method\n",
    "#\n",
    "\n",
    "first_guess = 6.\n",
    "\n",
    "h_root_scalar_fsolve = opt.fsolve(f, first_guess)\n",
    "\n",
    "print()\n",
    "print(\">>> Fsolve\")\n",
    "print(h_root_scalar_fsolve)\n",
    "\n",
    "print()\n",
    "print(\">>> Test : f(h)\", f(h_root_scalar_fsolve))\n",
    "\n",
    "#\n",
    "################################################"
   ]
  },
  {
   "cell_type": "markdown",
   "metadata": {},
   "source": [
    "### Solving the Root with SciPy's Classic Optimization Routines\n",
    "\n",
    "Now we can use our three basic solvers (Bisection, False-Position, and Secant)"
   ]
  },
  {
   "cell_type": "code",
   "execution_count": 15,
   "metadata": {},
   "outputs": [
    {
     "name": "stdout",
     "output_type": "stream",
     "text": [
      "\n",
      ">>> False-Position with Bisection\n",
      "      converged: True\n",
      "           flag: 'converged'\n",
      " function_calls: 42\n",
      "     iterations: 40\n",
      "           root: 6.236193948168875\n",
      "\n",
      ">>> Test : f(h) -5.5706550483591855e-11\n"
     ]
    }
   ],
   "source": [
    "################################################\n",
    "#\n",
    "# SciPy's Bisection Method\n",
    "#\n",
    "\n",
    "h_root_scalar_bisect = opt.root_scalar(f, \n",
    "                                        bracket = [6, 8], \n",
    "                                        method  = 'bisect')\n",
    "\n",
    "print()\n",
    "print(\">>> False-Position with Bisection\")\n",
    "print(h_root_scalar_bisect)\n",
    "\n",
    "print()\n",
    "print(\">>> Test : f(h)\", f(h_root_scalar_bisect.root))\n",
    "\n",
    "#\n",
    "################################################"
   ]
  },
  {
   "cell_type": "code",
   "execution_count": 16,
   "metadata": {},
   "outputs": [
    {
     "name": "stdout",
     "output_type": "stream",
     "text": [
      "\n",
      ">>> False-Position with Brent-Q\n",
      "      converged: True\n",
      "           flag: 'converged'\n",
      " function_calls: 7\n",
      "     iterations: 6\n",
      "           root: 6.236193948169484\n",
      "\n",
      ">>> Test : f(h) 1.1937117960769683e-12\n"
     ]
    }
   ],
   "source": [
    "################################################\n",
    "#\n",
    "# SciPy's False-Position Method with Brent-Q\n",
    "#\n",
    "\n",
    "h_root_scalar_brentq = opt.root_scalar(f, \n",
    "                                        bracket = [6, 8], \n",
    "                                        method  = 'brentq')\n",
    "\n",
    "print()\n",
    "print(\">>> False-Position with Brent-Q\")\n",
    "print(h_root_scalar_brentq)\n",
    "\n",
    "print()\n",
    "print(\">>> Test : f(h)\", f(h_root_scalar_brentq.root))\n",
    "#\n",
    "################################################"
   ]
  },
  {
   "cell_type": "code",
   "execution_count": 17,
   "metadata": {},
   "outputs": [
    {
     "name": "stdout",
     "output_type": "stream",
     "text": [
      "\n",
      ">>> Secant Method\n",
      "      converged: True\n",
      "           flag: 'converged'\n",
      " function_calls: 6\n",
      "     iterations: 5\n",
      "           root: 6.236193948169473\n",
      "\n",
      ">>> Test : f(h) 1.7053025658242404e-13\n"
     ]
    }
   ],
   "source": [
    "################################################\n",
    "#\n",
    "# SciPy's Secant Method\n",
    "#\n",
    "\n",
    "h_root_scalar_secant= opt.root_scalar(f, \n",
    "                                       x0     = 6, \n",
    "                                       x1     = 8, \n",
    "                                       method = 'secant')\n",
    "\n",
    "print()\n",
    "print(\">>> Secant Method\")\n",
    "print(h_root_scalar_secant)\n",
    "\n",
    "print()\n",
    "print(\">>> Test : f(h)\", f(h_root_scalar_secant.root))\n",
    "\n",
    "\n",
    "#\n",
    "################################################"
   ]
  },
  {
   "cell_type": "markdown",
   "metadata": {},
   "source": [
    "Finally we can now do a demonstration of Newton-Raphson.  This is a little more complex since we will need to calculate a derivative and it's not as seamless as with Mathcad.  \n",
    "\n",
    "Here we will need to do it in three steps"
   ]
  },
  {
   "cell_type": "code",
   "execution_count": 18,
   "metadata": {},
   "outputs": [
    {
     "data": {
      "text/plain": [
       "\"f'(h) = \""
      ]
     },
     "metadata": {},
     "output_type": "display_data"
    },
    {
     "data": {
      "text/latex": [
       "$\\displaystyle - 3.14159265358979 h^{2} + 34.5575191894877 h$"
      ],
      "text/plain": [
       "-3.14159265358979*h**2 + 34.5575191894877*h"
      ]
     },
     "metadata": {},
     "output_type": "display_data"
    },
    {
     "name": "stdout",
     "output_type": "stream",
     "text": [
      "f'(h) =  -3.14159265358979*h**2 + 34.5575191894877*h\n"
     ]
    }
   ],
   "source": [
    "#################################################################\n",
    "#\n",
    "# SciPy's Newton-Raphson Method Part 1\n",
    "#\n",
    "# First get our first derivative of f(h)\n",
    "#\n",
    "\n",
    "display(\"f'(h) = \",sym.expand( sym.diff(f(h), h) ))\n",
    "\n",
    "print(  \"f'(h) = \",sym.expand( sym.diff(f(h), h) ))\n",
    "\n",
    "#\n",
    "################################################################"
   ]
  },
  {
   "cell_type": "code",
   "execution_count": 19,
   "metadata": {},
   "outputs": [
    {
     "data": {
      "text/plain": [
       "'f(h)  = '"
      ]
     },
     "metadata": {},
     "output_type": "display_data"
    },
    {
     "data": {
      "text/latex": [
       "$\\displaystyle 1.0471975511966 h^{2} \\left(16.5 - h\\right) - 418.0$"
      ],
      "text/plain": [
       "1.0471975511966*h**2*(16.5 - h) - 418.0"
      ]
     },
     "metadata": {},
     "output_type": "display_data"
    },
    {
     "data": {
      "text/plain": [
       "\"f'(h) = \""
      ]
     },
     "metadata": {},
     "output_type": "display_data"
    },
    {
     "data": {
      "text/latex": [
       "$\\displaystyle - 3.14159265358979 h^{2} + 34.5575191894877 h$"
      ],
      "text/plain": [
       "-3.14159265358979*h**2 + 34.5575191894877*h"
      ]
     },
     "metadata": {},
     "output_type": "display_data"
    }
   ],
   "source": [
    "################################################################\n",
    "#\n",
    "# SciPy's Newton-Raphson Method Part 2\n",
    "#\n",
    "# cut-n-paste the derivative formula above into a new function\n",
    "#\n",
    "\n",
    "def f_prime(h):\n",
    "    return( -3.14159265358979 * h**2 + 34.5575191894877 * h )\n",
    "\n",
    "display(\"f(h)  = \",       f(h))\n",
    "display(\"f'(h) = \", f_prime(h))\n",
    "\n",
    "#\n",
    "################################################################"
   ]
  },
  {
   "cell_type": "code",
   "execution_count": 20,
   "metadata": {},
   "outputs": [
    {
     "name": "stdout",
     "output_type": "stream",
     "text": [
      "\n",
      ">>> Newton-Raphson Method\n",
      "      converged: True\n",
      "           flag: 'converged'\n",
      " function_calls: 8\n",
      "     iterations: 4\n",
      "           root: 6.236193948169471\n",
      "\n",
      ">>> Test : f(h) -1.1368683772161603e-13\n"
     ]
    }
   ],
   "source": [
    "################################################################\n",
    "#\n",
    "# SciPy's Newton-Raphson Method Part 3\n",
    "#\n",
    "# Now as in the earlier cases just run the root_scalar function\n",
    "#\n",
    "\n",
    "h_root_scalar_newton = opt.root_scalar(f, \n",
    "                                       x0     = 6, \n",
    "                                       fprime = f_prime, \n",
    "                                       method = 'newton')\n",
    "\n",
    "print()\n",
    "print(\">>> Newton-Raphson Method\")\n",
    "print(h_root_scalar_newton)\n",
    "\n",
    "print()\n",
    "print(\">>> Test : f(h)\", f(h_root_scalar_newton.root))\n",
    "\n",
    "#\n",
    "################################################################"
   ]
  },
  {
   "cell_type": "markdown",
   "metadata": {},
   "source": [
    "## Version Information"
   ]
  },
  {
   "cell_type": "code",
   "execution_count": 21,
   "metadata": {},
   "outputs": [
    {
     "data": {
      "application/json": {
       "Software versions": [
        {
         "module": "Python",
         "version": "3.7.7 64bit [Clang 11.0.0 (clang-1100.0.33.17)]"
        },
        {
         "module": "IPython",
         "version": "7.13.0"
        },
        {
         "module": "OS",
         "version": "Darwin 19.4.0 x86_64 i386 64bit"
        },
        {
         "module": "version_information",
         "version": "1.0.3"
        },
        {
         "module": "numpy",
         "version": "1.18.2"
        },
        {
         "module": "matplotlib",
         "version": "3.2.1"
        },
        {
         "module": "scipy",
         "version": "1.4.1"
        },
        {
         "module": "sympy",
         "version": "1.5.1"
        }
       ]
      },
      "text/html": [
       "<table><tr><th>Software</th><th>Version</th></tr><tr><td>Python</td><td>3.7.7 64bit [Clang 11.0.0 (clang-1100.0.33.17)]</td></tr><tr><td>IPython</td><td>7.13.0</td></tr><tr><td>OS</td><td>Darwin 19.4.0 x86_64 i386 64bit</td></tr><tr><td>version_information</td><td>1.0.3</td></tr><tr><td>numpy</td><td>1.18.2</td></tr><tr><td>matplotlib</td><td>3.2.1</td></tr><tr><td>scipy</td><td>1.4.1</td></tr><tr><td>sympy</td><td>1.5.1</td></tr><tr><td colspan='2'>Mon Apr 20 20:43:00 2020 MDT</td></tr></table>"
      ],
      "text/latex": [
       "\\begin{tabular}{|l|l|}\\hline\n",
       "{\\bf Software} & {\\bf Version} \\\\ \\hline\\hline\n",
       "Python & 3.7.7 64bit [Clang 11.0.0 (clang-1100.0.33.17)] \\\\ \\hline\n",
       "IPython & 7.13.0 \\\\ \\hline\n",
       "OS & Darwin 19.4.0 x86\\_64 i386 64bit \\\\ \\hline\n",
       "version_information & 1.0.3 \\\\ \\hline\n",
       "numpy & 1.18.2 \\\\ \\hline\n",
       "matplotlib & 3.2.1 \\\\ \\hline\n",
       "scipy & 1.4.1 \\\\ \\hline\n",
       "sympy & 1.5.1 \\\\ \\hline\n",
       "\\hline \\multicolumn{2}{|l|}{Mon Apr 20 20:43:00 2020 MDT} \\\\ \\hline\n",
       "\\end{tabular}\n"
      ],
      "text/plain": [
       "Software versions\n",
       "Python 3.7.7 64bit [Clang 11.0.0 (clang-1100.0.33.17)]\n",
       "IPython 7.13.0\n",
       "OS Darwin 19.4.0 x86_64 i386 64bit\n",
       "version_information 1.0.3\n",
       "numpy 1.18.2\n",
       "matplotlib 3.2.1\n",
       "scipy 1.4.1\n",
       "sympy 1.5.1\n",
       "Mon Apr 20 20:43:00 2020 MDT"
      ]
     },
     "execution_count": 21,
     "metadata": {},
     "output_type": "execute_result"
    }
   ],
   "source": [
    "################################################################\n",
    "#\n",
    "# Loading Version Information\n",
    "#\n",
    "\n",
    "%load_ext version_information\n",
    "\n",
    "%version_information version_information, numpy, matplotlib, scipy, sympy\n",
    "\n",
    "#\n",
    "################################################################"
   ]
  }
 ],
 "metadata": {
  "kernelspec": {
   "display_name": "Python 3",
   "language": "python",
   "name": "python3"
  },
  "language_info": {
   "codemirror_mode": {
    "name": "ipython",
    "version": 3
   },
   "file_extension": ".py",
   "mimetype": "text/x-python",
   "name": "python",
   "nbconvert_exporter": "python",
   "pygments_lexer": "ipython3",
   "version": "3.7.7"
  }
 },
 "nbformat": 4,
 "nbformat_minor": 2
}
