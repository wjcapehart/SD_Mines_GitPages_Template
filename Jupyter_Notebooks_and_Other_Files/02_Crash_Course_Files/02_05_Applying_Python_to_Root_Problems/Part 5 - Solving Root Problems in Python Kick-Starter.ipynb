{
 "cells": [
  {
   "cell_type": "markdown",
   "metadata": {},
   "source": [
    "![CEE Masthead](http://kyrill.ias.sdsmt.edu/wjc/eduresources/CEE_284_Masthead.png)\n",
    "# Part 5 -- Solving Root Problems in Python (Starter Pack)\n",
    "\n",
    "In this exercise we are going to attack two root problems.  One from our homework battery, the other one of our poster child problems (the infamous toilet float example).\n",
    "\n",
    "The text parts of this exercise also use a lot of LaTeX Equations. An online tool to help with make these equations can be found at this address\n",
    "\n",
    "[https://www.codecogs.com/latex/eqneditor.php](https://www.codecogs.com/latex/eqneditor.php)\n",
    "\n"
   ]
  },
  {
   "cell_type": "markdown",
   "metadata": {},
   "source": [
    "## Libraries\n",
    "\n",
    "For Here we are going to limit ourselves to as few libraries as possible. These root problems we are going to try to use as few libraries as possible.  The slimmer a script is the better.\n",
    "\n",
    "* [NumPy](https://docs.scipy.org/doc/numpy/reference/routines.math.html) for some basic math functions\n",
    "* [SciPy](https://docs.scipy.org/doc/scipy/reference/optimize.html) for optimization\n",
    "* [SymPy](https://www.sympy.org/en/index.html) for symbolic solutions\n",
    "* [Matplotlib](https://matplotlib.org) for plotting"
   ]
  },
  {
   "cell_type": "code",
   "execution_count": 1,
   "metadata": {},
   "outputs": [],
   "source": [
    "################################################\n",
    "#\n",
    "# Libraries\n",
    "#\n",
    "\n",
    "\n",
    "\n",
    "#\n",
    "################################################"
   ]
  },
  {
   "cell_type": "markdown",
   "metadata": {},
   "source": [
    "## Problem 1 : Axial Loads\n",
    "\n",
    "Let's consider the following familiar problem:\n",
    "\n",
    "> Looking at off-center axial loads on a column, the secant formula defines the force per unit area, $\\frac{P}{A}$, that causes a maximum stress, $\\sigma_m$, in a column of given slenderness ratio, $\\frac{L}{k}$, where $\\frac{ec}{k^2}$ = the eccentricity ratio and E = the modulus of elasticity:\n",
    "\n",
    "$$ \\frac{P}{A} = \\frac{\\sigma_m}{1 + \\frac{ec}{k^2} \\sec{\\sec{ \\left( \\frac{L}{2 k}\\sqrt{\\frac{P}{EA}} \\right) } } }  $$\n",
    " \n",
    "> Compute $\\frac{P}{A}$ for a steel beam where \n",
    "> E = 200,000 MPa, \n",
    "> $\\frac{ec}{k^2}$ = 0.4, and \n",
    "> $\\sigma_m$ = 250 MPa, \n",
    "> for $\\frac{L}{k}$ = 50. "
   ]
  },
  {
   "cell_type": "markdown",
   "metadata": {},
   "source": [
    "### Create the Root Function\n",
    "\n",
    "Let's start by assembling our knowns\n",
    "\n",
    "* E = 200,000 MPa, \n",
    "* $\\frac{ec}{k^2}$ = 0.4, and \n",
    "* $\\sigma_m$ = 250 MPa \n",
    "* $\\frac{L}{k}$ = 50. "
   ]
  },
  {
   "cell_type": "code",
   "execution_count": 2,
   "metadata": {},
   "outputs": [],
   "source": [
    "################################################\n",
    "#\n",
    "# Our Constants\n",
    "#\n",
    "\n",
    "\n",
    "\n",
    "#\n",
    "################################################"
   ]
  },
  {
   "cell_type": "markdown",
   "metadata": {},
   "source": [
    "For our formula, $$ \\frac{P}{A} = \\frac{\\sigma_m}{1 + \\frac{ec}{k^2} \\sec{ \\left( \\frac{L}{2 k}\\sqrt{\\frac{P}{EA}} \\right) } }  $$\n",
    "\n",
    " let's present it as a function but as always, let's present it in \"root\" form with every term on one side of the equal sign.\n",
    "\n",
    "$$ f\\left(  \\frac{P}{A} \\right)  = \\frac{\\sigma_m}{1 + \\frac{ec}{k^2} \\sec{ \\left( \\frac{L}{2 k}\\sqrt{\\frac{P}{EA}} \\right) } } - \\frac{P}{A} $$"
   ]
  },
  {
   "cell_type": "code",
   "execution_count": 3,
   "metadata": {},
   "outputs": [],
   "source": [
    "################################################\n",
    "#\n",
    "# Our Root Function, f(PA), \n",
    "#\n",
    "#   Note that as with Mathcad, if the parameters were defined\n",
    "#    defined above, they will be inherite in the equation below.\n",
    "#\n",
    "\n",
    "\n",
    "\n",
    "#\n",
    "# However, if you redefine a parameter after defining\n",
    "#    the function (e.g., Lk) it will update the\n",
    "#    value in the function, accordingly\n",
    "#\n",
    "# Try this and see what happens\n",
    "#\n",
    "################################################"
   ]
  },
  {
   "cell_type": "markdown",
   "metadata": {},
   "source": [
    "### Plotting the Function\n",
    "Now let's plot the function so we have a feel for the first guesses.\n",
    "\n",
    "For this we will use the symbolic solving library (SymPy)"
   ]
  },
  {
   "cell_type": "code",
   "execution_count": 4,
   "metadata": {},
   "outputs": [],
   "source": [
    "################################################\n",
    "#\n",
    "# Use SymPy to plot\n",
    "#\n",
    "\n",
    "\n",
    "#\n",
    "################################################"
   ]
  },
  {
   "cell_type": "markdown",
   "metadata": {},
   "source": [
    "### Solving the System with SciPy's Optimization Routines\n",
    "From the graph we can guess that our brackets should between 100 and 200. \n",
    "\n",
    "\n",
    "#### Fsolve in SciPy's Optimization Tooklit\n",
    "\n",
    "Let's use their generic function."
   ]
  },
  {
   "cell_type": "code",
   "execution_count": 5,
   "metadata": {},
   "outputs": [],
   "source": [
    "################################################\n",
    "#\n",
    "# SciPy's FSolve Method\n",
    "#\n",
    "\n",
    "\n",
    "\n",
    "#\n",
    "################################################"
   ]
  },
  {
   "cell_type": "markdown",
   "metadata": {},
   "source": [
    "#### Classical Root Methods\n",
    "\n",
    "Here we will use the three methods, Bisecton, a False Position Method and the Secant Method\n",
    "\n",
    "For Newton's Method, you will need to add an explicit formula for f'. For this one... let's not do that one.  You remember how scary it was.... OK... if you didn't:"
   ]
  },
  {
   "cell_type": "code",
   "execution_count": 6,
   "metadata": {},
   "outputs": [],
   "source": [
    "################################################\n",
    "#\n",
    "# Why we aren't using Newton's Method\n",
    "#\n",
    "\n",
    "\n",
    "#\n",
    "# \"Let's not...\"\n",
    "#\n",
    "################################################"
   ]
  },
  {
   "cell_type": "markdown",
   "metadata": {},
   "source": [
    "... so let's just use the ones that don't need the derivative.  The next example *will* have a pretty easy derivative with which to work."
   ]
  },
  {
   "cell_type": "code",
   "execution_count": 7,
   "metadata": {},
   "outputs": [],
   "source": [
    "################################################\n",
    "#\n",
    "# SciPy's Bisection Method\n",
    "#\n",
    "\n",
    "\n",
    "\n",
    "#\n",
    "################################################"
   ]
  },
  {
   "cell_type": "code",
   "execution_count": 8,
   "metadata": {},
   "outputs": [],
   "source": [
    "################################################\n",
    "#\n",
    "# SciPy's False-Position Method with Brent-Q\n",
    "#\n",
    "\n",
    "\n",
    "#\n",
    "################################################"
   ]
  },
  {
   "cell_type": "code",
   "execution_count": 9,
   "metadata": {},
   "outputs": [],
   "source": [
    "################################################\n",
    "#\n",
    "# SciPy's Secant Method\n",
    "#\n",
    "\n",
    "\n",
    "\n",
    "\n",
    "#\n",
    "################################################"
   ]
  },
  {
   "cell_type": "markdown",
   "metadata": {},
   "source": [
    "## Problem 2 : The Floating Ball Problem\n",
    "You have a small spherical buoy (we won’t ask what it’s for) with a diameter, *d*, of 11 cm and mass, *m*, of 418 g. (You're on Earth, so acceleration due to gravity, *g* is 980.665 m s$^{-1}$)\n",
    "\n",
    "When immersed in water (which has a density, $\\rho_w$, of 1 g cm$^{-3}$) what is it’s displacement (draft), *h*?\n",
    "\n",
    "For this, use Archimedes Principle from Physics Class in which,\n",
    "\n",
    "*  The Buoyant Force = The Weight of the Object, and \n",
    "*  The Displaced Volume of Fluid = the Volume of Submerged Mass). \n",
    "\n",
    "For this our formulae are \n",
    "\n",
    "$$F_{object} = F_{buoyancy}$$\n",
    "$$F_{object} = m  g $$\n",
    "$$F_{buoyancy} = g \\rho_w V_{disp}$$\n",
    "$$V_{disp}(h) = \\frac{\\pi h^2}{3} \\left(  3r-h  \\right)$$\n",
    "\n",
    "\n",
    "\n"
   ]
  },
  {
   "cell_type": "markdown",
   "metadata": {},
   "source": [
    "### Initial Attack and Problem Setup\n",
    "\n",
    "This one is a little different because we are deriving our root equation from first principles.\n",
    "\n",
    "We can start by pen-and-paperwork to make our root equation, *f*(*h*)... I'm doing the results here in the notebook using the formulas from above\n",
    "\n",
    "$$F_{object} = F_{buoyancy}$$\n",
    "$$ m g  = g \\rho_w V_{disp}$$\n",
    "$$ m g  = g \\rho_w \\frac{\\pi h^2}{3} \\left(  3r-h  \\right)$$\n",
    "$$ m  =  \\frac{ \\rho_w \\pi}{3}  h^2 \\left(  3r-h  \\right)$$\n",
    "$$ f(h) = \\frac{ \\rho_w \\pi}{3}  h^2 \\left(  3r-h  \\right) - m$$\n",
    "\n",
    "\n",
    "Then we create our known variables.  We are grounded here in the cgs units system."
   ]
  },
  {
   "cell_type": "code",
   "execution_count": 10,
   "metadata": {},
   "outputs": [],
   "source": [
    "################################################################\n",
    "#\n",
    "# Known Variables\n",
    "#\n",
    "#   Physical Constants\n",
    "#\n",
    "\n",
    "\n",
    "#\n",
    "#   Parameters for Buoy \n",
    "#\n",
    "\n",
    "\n",
    "\n",
    "#\n",
    "################################################################"
   ]
  },
  {
   "cell_type": "markdown",
   "metadata": {},
   "source": [
    "Now let's make our formulas.  As before we can do these for both SciPy and SymPy.\n",
    "\n",
    "We'll start with SymPy"
   ]
  },
  {
   "cell_type": "code",
   "execution_count": 11,
   "metadata": {},
   "outputs": [],
   "source": [
    "################################################################\n",
    "#\n",
    "# Our Root Equation f(h) for SymPy\n",
    "#\n",
    "\n",
    "\n",
    "\n",
    "#\n",
    "# remember the symplify and expand arrow modifiers in Mathcad?\n",
    "#\n",
    "\n",
    "\n",
    "#\n",
    "################################################################"
   ]
  },
  {
   "cell_type": "markdown",
   "metadata": {},
   "source": [
    "Which we see is a cubic solution.  This is a polynoial and an \"algebraic\" equation and is relatively hastle-free so long as our roots aren't imaginary.  With this we can use a symbolic solver\n",
    "\n",
    "### Plotting our Function\n",
    "\n",
    "But let's first plot things out ...\n",
    "\n",
    "...  and we know that the draft on the ball can only go from its bottom (*h* = 0) to its top (*h* = *d*)"
   ]
  },
  {
   "cell_type": "code",
   "execution_count": 12,
   "metadata": {},
   "outputs": [],
   "source": [
    "################################################\n",
    "#\n",
    "# Use SymPy to plot\n",
    "#\n",
    "\n",
    "\n",
    "#\n",
    "################################################"
   ]
  },
  {
   "cell_type": "markdown",
   "metadata": {},
   "source": [
    "So we can eyeball a pair of brackets between 6 and 8 cm\n",
    "\n",
    "### Solving the Root with SymPy's Solver Routines\n",
    "\n",
    "Now let's play with our solvers starting this time with our symbolic ones (the eaier problem was messy so we passed on this).  The safest one to use us normally [solveset](https://docs.sympy.org/latest/modules/solvers/solveset.html) and works like this"
   ]
  },
  {
   "cell_type": "code",
   "execution_count": 13,
   "metadata": {},
   "outputs": [],
   "source": [
    "################################################\n",
    "#\n",
    "# SymPy's Symbolic Solver with Solveset\n",
    "#\n",
    "\n",
    "\n",
    "\n",
    "#\n",
    "################################################"
   ]
  },
  {
   "cell_type": "markdown",
   "metadata": {},
   "source": [
    "So here it gives is three roots and we now based on our known physical limits of our problem that our results must be between 0 and 11 cm.  That leaves the 6.2 cm solution to be our answer.\n",
    "\n",
    "### Solving the Root with SciPy's Basic Root Optimization Schemes\n",
    "\n",
    "Again, let's use the [fsolve](https://docs.scipy.org/doc/scipy/reference/generated/scipy.optimize.fsolve.html#scipy.optimize.fsolve) function\n"
   ]
  },
  {
   "cell_type": "code",
   "execution_count": 14,
   "metadata": {},
   "outputs": [],
   "source": [
    "################################################\n",
    "#\n",
    "# SciPy's FSolve Method\n",
    "#\n",
    "\n",
    "\n",
    "\n",
    "#\n",
    "################################################"
   ]
  },
  {
   "cell_type": "markdown",
   "metadata": {},
   "source": [
    "### Solving the Root with SciPy's Classic Optimization Routines\n",
    "\n",
    "Now we can use our three basic solvers (Bisection, False-Position, and Secant)"
   ]
  },
  {
   "cell_type": "code",
   "execution_count": 15,
   "metadata": {},
   "outputs": [],
   "source": [
    "################################################\n",
    "#\n",
    "# SciPy's Bisection Method\n",
    "#\n",
    "\n",
    "\n",
    "\n",
    "#\n",
    "################################################"
   ]
  },
  {
   "cell_type": "code",
   "execution_count": 16,
   "metadata": {},
   "outputs": [],
   "source": [
    "################################################\n",
    "#\n",
    "# SciPy's False-Position Method with Brent-Q\n",
    "#\n",
    "\n",
    "\n",
    "#\n",
    "################################################"
   ]
  },
  {
   "cell_type": "code",
   "execution_count": 17,
   "metadata": {},
   "outputs": [],
   "source": [
    "################################################\n",
    "#\n",
    "# SciPy's Secant Method\n",
    "#\n",
    "\n",
    "\n",
    "\n",
    "\n",
    "#\n",
    "################################################"
   ]
  },
  {
   "cell_type": "markdown",
   "metadata": {},
   "source": [
    "Finally we can now do a demonstration of Newton-Raphson.  This is a little more complex since we will need to calculate a derivative and it's not as seamless as with Mathcad.  \n",
    "\n",
    "Here we will need to do it in three steps"
   ]
  },
  {
   "cell_type": "code",
   "execution_count": 18,
   "metadata": {},
   "outputs": [],
   "source": [
    "#################################################################\n",
    "#\n",
    "# SciPy's Newton-Raphson Method Part 1\n",
    "#\n",
    "# First get our first derivative of f(h)\n",
    "#\n",
    "\n",
    "\n",
    "\n",
    "#\n",
    "################################################################"
   ]
  },
  {
   "cell_type": "code",
   "execution_count": 19,
   "metadata": {},
   "outputs": [],
   "source": [
    "################################################################\n",
    "#\n",
    "# SciPy's Newton-Raphson Method Part 2\n",
    "#\n",
    "# cut-n-paste the derivative formula above into a new function\n",
    "#\n",
    "\n",
    "\n",
    "\n",
    "#\n",
    "################################################################"
   ]
  },
  {
   "cell_type": "code",
   "execution_count": 20,
   "metadata": {},
   "outputs": [],
   "source": [
    "################################################################\n",
    "#\n",
    "# SciPy's Newton-Raphson Method Part 3\n",
    "#\n",
    "# Now as in the earlier cases just run the root_scalar function\n",
    "#\n",
    "\n",
    "\n",
    "\n",
    "#\n",
    "################################################################"
   ]
  },
  {
   "cell_type": "markdown",
   "metadata": {},
   "source": [
    "## Version Information"
   ]
  },
  {
   "cell_type": "code",
   "execution_count": 21,
   "metadata": {},
   "outputs": [
    {
     "data": {
      "application/json": {
       "Software versions": [
        {
         "module": "Python",
         "version": "3.7.7 64bit [Clang 11.0.0 (clang-1100.0.33.17)]"
        },
        {
         "module": "IPython",
         "version": "7.13.0"
        },
        {
         "module": "OS",
         "version": "Darwin 19.4.0 x86_64 i386 64bit"
        },
        {
         "module": "version_information",
         "version": "1.0.3"
        },
        {
         "module": "numpy",
         "version": "1.18.2"
        },
        {
         "module": "matplotlib",
         "version": "3.2.1"
        },
        {
         "module": "scipy",
         "version": "1.4.1"
        },
        {
         "module": "sympy",
         "version": "1.5.1"
        }
       ]
      },
      "text/html": [
       "<table><tr><th>Software</th><th>Version</th></tr><tr><td>Python</td><td>3.7.7 64bit [Clang 11.0.0 (clang-1100.0.33.17)]</td></tr><tr><td>IPython</td><td>7.13.0</td></tr><tr><td>OS</td><td>Darwin 19.4.0 x86_64 i386 64bit</td></tr><tr><td>version_information</td><td>1.0.3</td></tr><tr><td>numpy</td><td>1.18.2</td></tr><tr><td>matplotlib</td><td>3.2.1</td></tr><tr><td>scipy</td><td>1.4.1</td></tr><tr><td>sympy</td><td>1.5.1</td></tr><tr><td colspan='2'>Fri Apr 17 15:15:50 2020 MDT</td></tr></table>"
      ],
      "text/latex": [
       "\\begin{tabular}{|l|l|}\\hline\n",
       "{\\bf Software} & {\\bf Version} \\\\ \\hline\\hline\n",
       "Python & 3.7.7 64bit [Clang 11.0.0 (clang-1100.0.33.17)] \\\\ \\hline\n",
       "IPython & 7.13.0 \\\\ \\hline\n",
       "OS & Darwin 19.4.0 x86\\_64 i386 64bit \\\\ \\hline\n",
       "version_information & 1.0.3 \\\\ \\hline\n",
       "numpy & 1.18.2 \\\\ \\hline\n",
       "matplotlib & 3.2.1 \\\\ \\hline\n",
       "scipy & 1.4.1 \\\\ \\hline\n",
       "sympy & 1.5.1 \\\\ \\hline\n",
       "\\hline \\multicolumn{2}{|l|}{Fri Apr 17 15:15:50 2020 MDT} \\\\ \\hline\n",
       "\\end{tabular}\n"
      ],
      "text/plain": [
       "Software versions\n",
       "Python 3.7.7 64bit [Clang 11.0.0 (clang-1100.0.33.17)]\n",
       "IPython 7.13.0\n",
       "OS Darwin 19.4.0 x86_64 i386 64bit\n",
       "version_information 1.0.3\n",
       "numpy 1.18.2\n",
       "matplotlib 3.2.1\n",
       "scipy 1.4.1\n",
       "sympy 1.5.1\n",
       "Fri Apr 17 15:15:50 2020 MDT"
      ]
     },
     "execution_count": 21,
     "metadata": {},
     "output_type": "execute_result"
    }
   ],
   "source": [
    "################################################################\n",
    "#\n",
    "# Loading Version Information\n",
    "#\n",
    "\n",
    "%load_ext version_information\n",
    "\n",
    "%version_information version_information, numpy, matplotlib, scipy, sympy\n",
    "\n",
    "#\n",
    "################################################################"
   ]
  }
 ],
 "metadata": {
  "kernelspec": {
   "display_name": "Python 3",
   "language": "python",
   "name": "python3"
  },
  "language_info": {
   "codemirror_mode": {
    "name": "ipython",
    "version": 3
   },
   "file_extension": ".py",
   "mimetype": "text/x-python",
   "name": "python",
   "nbconvert_exporter": "python",
   "pygments_lexer": "ipython3",
   "version": "3.7.7"
  }
 },
 "nbformat": 4,
 "nbformat_minor": 2
}
