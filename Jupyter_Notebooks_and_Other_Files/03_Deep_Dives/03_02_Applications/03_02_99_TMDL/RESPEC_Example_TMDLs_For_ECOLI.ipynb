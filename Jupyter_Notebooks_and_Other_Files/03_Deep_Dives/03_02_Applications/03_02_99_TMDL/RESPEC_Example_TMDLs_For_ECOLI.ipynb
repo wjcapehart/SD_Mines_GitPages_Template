{
 "cells": [
  {
   "cell_type": "markdown",
   "metadata": {},
   "source": [
    "![CEE Masthead](http://kyrill.ias.sdsmt.edu/wjc/eduresources/CEE_284_Masthead.png)\n",
    "\n",
    "# RESPEC Example of TMDLs of *Ecoli*"
   ]
  },
  {
   "cell_type": "markdown",
   "metadata": {},
   "source": [
    "## Introduction\n",
    "\n",
    "\n"
   ]
  },
  {
   "cell_type": "markdown",
   "metadata": {},
   "source": [
    "\n"
   ]
  },
  {
   "cell_type": "markdown",
   "metadata": {},
   "source": [
    "## Libraries\n",
    "\n",
    "Let's start with the libraries\n",
    "\n",
    "* [NumPy](https://docs.scipy.org/doc/NumPy/reference/routines.math.html) for some basic math functions\n",
    "* [Pandas](https://pandas.pydata.org) Python Data Analysis Library\n",
    "* [SciPy](https://docs.scipy.org/doc/scipy/reference/stats.mstats.html) for statistics\n",
    "* [IterTools](https://docs.python.org/3/library/itertools.html) Functions creating iterators for efficient looping\n",
    "* [DateTime](https://docs.python.org/3/library/datetime.html) a date-time support library\n",
    "* [Matplotlib](https://matplotlib.org) for plotting\n",
    "\n",
    "\n"
   ]
  },
  {
   "cell_type": "code",
   "execution_count": 17,
   "metadata": {},
   "outputs": [],
   "source": [
    "################################################\n",
    "#\n",
    "# Libraries\n",
    "#\n",
    "\n",
    "import numpy              as np\n",
    "import pandas             as pd\n",
    "import scipy.stats.mstats as scimstats\n",
    "import itertools          as itls\n",
    "import datetime           as dt\n",
    "import matplotlib.pyplot  as plt\n",
    "\n",
    "#\n",
    "################################################"
   ]
  },
  {
   "cell_type": "code",
   "execution_count": null,
   "metadata": {},
   "outputs": [],
   "source": []
  },
  {
   "cell_type": "code",
   "execution_count": 18,
   "metadata": {},
   "outputs": [],
   "source": [
    "#from MPCA\n",
    "datafilepath = 'http://kyrill.ias.sdsmt.edu/wjc/eduresources/RESPEC_TMDL_EXAMPLE/Data.csv'\n"
   ]
  },
  {
   "cell_type": "code",
   "execution_count": null,
   "metadata": {},
   "outputs": [],
   "source": []
  },
  {
   "cell_type": "code",
   "execution_count": 19,
   "metadata": {},
   "outputs": [],
   "source": [
    "#create using GIS (impaired reaches and available data for each impaired parm)\n",
    "sitefilepath = 'http://kyrill.ias.sdsmt.edu/wjc/eduresources/RESPEC_TMDL_EXAMPLE/ObsEvalSites.csv'"
   ]
  },
  {
   "cell_type": "code",
   "execution_count": null,
   "metadata": {},
   "outputs": [],
   "source": []
  },
  {
   "cell_type": "code",
   "execution_count": 20,
   "metadata": {},
   "outputs": [],
   "source": [
    "#export using SARA, save as CSV, delete stats\n",
    "simflowfilepath = 'http://kyrill.ias.sdsmt.edu/wjc/eduresources/RESPEC_TMDL_EXAMPLE/Flow.csv'\n"
   ]
  },
  {
   "cell_type": "code",
   "execution_count": null,
   "metadata": {},
   "outputs": [],
   "source": []
  },
  {
   "cell_type": "code",
   "execution_count": 21,
   "metadata": {},
   "outputs": [],
   "source": [
    "#Read Water Quality Data and TMDL Sites\n",
    "df = pd.read_csv(datafilepath,index_col='SYS_LOC_CODE', encoding='unicode_escape')\n",
    "sites = pd.read_csv(sitefilepath,index_col='SYS_LOC_CODE')\n",
    "df['Date_F'] = pd.to_datetime(df['SAMPLEDATE'])\n",
    "df['Month']=df['Date_F'].dt.month\n",
    "df['Year']=df['Date_F'].dt.year\n",
    "dfsites = pd.merge(df,sites,right_index=True, left_index=True)\n"
   ]
  },
  {
   "cell_type": "code",
   "execution_count": null,
   "metadata": {},
   "outputs": [],
   "source": []
  },
  {
   "cell_type": "code",
   "execution_count": 22,
   "metadata": {},
   "outputs": [],
   "source": [
    "TMDLStartYear = 2009\n",
    "TMDLEndYear = 2018\n",
    "EcoliStartMonth = 4\n",
    "EcoliEndMonth = 10"
   ]
  },
  {
   "cell_type": "code",
   "execution_count": null,
   "metadata": {},
   "outputs": [],
   "source": []
  },
  {
   "cell_type": "code",
   "execution_count": 23,
   "metadata": {},
   "outputs": [],
   "source": [
    "EcoliStandardGeomean = 126\n",
    "EcoliStandardDM = 1260"
   ]
  },
  {
   "cell_type": "code",
   "execution_count": null,
   "metadata": {},
   "outputs": [],
   "source": []
  },
  {
   "cell_type": "code",
   "execution_count": 24,
   "metadata": {},
   "outputs": [],
   "source": [
    "#Specify Standards\n",
    "EcoliStandardMGM = pd.DataFrame({'Month':[1,12],'E. coli Geomean Standard (126 mpn/100mL)':[EcoliStandardGeomean,EcoliStandardGeomean]})\n",
    "EcoliStandardMDM = pd.DataFrame({'Month':[1,12],'E. coli Daily Max Standard (1,260 mpn/100mL)':[EcoliStandardDM,EcoliStandardDM]})\n",
    "EcoliStandardYGM = pd.DataFrame({'Year':[TMDLStartYear-1,TMDLEndYear+1],'E. coli Geomean Standard (126 mpn/100mL)':[EcoliStandardGeomean,EcoliStandardGeomean]})\n",
    "EcoliStandardYDM = pd.DataFrame({'Year':[TMDLStartYear-1,TMDLEndYear+1],'E. coli Daily Max Standard (1,260 mpn/100mL)':[EcoliStandardDM,EcoliStandardDM]})\n"
   ]
  },
  {
   "cell_type": "code",
   "execution_count": null,
   "metadata": {},
   "outputs": [],
   "source": []
  },
  {
   "cell_type": "code",
   "execution_count": 25,
   "metadata": {},
   "outputs": [],
   "source": [
    "#Pull Seasonal E.coli Data from File\n",
    "Ecoli = dfsites[dfsites['CHEMICAL_NAME'] == 'Escherichia coli']\n",
    "EcoliAll = Ecoli[['Reach', 'Date_F', 'SAMPLE_TYPE_CODE', 'Month', 'Year', 'REPORT_RESULT_VALUE', 'Ecoli']]\n",
    "EcoliTMDL = EcoliAll[EcoliAll['Ecoli'] == 'Y']\n",
    "EcoliTMDL = EcoliTMDL.loc[EcoliTMDL['SAMPLE_TYPE_CODE'] == 'Sample']\n",
    "EcoliSeasonal = EcoliTMDL[(EcoliTMDL.Month >= EcoliStartMonth) & (EcoliTMDL.Month <= EcoliEndMonth) & (EcoliTMDL.Year >= TMDLStartYear) & (EcoliTMDL.Year <= TMDLEndYear)]\n",
    "EcoliSeasonalPlots = EcoliSeasonal.rename(columns = {'REPORT_RESULT_VALUE': 'E. coli (mpn/100mL)'})\n",
    "EcoliSeasonalPlots['E. coli Standard (mpn/100mL)'] = EcoliStandardDM\n"
   ]
  },
  {
   "cell_type": "code",
   "execution_count": null,
   "metadata": {},
   "outputs": [],
   "source": []
  },
  {
   "cell_type": "code",
   "execution_count": 26,
   "metadata": {},
   "outputs": [],
   "source": [
    "#Read Simulated Flow, EXPORT FROM SARA, ADD 'r' TO BEGINNING OF REACH DATA, CHANGE TYPE TO NUMBER IN EXCEL!!!\n",
    "SimFlow = pd.read_csv(simflowfilepath)\n",
    "SimFlow['Date_F'] = pd.to_datetime(SimFlow['Date'])\n",
    "SimFlow['Month']=SimFlow['Date_F'].dt.month\n",
    "SimFlow['Year']=SimFlow['Date_F'].dt.year\n"
   ]
  },
  {
   "cell_type": "code",
   "execution_count": null,
   "metadata": {},
   "outputs": [],
   "source": []
  },
  {
   "cell_type": "code",
   "execution_count": 27,
   "metadata": {},
   "outputs": [],
   "source": [
    "#Convert Simulated Flow from ac-ft/day to cfs\n",
    "SimFlow['r97']=SimFlow['r97']*43560/86400\n",
    "SimFlow['r213']=SimFlow['r213']*43560/86400\n"
   ]
  },
  {
   "cell_type": "code",
   "execution_count": null,
   "metadata": {},
   "outputs": [],
   "source": []
  },
  {
   "cell_type": "code",
   "execution_count": 28,
   "metadata": {},
   "outputs": [],
   "source": [
    "##Sort flow by Impaired Reach and Calculate Percentiles for Flow Duration\n",
    "##UPDATE Model Reach and TMDL Reach\n",
    "\n",
    "Flow_505_Ecoli_temp=SimFlow.loc[(SimFlow.Month>= EcoliStartMonth) & (SimFlow.Month <= EcoliEndMonth) & (SimFlow.Year >=TMDLStartYear),('Date_F','r213','Month','Year')]\n",
    "Flow_505_Ecoli=Flow_505_Ecoli_temp.sort_values('r213')\n",
    "Flow_505_Ecoli['Rank_Pct']=Flow_505_Ecoli.r213.rank(pct=True)\n",
    "Flow_505_Ecoli['Rank_Pct_Normalized'] = (1-Flow_505_Ecoli.Rank_Pct/Flow_505_Ecoli['Rank_Pct'].max())*100 \n",
    "Flow_505_Ecoli['GM Loading Capacity'] = Flow_505_Ecoli['r213']*EcoliStandardGeomean*28316.8*86400/100\n",
    "Flow_505_Ecoli['DM Loading Capacity'] = Flow_505_Ecoli['r213']*EcoliStandardDM*28316.8*86400/100\n",
    "Flow_505_Ecoli['Reach'] = 505\n",
    "Flow_505_Ecoli['Flow_Zone']='Very High'\n",
    "Flow_505_Ecoli.loc[Flow_505_Ecoli['Rank_Pct_Normalized']>10, 'Flow_Zone'] = 'High'\n",
    "Flow_505_Ecoli.loc[Flow_505_Ecoli['Rank_Pct_Normalized']>40, 'Flow_Zone'] = 'Mid'\n",
    "Flow_505_Ecoli.loc[Flow_505_Ecoli['Rank_Pct_Normalized']>60, 'Flow_Zone'] = 'Low'\n",
    "Flow_505_Ecoli.loc[Flow_505_Ecoli['Rank_Pct_Normalized']>90, 'Flow_Zone'] = 'Very Low'\n",
    "Obs_505_Ecoli = pd.merge(Flow_505_Ecoli,EcoliSeasonalPlots, on=['Reach','Date_F'])\n",
    "Obs_505_Ecoli['Observed Load (mpn/day)']= Obs_505_Ecoli['r213']*Obs_505_Ecoli['E. coli (mpn/100mL)']*28316.8*86400/100\n",
    "Obs_505_Ecoli['Flow_Zone']='Very High'\n",
    "Obs_505_Ecoli.loc[Obs_505_Ecoli['Rank_Pct_Normalized']>10, 'Flow_Zone'] = 'High'\n",
    "Obs_505_Ecoli.loc[Obs_505_Ecoli['Rank_Pct_Normalized']>40, 'Flow_Zone'] = 'Mid'\n",
    "Obs_505_Ecoli.loc[Obs_505_Ecoli['Rank_Pct_Normalized']>60, 'Flow_Zone'] = 'Low'\n",
    "Obs_505_Ecoli.loc[Obs_505_Ecoli['Rank_Pct_Normalized']>90, 'Flow_Zone'] = 'Very Low'\n",
    "\n"
   ]
  },
  {
   "cell_type": "code",
   "execution_count": null,
   "metadata": {},
   "outputs": [],
   "source": []
  },
  {
   "cell_type": "code",
   "execution_count": 29,
   "metadata": {},
   "outputs": [],
   "source": [
    "Flow_507_Ecoli_temp=SimFlow.loc[(SimFlow.Month>= EcoliStartMonth) & (SimFlow.Month <= EcoliEndMonth) & (SimFlow.Year >=TMDLStartYear),('Date_F','r97','Month','Year')]\n",
    "Flow_507_Ecoli=Flow_507_Ecoli_temp.sort_values('r97')\n",
    "Flow_507_Ecoli['Rank_Pct']=Flow_507_Ecoli.r97.rank(pct=True)\n",
    "Flow_507_Ecoli['Rank_Pct_Normalized'] = (1-Flow_507_Ecoli.Rank_Pct/Flow_507_Ecoli['Rank_Pct'].max())*100\n",
    "Flow_507_Ecoli['GM Loading Capacity'] = Flow_507_Ecoli['r97']*EcoliStandardGeomean*28316.8*86400/100\n",
    "Flow_507_Ecoli['DM Loading Capacity'] = Flow_507_Ecoli['r97']*EcoliStandardDM*28316.8*86400/100\n",
    "Flow_507_Ecoli['Reach'] = 507\n",
    "Flow_507_Ecoli['Flow_Zone']='Very High'\n",
    "Flow_507_Ecoli.loc[Flow_507_Ecoli['Rank_Pct_Normalized']>10, 'Flow_Zone'] = 'High'\n",
    "Flow_507_Ecoli.loc[Flow_507_Ecoli['Rank_Pct_Normalized']>40, 'Flow_Zone'] = 'Mid'\n",
    "Flow_507_Ecoli.loc[Flow_507_Ecoli['Rank_Pct_Normalized']>60, 'Flow_Zone'] = 'Low'\n",
    "Flow_507_Ecoli.loc[Flow_507_Ecoli['Rank_Pct_Normalized']>90, 'Flow_Zone'] = 'Very Low'\n",
    "Obs_507_Ecoli = pd.merge(Flow_507_Ecoli,EcoliSeasonalPlots, on=['Reach','Date_F'])\n",
    "Obs_507_Ecoli['Observed Load (mpn/day)']= Obs_507_Ecoli['r97']*Obs_507_Ecoli['E. coli (mpn/100mL)']*28316.8*86400/100\n",
    "Obs_507_Ecoli['Flow_Zone']='Very High'\n",
    "Obs_507_Ecoli.loc[Obs_507_Ecoli['Rank_Pct_Normalized']>10, 'Flow_Zone'] = 'High'\n",
    "Obs_507_Ecoli.loc[Obs_507_Ecoli['Rank_Pct_Normalized']>40, 'Flow_Zone'] = 'Mid'\n",
    "Obs_507_Ecoli.loc[Obs_507_Ecoli['Rank_Pct_Normalized']>60, 'Flow_Zone'] = 'Low'\n",
    "Obs_507_Ecoli.loc[Obs_507_Ecoli['Rank_Pct_Normalized']>90, 'Flow_Zone'] = 'Very Low'\n"
   ]
  },
  {
   "cell_type": "code",
   "execution_count": null,
   "metadata": {},
   "outputs": [],
   "source": []
  },
  {
   "cell_type": "code",
   "execution_count": 30,
   "metadata": {},
   "outputs": [
    {
     "data": {
      "image/png": "[encoded data removed]",
      "text/plain": [
       "<Figure size 432x288 with 1 Axes>"
      ]
     },
     "metadata": {
      "needs_background": "light"
     },
     "output_type": "display_data"
    }
   ],
   "source": [
    "#Make Plots \n",
    "#Ecoli Monthly Plots\n",
    "for i, group in EcoliSeasonalPlots.groupby('Reach'):  \n",
    "    ax = group.plot.scatter(x='Month',y='E. coli (mpn/100mL)', grid=True, title=str(i))\n",
    "    EcoliStandardMDM[['Month', 'E. coli Daily Max Standard (1,260 mpn/100mL)']].plot(x='Month',ax=ax,c='DarkRed')\n",
    "    EcoliStandardMGM[['Month', 'E. coli Geomean Standard (126 mpn/100mL)']].plot(x='Month',ax=ax,c='Red')\n",
    "    ax.set_ylim(0,3000)\n",
    "    ax.set_xlim(EcoliStartMonth-1,EcoliEndMonth+1)\n",
    "    plt.show()\n"
   ]
  },
  {
   "cell_type": "code",
   "execution_count": null,
   "metadata": {},
   "outputs": [],
   "source": []
  },
  {
   "cell_type": "code",
   "execution_count": 31,
   "metadata": {},
   "outputs": [
    {
     "data": {
      "image/png": "[encoded data removed]",
      "text/plain": [
       "<Figure size 432x288 with 1 Axes>"
      ]
     },
     "metadata": {
      "needs_background": "light"
     },
     "output_type": "display_data"
    }
   ],
   "source": [
    "#Ecoli Annual Plots\n",
    "for i, group in EcoliSeasonalPlots.groupby('Reach'):  \n",
    "    ax = group.plot.scatter(x='Year',y='E. coli (mpn/100mL)', grid=True, title=str(i))\n",
    "    EcoliStandardYDM[['Year', 'E. coli Daily Max Standard (1,260 mpn/100mL)']].plot(x='Year',ax=ax,c='DarkRed')\n",
    "    EcoliStandardYGM[['Year', 'E. coli Geomean Standard (126 mpn/100mL)']].plot(x='Year',ax=ax,c='Red')\n",
    "    ax.set_ylim(0,3000)\n",
    "    ax.set_xlim(TMDLStartYear-1,TMDLEndYear)\n",
    "    plt.show()\n"
   ]
  },
  {
   "cell_type": "code",
   "execution_count": null,
   "metadata": {},
   "outputs": [],
   "source": []
  },
  {
   "cell_type": "code",
   "execution_count": 34,
   "metadata": {},
   "outputs": [
    {
     "ename": "FileNotFoundError",
     "evalue": "[Errno 2] No such file or directory: './Table/sEcoliStatsMonth.csv'",
     "output_type": "error",
     "traceback": [
      "\u001b[0;31m---------------------------------------------------------------------------\u001b[0m",
      "\u001b[0;31mFileNotFoundError\u001b[0m                         Traceback (most recent call last)",
      "\u001b[0;32m<ipython-input-34-60405795fbaa>\u001b[0m in \u001b[0;36m<module>\u001b[0;34m\u001b[0m\n\u001b[1;32m      2\u001b[0m \u001b[0mEcoliStatsMonth\u001b[0m \u001b[0;34m=\u001b[0m \u001b[0mEcoliSeasonalPlots\u001b[0m\u001b[0;34m.\u001b[0m\u001b[0mgroupby\u001b[0m\u001b[0;34m(\u001b[0m\u001b[0;34m[\u001b[0m\u001b[0;34m'Reach'\u001b[0m\u001b[0;34m,\u001b[0m \u001b[0;34m'Month'\u001b[0m\u001b[0;34m]\u001b[0m\u001b[0;34m)\u001b[0m\u001b[0;34m[\u001b[0m\u001b[0;34m'E. coli (mpn/100mL)'\u001b[0m\u001b[0;34m]\u001b[0m\u001b[0;34m.\u001b[0m\u001b[0mdescribe\u001b[0m\u001b[0;34m(\u001b[0m\u001b[0mpercentiles\u001b[0m\u001b[0;34m=\u001b[0m\u001b[0;34m[\u001b[0m\u001b[0;36m.5\u001b[0m\u001b[0;34m,\u001b[0m\u001b[0;36m.9\u001b[0m\u001b[0;34m,\u001b[0m\u001b[0;36m.95\u001b[0m\u001b[0;34m]\u001b[0m\u001b[0;34m)\u001b[0m\u001b[0;34m\u001b[0m\u001b[0;34m\u001b[0m\u001b[0m\n\u001b[1;32m      3\u001b[0m \u001b[0mEcoliStatsYear\u001b[0m \u001b[0;34m=\u001b[0m \u001b[0mEcoliSeasonalPlots\u001b[0m\u001b[0;34m.\u001b[0m\u001b[0mgroupby\u001b[0m\u001b[0;34m(\u001b[0m\u001b[0;34m[\u001b[0m\u001b[0;34m'Reach'\u001b[0m\u001b[0;34m,\u001b[0m \u001b[0;34m'Year'\u001b[0m\u001b[0;34m]\u001b[0m\u001b[0;34m)\u001b[0m\u001b[0;34m[\u001b[0m\u001b[0;34m'E. coli (mpn/100mL)'\u001b[0m\u001b[0;34m]\u001b[0m\u001b[0;34m.\u001b[0m\u001b[0mdescribe\u001b[0m\u001b[0;34m(\u001b[0m\u001b[0mpercentiles\u001b[0m\u001b[0;34m=\u001b[0m\u001b[0;34m[\u001b[0m\u001b[0;36m.5\u001b[0m\u001b[0;34m,\u001b[0m\u001b[0;36m.9\u001b[0m\u001b[0;34m,\u001b[0m\u001b[0;36m.95\u001b[0m\u001b[0;34m]\u001b[0m\u001b[0;34m)\u001b[0m\u001b[0;34m\u001b[0m\u001b[0;34m\u001b[0m\u001b[0m\n\u001b[0;32m----> 4\u001b[0;31m \u001b[0mEcoliStatsMonth\u001b[0m\u001b[0;34m.\u001b[0m\u001b[0mto_csv\u001b[0m\u001b[0;34m(\u001b[0m\u001b[0;34m'./Table/sEcoliStatsMonth.csv'\u001b[0m\u001b[0;34m)\u001b[0m\u001b[0;34m\u001b[0m\u001b[0;34m\u001b[0m\u001b[0m\n\u001b[0m\u001b[1;32m      5\u001b[0m \u001b[0mEcoliStatsYear\u001b[0m\u001b[0;34m.\u001b[0m\u001b[0mto_csv\u001b[0m\u001b[0;34m(\u001b[0m\u001b[0;34m'./Table/EcoliStatsYear.csv'\u001b[0m\u001b[0;34m)\u001b[0m\u001b[0;34m\u001b[0m\u001b[0;34m\u001b[0m\u001b[0m\n\u001b[1;32m      6\u001b[0m \u001b[0mEcoliSeasonalPlots\u001b[0m\u001b[0;34m.\u001b[0m\u001b[0mto_csv\u001b[0m\u001b[0;34m(\u001b[0m\u001b[0;34m'./Table/EcoliSeasonalData.csv'\u001b[0m\u001b[0;34m)\u001b[0m\u001b[0;34m\u001b[0m\u001b[0;34m\u001b[0m\u001b[0m\n",
      "\u001b[0;32m/Library/Python/3.7/site-packages/pandas/core/generic.py\u001b[0m in \u001b[0;36mto_csv\u001b[0;34m(self, path_or_buf, sep, na_rep, float_format, columns, header, index, index_label, mode, encoding, compression, quoting, quotechar, line_terminator, chunksize, date_format, doublequote, escapechar, decimal)\u001b[0m\n\u001b[1;32m   3226\u001b[0m             \u001b[0mdecimal\u001b[0m\u001b[0;34m=\u001b[0m\u001b[0mdecimal\u001b[0m\u001b[0;34m,\u001b[0m\u001b[0;34m\u001b[0m\u001b[0;34m\u001b[0m\u001b[0m\n\u001b[1;32m   3227\u001b[0m         )\n\u001b[0;32m-> 3228\u001b[0;31m         \u001b[0mformatter\u001b[0m\u001b[0;34m.\u001b[0m\u001b[0msave\u001b[0m\u001b[0;34m(\u001b[0m\u001b[0;34m)\u001b[0m\u001b[0;34m\u001b[0m\u001b[0;34m\u001b[0m\u001b[0m\n\u001b[0m\u001b[1;32m   3229\u001b[0m \u001b[0;34m\u001b[0m\u001b[0m\n\u001b[1;32m   3230\u001b[0m         \u001b[0;32mif\u001b[0m \u001b[0mpath_or_buf\u001b[0m \u001b[0;32mis\u001b[0m \u001b[0;32mNone\u001b[0m\u001b[0;34m:\u001b[0m\u001b[0;34m\u001b[0m\u001b[0;34m\u001b[0m\u001b[0m\n",
      "\u001b[0;32m/Library/Python/3.7/site-packages/pandas/io/formats/csvs.py\u001b[0m in \u001b[0;36msave\u001b[0;34m(self)\u001b[0m\n\u001b[1;32m    181\u001b[0m                 \u001b[0mself\u001b[0m\u001b[0;34m.\u001b[0m\u001b[0mmode\u001b[0m\u001b[0;34m,\u001b[0m\u001b[0;34m\u001b[0m\u001b[0;34m\u001b[0m\u001b[0m\n\u001b[1;32m    182\u001b[0m                 \u001b[0mencoding\u001b[0m\u001b[0;34m=\u001b[0m\u001b[0mself\u001b[0m\u001b[0;34m.\u001b[0m\u001b[0mencoding\u001b[0m\u001b[0;34m,\u001b[0m\u001b[0;34m\u001b[0m\u001b[0;34m\u001b[0m\u001b[0m\n\u001b[0;32m--> 183\u001b[0;31m                 \u001b[0mcompression\u001b[0m\u001b[0;34m=\u001b[0m\u001b[0mself\u001b[0m\u001b[0;34m.\u001b[0m\u001b[0mcompression\u001b[0m\u001b[0;34m,\u001b[0m\u001b[0;34m\u001b[0m\u001b[0;34m\u001b[0m\u001b[0m\n\u001b[0m\u001b[1;32m    184\u001b[0m             )\n\u001b[1;32m    185\u001b[0m             \u001b[0mclose\u001b[0m \u001b[0;34m=\u001b[0m \u001b[0;32mTrue\u001b[0m\u001b[0;34m\u001b[0m\u001b[0;34m\u001b[0m\u001b[0m\n",
      "\u001b[0;32m/Library/Python/3.7/site-packages/pandas/io/common.py\u001b[0m in \u001b[0;36m_get_handle\u001b[0;34m(path_or_buf, mode, encoding, compression, memory_map, is_text)\u001b[0m\n\u001b[1;32m    397\u001b[0m         \u001b[0;32mif\u001b[0m \u001b[0mencoding\u001b[0m\u001b[0;34m:\u001b[0m\u001b[0;34m\u001b[0m\u001b[0;34m\u001b[0m\u001b[0m\n\u001b[1;32m    398\u001b[0m             \u001b[0;31m# Encoding\u001b[0m\u001b[0;34m\u001b[0m\u001b[0;34m\u001b[0m\u001b[0;34m\u001b[0m\u001b[0m\n\u001b[0;32m--> 399\u001b[0;31m             \u001b[0mf\u001b[0m \u001b[0;34m=\u001b[0m \u001b[0mopen\u001b[0m\u001b[0;34m(\u001b[0m\u001b[0mpath_or_buf\u001b[0m\u001b[0;34m,\u001b[0m \u001b[0mmode\u001b[0m\u001b[0;34m,\u001b[0m \u001b[0mencoding\u001b[0m\u001b[0;34m=\u001b[0m\u001b[0mencoding\u001b[0m\u001b[0;34m,\u001b[0m \u001b[0mnewline\u001b[0m\u001b[0;34m=\u001b[0m\u001b[0;34m\"\"\u001b[0m\u001b[0;34m)\u001b[0m\u001b[0;34m\u001b[0m\u001b[0;34m\u001b[0m\u001b[0m\n\u001b[0m\u001b[1;32m    400\u001b[0m         \u001b[0;32melif\u001b[0m \u001b[0mis_text\u001b[0m\u001b[0;34m:\u001b[0m\u001b[0;34m\u001b[0m\u001b[0;34m\u001b[0m\u001b[0m\n\u001b[1;32m    401\u001b[0m             \u001b[0;31m# No explicit encoding\u001b[0m\u001b[0;34m\u001b[0m\u001b[0;34m\u001b[0m\u001b[0;34m\u001b[0m\u001b[0m\n",
      "\u001b[0;31mFileNotFoundError\u001b[0m: [Errno 2] No such file or directory: './Table/sEcoliStatsMonth.csv'"
     ]
    }
   ],
   "source": [
    "#Ecoli Stats \n",
    "EcoliStatsMonth = EcoliSeasonalPlots.groupby(['Reach', 'Month'])['E. coli (mpn/100mL)'].describe(percentiles=[.5,.9,.95])\n",
    "EcoliStatsYear = EcoliSeasonalPlots.groupby(['Reach', 'Year'])['E. coli (mpn/100mL)'].describe(percentiles=[.5,.9,.95])\n",
    "EcoliStatsMonth.to_csv('./Table/sEcoliStatsMonth.csv')\n",
    "EcoliStatsYear.to_csv('./Table/EcoliStatsYear.csv')\n",
    "EcoliSeasonalPlots.to_csv('./Table/EcoliSeasonalData.csv')\n",
    "\n",
    "EcoliCurrent505flow = Flow_505_Ecoli.groupby(['Flow_Zone'])['r213'].describe(percentiles=[.5,.9,.95])\n",
    "EcoliCurrent507flow = Flow_507_Ecoli.groupby(['Flow_Zone'])['r97'].describe(percentiles=[.5,.9,.95])\n",
    "\n",
    "EcoliCurrent505flow.to_csv('./Table/EcoliCurrent505Flow.csv')\n",
    "EcoliCurrent507flow.to_csv('./Table/EcoliCurrent507Flow.csv')\n",
    "\n",
    "GroupedEcoliMonth = EcoliSeasonalPlots.groupby(['Reach', 'Month'])\n",
    "GmeanEcoliMonth= GroupedEcoliMonth['E. coli (mpn/100mL)'].apply(scimstats.gmean, axis=None).reset_index()\n",
    "GmeanEcoliMonth.to_csv('./Table/EcoliGmeanMonth.csv')\n",
    "GroupedEcoliYear = EcoliSeasonalPlots.groupby(['Reach', 'Year'])\n",
    "GmeanEcoliYear= GroupedEcoliYear['E. coli (mpn/100mL)'].apply(scimstats.gmean, axis=None).reset_index()\n",
    "GmeanEcoliYear.to_csv('./Table/EcoliGmeanYear.csv')\n",
    "\n",
    "GroupedEcoliCurrent505 = Obs_505_Ecoli.groupby(['Reach','Flow_Zone'])\n",
    "GmeanEcoliCurrent505 = GroupedEcoliCurrent505['Observed Load (mpn/day)'].apply(scimstats.gmean, axis=None).reset_index()\n",
    "GmeanEcoliCurrent505Conc = GroupedEcoliCurrent505['E. coli (mpn/100mL)'].apply(scimstats.gmean, axis=None).reset_index()\n",
    "GmeanEcoliCurrent505.to_csv('./Table/EcoliEcoliGmeanCurrent505Load.csv')\n",
    "GmeanEcoliCurrent505Conc.to_csv('./Table/EcoliGmeanCurrent505Conc.csv')\n",
    "\n",
    "GroupedEcoliCurrent507 = Obs_507_Ecoli.groupby(['Reach','Flow_Zone'])\n",
    "GmeanEcoliCurrent507 = GroupedEcoliCurrent507['Observed Load (mpn/day)'].apply(scimstats.gmean, axis=None).reset_index()\n",
    "GmeanEcoliCurrent507Conc = GroupedEcoliCurrent507['E. coli (mpn/100mL)'].apply(scimstats.gmean, axis=None).reset_index()\n",
    "GmeanEcoliCurrent507.to_csv('./Table/EcoliGmeanCurrent507Load.csv')\n",
    "GmeanEcoliCurrent507Conc.to_csv('./Table/EcoliGmeanCurrent507Conc.csv')\n"
   ]
  },
  {
   "cell_type": "code",
   "execution_count": null,
   "metadata": {},
   "outputs": [],
   "source": []
  },
  {
   "cell_type": "code",
   "execution_count": 36,
   "metadata": {},
   "outputs": [
    {
     "data": {
      "image/png": "[encoded data removed]",
      "text/plain": [
       "<Figure size 432x288 with 1 Axes>"
      ]
     },
     "metadata": {
      "needs_background": "light"
     },
     "output_type": "display_data"
    }
   ],
   "source": [
    "#Ecoli Load Duration Curves\n",
    "colors= {1:'Red', 2:'Red', 3: 'Orange', 4:'Orange', 5:'Orange', 6:'Blue', 7:'Blue', 8:'Blue', 9:'Green', 10:'Green', 11:'Green', 12:'Red'}\n",
    "ax = Flow_505_Ecoli.plot(kind='line', x='Rank_Pct_Normalized', y='GM Loading Capacity',title=\"505\", logy=True, xlim=(0,100), xticks=[0,10,20,30,40,50,60,70,80,90,100], label = 'E. coli Loading Capacity (126 org/100 mL)')\n",
    "Flow_505_Ecoli.plot(kind='line', x='Rank_Pct_Normalized', y='DM Loading Capacity',title=\"505\", logy=True, xticks=[0,10,20,30,40,50,60,70,80,90,100], color='Green', ax=ax, label = 'E. coli Loading Capacity (1,260 org/100 mL)')\n",
    "Obs_505_Ecoli.plot(kind='scatter', x='Rank_Pct_Normalized', y='Observed Load (mpn/day)',  c=[colors[i] for i in Obs_505_Ecoli['Month_x']], s=20, ax=ax, label = 'Observed E. coli Loads')\n",
    "# ax.invert_xaxis()\n",
    "ax.set_xlabel('Percent of Time Flows are Equaled or Exceeded')\n",
    "ax.set_ylabel('E. coli Load (mpn/day)')\n",
    "plt.axvline(x=10, color='Black')\n",
    "plt.axvline(x=40, color='Black')\n",
    "plt.axvline(x=60, color='Black')\n",
    "plt.axvline(x=90, color='Black')\n",
    "ax.legend(loc=1)\n",
    "ax.text(0, 10000000000, 'Very High', fontsize=7)\n",
    "ax.text(22, 10000000000, 'High', fontsize=7)\n",
    "ax.text(48, 10000000000, 'Mid', fontsize=7)\n",
    "ax.text(72, 10000000000, 'Low', fontsize=7)\n",
    "ax.text(90, 10000000000, 'Very Low', fontsize=7)\n",
    "ax.text(90, 6500000000000, 'Winter', fontsize=8, color='red')\n",
    "ax.text(90, 1500000000000, 'Spring', fontsize=8, color='orange')\n",
    "ax.text(90, 800000000000, 'Summer', fontsize=8, color='blue')\n",
    "ax.text(90, 400000000000, 'Fall', fontsize=8, color='green')\n",
    "plt.show()\n",
    "\n",
    "\n"
   ]
  },
  {
   "cell_type": "code",
   "execution_count": null,
   "metadata": {},
   "outputs": [],
   "source": []
  },
  {
   "cell_type": "code",
   "execution_count": null,
   "metadata": {},
   "outputs": [],
   "source": []
  },
  {
   "cell_type": "code",
   "execution_count": null,
   "metadata": {},
   "outputs": [],
   "source": []
  },
  {
   "cell_type": "code",
   "execution_count": null,
   "metadata": {},
   "outputs": [],
   "source": []
  },
  {
   "cell_type": "code",
   "execution_count": null,
   "metadata": {},
   "outputs": [],
   "source": []
  },
  {
   "cell_type": "markdown",
   "metadata": {},
   "source": [
    "## Version Information"
   ]
  },
  {
   "cell_type": "code",
   "execution_count": null,
   "metadata": {},
   "outputs": [],
   "source": [
    "################################################################\n",
    "#\n",
    "# Loading Version Information\n",
    "#\n",
    "\n",
    "%load_ext version_information\n",
    "\n",
    "%version_information version_information, numpy, scipy, matplotlib\n",
    "\n",
    "#\n",
    "################################################################"
   ]
  }
 ],
 "metadata": {
  "kernelspec": {
   "display_name": "Python 3",
   "language": "python",
   "name": "python3"
  },
  "language_info": {
   "codemirror_mode": {
    "name": "ipython",
    "version": 3
   },
   "file_extension": ".py",
   "mimetype": "text/x-python",
   "name": "python",
   "nbconvert_exporter": "python",
   "pygments_lexer": "ipython3",
   "version": "3.7.3"
  }
 },
 "nbformat": 4,
 "nbformat_minor": 2
}
