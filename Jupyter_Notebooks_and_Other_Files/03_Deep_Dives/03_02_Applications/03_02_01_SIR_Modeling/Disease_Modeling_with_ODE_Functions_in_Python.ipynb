{
 "cells": [
  {
   "cell_type": "markdown",
   "metadata": {},
   "source": [
    "![CEE Masthead](http://kyrill.ias.sdsmt.edu/wjc/eduresources/CEE_284_Masthead.png)\n",
    "\n",
    "# \"I Got it From Agnes\" (Diff-e-Fu Edition)\n",
    "# Epidemic Modeling"
   ]
  },
  {
   "cell_type": "markdown",
   "metadata": {},
   "source": [
    "## Trigger warning\n",
    "When Dr. Capehart does this in a live session, you get to hear the full (and sometimes uncensored) rant about when a certain PhD student brought their child to sit (in his good chair) with a very distinctive cough to find out by an email the day after that he had been exposed to Whopping Cough.\n",
    "\n",
    "Get your [Tdap](https://www.cdc.gov/vaccines/hcp/vis/vis-statements/tdap.html)!"
   ]
  },
  {
   "cell_type": "markdown",
   "metadata": {},
   "source": [
    "## Introduction\n",
    "This a Python program is an example of a \"Kermack-McKendrick Model\" in epidemic modeling.  \n",
    "\n",
    "\n",
    "This is also a good example of \n",
    "*  Scripting in Python\n",
    "*  Solving Differential Equations in Python\n",
    "*  Creating a Policy-Relevant Model\n",
    "*  Illustrating  how to code coupled systems of equations.\n",
    "*  Why you should be getting your flu shot.\n",
    "\n",
    "The basics of a Kermack-McKendrick Model is that you have [typically] three sub-populations in a community where something icky is going around.  This is normally called an \"SIR\" Model:\n",
    "*  **Susceptibles** : people who in principle can get sick (in this case we will bundle a block of people who are immunized into this block)\n",
    "*  **Infected** : people who have the disease and can spread it into the Susceptable population\n",
    "*  **Recovered** : people who have had the disease and are now immune.\n",
    "*  To this category we're adding a \"**Fatalities**\" category because we are monsters.  \"We also don't use [Salk](https://www.youtube.com/embed/milG4Aobnes?&start=187&end=190)\"\n",
    "\n",
    "Other versions of this system can distribute the Infected category into subgroups that symptomatic (changing their behavior in contrast to the other classes [not including the dead], contagious [at different levels of symptomatic or asymptomatic]).  \n",
    "\n",
    "You can break the \"Susceptible\" group into those with temporary immunity from their mothers, permanent immunity by random chance, and immunity from immunization.  \n",
    "\n",
    "You can have recovered people who have been infected lose their immunity.  \n",
    "\n",
    "In short, you can let your Pestilence Horseman run wild because “it’s only a model.”\n",
    "\n",
    "Remember that this is a *simple* model.  The pro's working in operational epidemiology have far more sophisticated models."
   ]
  },
  {
   "cell_type": "markdown",
   "metadata": {},
   "source": [
    "\n",
    "## Sketching the Model Environment and the Kermack-McKendrick Equations\n",
    "\n",
    "It's always nice to sketch and doodle our models. The black letters will be our variables.  (We're not doing the \"cordon sanitaire\" option (where healthy people wall themselves off from the sick people) in this example.\n",
    "\n",
    "![SIR Modeling System Image](http://kyrill.ias.sdsmt.edu/wjc/eduresources/SIR_Image.png)\n",
    "\n",
    "This creates the following system of equations with the labeled parameters above \n",
    "\n",
    "$$\n",
    "\\begin{aligned}\n",
    "\\frac{dS}{dt} &= -\\beta SI    \\\\ \\\\\n",
    "\\frac{dI}{dt} &= +\\beta SI - \\gamma I - \\omega I   \\\\ \\\\\n",
    "\\frac{dR}{dt} &= +\\gamma I   \\\\ \\\\\n",
    "\\frac{dF}{dt} &= +\\omega I  \\\\ \\\\\n",
    "\\end{aligned}\n",
    "$$ \n",
    "\n",
    "The above $\\beta$ term is a combination of $\\kappa$, $p$, and $i$.  We will show how they are constructed as we move through this exercise.\n",
    "\n"
   ]
  },
  {
   "cell_type": "markdown",
   "metadata": {},
   "source": [
    "## Libraries\n",
    "\n",
    "Let's start with the libraries\n",
    "\n",
    "* [NumPy](https://docs.scipy.org/doc/NumPy/reference/routines.math.html) for some basic math functions\n",
    "* [SciPy](https://docs.scipy.org/doc/scipy/reference/integrate.html) for ODE solving\n",
    "* [SymPy](https://www.sympy.org/en/index.html) for symbolic solutions\n",
    "* [Matplotlib](https://matplotlib.org) for plotting\n",
    "\n",
    "also...\n",
    "\n",
    "* [IPython](https://ipython.readthedocs.io/en/stable/api/generated/IPython.display.html) for document support (this is just to import a youtube video)\n"
   ]
  },
  {
   "cell_type": "code",
   "execution_count": 1,
   "metadata": {},
   "outputs": [],
   "source": [
    "################################################\n",
    "#\n",
    "# Libraries\n",
    "#\n",
    "\n",
    "import numpy             as np\n",
    "import scipy             as sci\n",
    "import scipy.integrate   as sciint\n",
    "import sympy             as sym\n",
    "import matplotlib.pyplot as plt\n",
    "\n",
    "# Notice here that this is using a very different \n",
    "#   method to pull in functions.\n",
    "#\n",
    "#   I normally don't import libraries this way\n",
    "#\n",
    "#   This is simply (as the name implies) to bring\n",
    "#   in a youtube video.\n",
    "\n",
    "from IPython.display import YouTubeVideo\n",
    "\n",
    "\n",
    "#\n",
    "################################################"
   ]
  },
  {
   "cell_type": "markdown",
   "metadata": {},
   "source": [
    "### Setting up the Code\n",
    "\n",
    "To do this we will break this process down into several sub-sections\n",
    "\n",
    "* set up the time extent of our simulation, \"Time Control\"\n",
    "* set up the initial state of our players, \"Initial or Boundary Conditions\"\n",
    "* set up the rules for the simulation, \"Initialize Parameters\"\n",
    "\n",
    "\n",
    "\n",
    "First let’s set up the time control of our simulation.  There are variants of this system where you can do truly horrific things to the players to this system such as lose their immunity after a while, add new babies who can get sick easily or have temporary maternal immunity, recovered populations become sterile, or weaker with a higher natural death rate.  AES/CEE 615 (Environmental Systems Modeling) explores some of these scenarios at different levels depending on how ~disturbed~ creative the students are for that given semester.  \n",
    "\n",
    "But in this case we are playing a short-game lasting about a month.  We’d like some high temporal resolution.  So let’s start a simulation of 30 days with a time granularity (time step, $\\Delta t$) of about 0.125 days (3-hrs).  "
   ]
  },
  {
   "cell_type": "code",
   "execution_count": 2,
   "metadata": {},
   "outputs": [],
   "source": [
    "################################################\n",
    "#\n",
    "# Time Control\n",
    "#\n",
    "\n",
    "#\n",
    "# Total Duration and Time Interval\n",
    "#\n",
    "\n",
    "TimePeriod =  30  # days\n",
    "DeltaT     =  3./24. # hours -> days\n",
    "\n",
    "#\n",
    "# Number of timesteps from 0 to TimePeriod\n",
    "#\n",
    "\n",
    "nTime      = int(TimePeriod / DeltaT + 1)\n",
    "\n",
    "#\n",
    "# Time Array from 0 to 30 \n",
    "#\n",
    "#  This is different from some array generators\n",
    "#    in python since linspace acutally gives you\n",
    "#    the stopping value you *asked* for!  (No \n",
    "#    need to add an extra time step.)\n",
    "#\n",
    "\n",
    "Time = np.linspace(start  = 0,          \n",
    "                   stop   = TimePeriod, # inclusive must be an integer\n",
    "                   num    = nTime)\n",
    "\n",
    "#\n",
    "################################################"
   ]
  },
  {
   "cell_type": "markdown",
   "metadata": {},
   "source": [
    "### Setting up Initial/Boundary Conditions\n",
    "The above equations need a starting point.  In this case, it's our cast of characters.\n",
    "* Starting Susceptables, $S_0$ (in this run this includes people who are immunized, so technically this just all healthy people).\n",
    "* Initial Infected Cases, $I_0$ (This/These are our \"Patient(s) Zero.  Pro-Tip: Don't be these guys.)  Immunization Rant will be down further in this notebook!\n",
    "* Recovered, $R_0$ (not to be confused with another $R_o$ that we will discussed shortly)\n",
    "* Fatalites, $F_0$ (because as mentioned above, we are monsters.)"
   ]
  },
  {
   "cell_type": "code",
   "execution_count": 3,
   "metadata": {},
   "outputs": [],
   "source": [
    "################################################\n",
    "#\n",
    "# Initial Conditions\n",
    "#\n",
    "\n",
    "S_0 =  998.0  # Uninfected People (includes Vaccinated)\n",
    "I_0 =    1.0  # Patients Zero: Arg! We *HATE* that guy!\n",
    "R_0 =    0.0  # Recovered: 0 since we're just starting\n",
    "F_0 =    0.0  # Fatalities: Again, 0 since we're just starting\n",
    "\n",
    "#\n",
    "################################################"
   ]
  },
  {
   "cell_type": "markdown",
   "metadata": {},
   "source": [
    "### Setting up Basic Disease ~Rules~ Parameters\n",
    "Every model needs a set of quantified rules.  For diseases this is difficult to explicitly nail down.  As such, we often rely on a set of expected probabilities.  Here are the traits we'll be working with\n",
    "\n",
    "Now onto the disease:  We will need to have the\n",
    "\n",
    "* **contact rate**: the likely number of people who an infected person comes into contact per unit time ($\\kappa$)\n",
    "  * Units: probability of infection per risky contact\n",
    " \n",
    " \n",
    "* **infection rate**: the probability of infection when a truly vulerable person is exposed per unit time ($\\kappa$) \n",
    "  * Units: person-to-person contacts (of $S$'s, $I$'s and $R$'s) per sick person per unit time\n",
    " \n",
    " \n",
    "* **recovery rate**: the probability of recovery per unit time for a given infected person ($\\gamma$)\n",
    "  * Units: probability of a given sick person recovering per unit time\n",
    " \n",
    " \n",
    "* **fatality rate**: the probability per unit time of an infected person dying from the disesase ($\\omega$)\n",
    "  * Units: probability of a given sick person to take the eternal dirt nap it per unit time.\n",
    " \n",
    " \n",
    "* $\\beta$ from the above equation system is a little more complex than the original case and is a combination of several of these terms. We'll address this later.\n",
    "  * Units: new infections per contact between sick and susceptable people per unit time\n",
    "  \n",
    "  \n",
    "* **immunization fraction**: If we want to include factors like artificial or natural immunity ($p$) we can include that, too.  Again, we aren't ready for that yet but we'll assume it's zero for now.\n",
    "  * Units: Fraction of people ~smart enough~ not stupid enough to listen to Andrew Wakefield and Jenny McCarthy.\n",
    "  * Education Outreach:  my vaccinated child doesn't have autism, he just doesn't like you.\n",
    "\n",
    "\n",
    "You can get this through some unit analysis.  If you follow the above diagram you can see how the parts come together.  Beta is officially a time dependant field but it is calculated as a function of values form a single time step.  This makes this a \"*diagnostic*\" variable. $S\\left(t\\right)$, $I\\left(t\\right)$, $R\\left(t\\right)$, and $F\\left(t\\right)$ since they are represented in the above equations as time-derivatives.\n",
    "\n",
    "$$\\beta\\left(t\\right)=\\frac{i \\kappa (1-p)}{S\\left(t\\right)+I\\left(t\\right)+R\\left(t\\right)}$$\n"
   ]
  },
  {
   "cell_type": "code",
   "execution_count": 4,
   "metadata": {},
   "outputs": [],
   "source": [
    "################################################\n",
    "#\n",
    "# Disease Traits\n",
    "#\n",
    "\n",
    "contact_rate   = 6.00 # typical number of contacts (exposure) per case per day\n",
    "infection_rate = 0.25 # probabilty of infection on exposure per case per day\n",
    "recovery_rate  = 0.50 # mean chance of recovery per day per case per day\n",
    "fatality_rate  = 0.10 # mean chance of fatality per case per day\n",
    "\n",
    "#\n",
    "# Public Health Traits\n",
    "#\n",
    "\n",
    "immunization_fraction = 0.0 # fraction of artificial immunity\n",
    "\n",
    "#\n",
    "################################################"
   ]
  },
  {
   "cell_type": "markdown",
   "metadata": {},
   "source": [
    "### Value-added Parameters\n",
    "\n",
    "#### Basic Reproductioin Number, $R_o$\n",
    "\n",
    "If you've seen the medical thriller \"Contagion\" the CDC Epidemiologist played by Kate Winslet gives a description of something called the \"[Basic Reproductive Number](https://en.wikipedia.org/wiki/Basic_reproduction_number),\" or \"R-nought\" ($R_o$), factor while plague-splaining the spread of the disease to city planners. \n",
    "\n",
    "[![Spoiler, Gwyneth Paltrow Dies!](http://kyrill.ias.sdsmt.edu/wjc/eduresources/contagion_poster.png)\n",
    "\n",
    "\n",
    "\n"
   ]
  },
  {
   "cell_type": "code",
   "execution_count": 5,
   "metadata": {},
   "outputs": [
    {
     "data": {
      "image/jpeg": "[encoded data removed]",
      "text/html": [
       "\n",
       "        <iframe\n",
       "            width=\"400\"\n",
       "            height=\"300\"\n",
       "            src=\"https://www.youtube.com/embed/VrATMF_FB9M\"\n",
       "            frameborder=\"0\"\n",
       "            allowfullscreen\n",
       "        ></iframe>\n",
       "        "
      ],
      "text/plain": [
       "<IPython.lib.display.YouTubeVideo at 0x1276dd690>"
      ]
     },
     "execution_count": 5,
     "metadata": {},
     "output_type": "execute_result"
    }
   ],
   "source": [
    "#  embed youtube video\n",
    "YouTubeVideo('VrATMF_FB9M')"
   ]
  },
  {
   "cell_type": "markdown",
   "metadata": {},
   "source": [
    "\n",
    "The $R_o$ describes how many people one infected person wil infect.\n",
    "\n",
    "Typical values for diseases we may encouter in these scenarios include\n",
    "\n",
    "| Disease | Means of Contagion | ${R_0}$ |\n",
    "|:---------:|:--------------------:|-------|\n",
    "|Measles|Airborne|12-18|\n",
    "|Diphtheria|Saliva|6-7|\n",
    "|Smallpox|Airborne droplet|5–7|\n",
    "|Polio|Fecal-oral route|5–7|\n",
    "|Rubella|Airborne droplet|5–7|\n",
    "|Pertussis|Airborne droplet from coughing in the prof's office|5-6|\n",
    "|Mumps|Airborne droplet|4–7|\n",
    "|(Conjunctivitis) \"Pink Eye\"|Dirty Lab Goggles|~4|\n",
    "|HIV/AIDS|Sexual contact|2–5|\n",
    "|SARS|Airborne droplet|2–5|\n",
    "|COVID-19 (ests.) |Airborne droplet|1.4–3.8|\n",
    "|Influenza (1918 pandemic strain)|Airborne droplet|2–3|\n",
    "|Ebola (2014 Ebola outbreak)|Bodily fluids|1.5-2.5|\n",
    "|MERS|Airborne droplet|0.3-0.8|\n",
    "\n",
    "\n",
    "$R_o$'s greater than 1 indicate a disease that will spread through the population.  The higher the $R_o$, the faster the spread.  $R_o$'s below 1 will likely self-contain due to low probability if infection (not every case will result in a new case but an influx of sick people may create a critical mass of \"players\" for some \"Susceptables\" to loose to the odds). \n",
    "Using our parameters we can derive $R_o$ via unit analysis as\n",
    "\n",
    "$$R_o =\\frac{i \\kappa}{\\gamma +\\omega}$$"
   ]
  },
  {
   "cell_type": "code",
   "execution_count": 6,
   "metadata": {},
   "outputs": [
    {
     "name": "stdout",
     "output_type": "stream",
     "text": [
      "Basic Reproductive Number, Ro = 2.5\n"
     ]
    }
   ],
   "source": [
    "################################################\n",
    "#\n",
    "# Basic Reproductive Number\n",
    "#\n",
    "\n",
    "Ro = infection_rate * contact_rate / (recovery_rate+fatality_rate)\n",
    "\n",
    "print(\"Basic Reproductive Number, Ro =\", Ro)\n",
    "\n",
    "#\n",
    "################################################"
   ]
  },
  {
   "cell_type": "markdown",
   "metadata": {},
   "source": [
    "#### #We'reDoingShots!\n",
    "In this case we can play with a fraction of the population that enter the game with either natural immunity or have been immunized. This is the $p$ parameter above.\n",
    "\n",
    "This also allows us to bring up the idea of herd immunity which is one of the major battlegrounds in the vaccine \"controversy.\"\n",
    "\n",
    "Let's consider \n",
    "\n",
    "Assumung that $R=0$ and $S\\gg I$,\n",
    "\n",
    "$$\\begin{aligned}\n",
    "\\frac{dI}{dt} &= \\frac{ i \\kappa \\left( 1-p \\right) }{S+I+ \\left( R=0 \\right)} S I - \\left( \\gamma + \\omega \\right) I  \\\\\n",
    "0 &= \\frac{i \\kappa\\left(1-p\\right)}{\\left[(S+I) \\approx S\\right]}S\\;I-\\left(\\gamma +\\omega \\right)I  \\\\\n",
    "0 &= \\frac{i \\kappa\\left( 1-p \\right) }{S} S I - \\left( \\gamma +\\omega \\right) I \\\\\n",
    "0 &= I \\left[ \\frac{i \\kappa \\left( 1-p \\right) }{S}S-\\left( \\gamma +\\omega \\right) \\right] \\\\\n",
    "0 &= I \\left[ i \\kappa \\left(1-p\\right)- \\left( \\gamma +\\omega \\right) \\right] \\\\\n",
    "0 &= i \\kappa \\left( 1-p \\right)- \\left( \\gamma +\\omega \\right) \\\\\n",
    "i \\kappa\\left(1-p\\right) &= \\gamma +\\omega \\\\\n",
    "1-p &= \\frac{\\gamma +\\omega }{i \\kappa} \\\\\n",
    "1-p &= \\frac{1}{R_o} \\\\\n",
    "p &= 1 - \\frac{1}{R_o}\n",
    "\\end{aligned} $$\n",
    "\n",
    "This \"critical\" value of public immunity fraction, $p$, or $p_c$, is the \"herd immunity.\"  Thus for a $R_o$ of 12 (the low end of the communicability of Measles), to force the functional $R_o$ for Measles down to zero or less, over 90% of the populus must have artificial immunity.  "
   ]
  },
  {
   "cell_type": "code",
   "execution_count": 7,
   "metadata": {},
   "outputs": [
    {
     "name": "stdout",
     "output_type": "stream",
     "text": [
      "Herd Immunity Threshold, pc = 0.6\n"
     ]
    }
   ],
   "source": [
    "################################################\n",
    "#\n",
    "# Herd Immunity\n",
    "#\n",
    "\n",
    "herd_immunity = 1 - 1/Ro\n",
    "\n",
    "print(\"Herd Immunity Threshold, pc =\", \n",
    "      herd_immunity)\n",
    "\n",
    "#\n",
    "################################################"
   ]
  },
  {
   "cell_type": "markdown",
   "metadata": {},
   "source": [
    "## Drafting our Prognostic and Diagnostic Equations\n",
    "\n",
    "In this scenario we are going to show off SciPy's integrating features.  Most of them will fit into the following setup.  \n",
    "\n",
    "We will need a single function that contains all of our prognostic equations, $\\frac{dS}{dt}$, $\\frac{dI}{dt}$, $\\frac{dR}{dt}$, and $\\frac{dF}{dt}$.  Since two of our equations need a value for $\\beta$, that gets put in there too."
   ]
  },
  {
   "cell_type": "markdown",
   "metadata": {},
   "source": [
    "### The Function for our ODE Solver\n",
    "\n",
    "Here we will create a single function that bundles all of our equations.  For the finite differencing version we are going to use separate equations."
   ]
  },
  {
   "cell_type": "code",
   "execution_count": 8,
   "metadata": {},
   "outputs": [],
   "source": [
    "################################################\n",
    "#\n",
    "# Our Single Beta, S, I, R, F function\n",
    "#\n",
    "#   We pass a vector of [S, I, R, F] through our system.   \n",
    "#\n",
    "\n",
    "def dSIRF(t,  # the parameter that it will integrate over \n",
    "          X): # the fields containing inputs in order\n",
    "              # of the output equations\n",
    "    ################################################\n",
    "    #   \n",
    "    #\n",
    "    # Expand our Input vector, Y into names we humans would prefer\n",
    "    #\n",
    "    \n",
    "    S = X[0] # Susceptables\n",
    "    I = X[1] # Invected\n",
    "    R = X[2] # Recovered\n",
    "    F = X[3] # Fatalities\n",
    "    \n",
    "    #\n",
    "    # Beta operates as an internal variable in this case.\n",
    "    #\n",
    "    \n",
    "    beta = (1-immunization_fraction)*(infection_rate*contact_rate)/(S+I+R)\n",
    "\n",
    "    #\n",
    "    # Adding an empty array to contain the equations\n",
    "    #\n",
    "    \n",
    "    dXdt = np.empty(4)\n",
    "    \n",
    "    #\n",
    "    # Load the array with our prognostic formulae\n",
    "    #\n",
    "    \n",
    "    dSdt = -beta * I * S\n",
    "    dIdt =  beta * I * S - (recovery_rate + fatality_rate) * I\n",
    "    dRdt =  recovery_rate * I\n",
    "    dFdt =  fatality_rate * I\n",
    "    \n",
    "    #\n",
    "    # Return the prognostic array\n",
    "    #\n",
    "    \n",
    "    return( [dSdt,\n",
    "             dIdt,\n",
    "             dRdt,\n",
    "             dFdt] )\n",
    "    #\n",
    "    ################################################"
   ]
  },
  {
   "cell_type": "markdown",
   "metadata": {},
   "source": [
    "### Solve that system!\n",
    "\n",
    "Here we are using the [scipy.integrate.solve_ivp](https://docs.scipy.org/doc/scipy/reference/generated/scipy.integrate.solve_ivp.html) which is designed for initial value problems.\n",
    "\n",
    "The default solver for this function is a fourth-order Runge-Kutta.  (We've included the specific line that would call this below, anyway.)\n",
    "\n",
    "Here is what you need for this at minimum\n",
    "\n",
    "1. an callable function that includes the basic functions.  The arguments can be as follows:\n",
    "  1.  the first value needs to be the single scalar for the derivative in the function(s).  For us, that's time.\n",
    "  2.  a 1-D vector or scalar of there's just one derivative containing the initial conditions for the function(s)\n",
    "2. a two-element list of your start and end points for the duration of your solution range (for this case it will be for your valid time range).\n",
    "3. list of your initial conditions.\n",
    "\n",
    "There are fancier things you can do where you can use paramters as an argument, such as changes in herd immunity, but right now we are going for simplicity in the scarier function calls. \n"
   ]
  },
  {
   "cell_type": "code",
   "execution_count": 9,
   "metadata": {},
   "outputs": [],
   "source": [
    "################################################\n",
    "#\n",
    "# Use the solve_ivp function\n",
    "#\n",
    "\n",
    "Y = sciint.solve_ivp(dSIRF,                 # Function(t, F(t)) \n",
    "                     [0, TimePeriod],       # start and end times\n",
    "                     [S_0, I_0, R_0, F_0],  # initial conditons, Fo\n",
    "                     method       = \"RK45\", # method (defaults to RK45)\n",
    "                     dense_output = True)   # create a continuous solution\n",
    "\n",
    "#\n",
    "################################################"
   ]
  },
  {
   "cell_type": "markdown",
   "metadata": {},
   "source": [
    "The output for the above function is an object with a number of return variables that can be accessed from your return value (for the above, that's the Y).  \n",
    "\n",
    "We want the contents of the \"sol\" object which contains what we need to access the results of the solution.\n",
    "\n",
    "\"sol\" requires an argument (just like a function).  So if we want a time series, we throw in our array.  If we want any single time value, we can enter that time as well.\n",
    "\n",
    "If the input is a vector of time values in our case, it will be a 2-d vector so that the first element is the time dimension, and the second dimension are your the solution to your input equations.  For us that's $S(t)$, $I(t)$, $R(t)$, & $F(t)$.\n",
    "\n",
    "To get that final array of output the call for us us Y.sol(times).T\n",
    "\n",
    "Let's take a peak at it."
   ]
  },
  {
   "cell_type": "code",
   "execution_count": 10,
   "metadata": {},
   "outputs": [
    {
     "name": "stdout",
     "output_type": "stream",
     "text": [
      "Look at all contents of Y\n",
      "\n"
     ]
    },
    {
     "data": {
      "text/plain": [
       "  message: 'The solver successfully reached the end of the integration interval.'\n",
       "     nfev: 110\n",
       "     njev: 0\n",
       "      nlu: 0\n",
       "      sol: <scipy.integrate._ivp.common.OdeSolution object at 0x1276bb990>\n",
       "   status: 0\n",
       "  success: True\n",
       "        t: array([0.00000000e+00, 2.77211028e-03, 3.04932130e-02, 3.07704241e-01,\n",
       "       1.21488132e+00, 2.49912951e+00, 4.00059422e+00, 5.69328566e+00,\n",
       "       8.01488342e+00, 1.06695968e+01, 1.35702417e+01, 1.62182213e+01,\n",
       "       1.86023748e+01, 2.08733422e+01, 2.31192520e+01, 2.53560879e+01,\n",
       "       2.75900459e+01, 2.98238692e+01, 3.00000000e+01])\n",
       " t_events: None\n",
       "        y: array([[9.98000000e+02, 9.97995841e+02, 9.97953675e+02, 9.97469014e+02,\n",
       "        9.94707536e+02, 9.84104824e+02, 9.42640642e+02, 7.90464311e+02,\n",
       "        3.91344772e+02, 1.62720773e+02, 1.03655594e+02, 9.08250139e+01,\n",
       "        8.72992419e+01, 8.61384463e+01, 8.57237197e+01, 8.55727441e+01,\n",
       "        8.55174022e+01, 8.54970661e+01, 8.54961682e+01],\n",
       "       [1.00000000e+00, 1.00249383e+00, 1.02777587e+00, 1.31832582e+00,\n",
       "        2.97212703e+00, 9.29514865e+00, 3.36005009e+01, 1.16157740e+02,\n",
       "        2.45030325e+02, 1.44118767e+02, 4.78695810e+01, 1.52446443e+01,\n",
       "        5.30490238e+00, 1.92588326e+00, 7.05179109e-01, 2.59013013e-01,\n",
       "        9.52257127e-02, 3.50073923e-02, 3.23481422e-02],\n",
       "       [0.00000000e+00, 1.38778272e-03, 1.54573861e-02, 1.77216601e-01,\n",
       "        1.10028097e+00, 4.66668924e+00, 1.89657146e+01, 7.69816244e+01,\n",
       "        3.02187419e+02, 5.76800383e+02, 7.06229021e+02, 7.44108618e+02,\n",
       "        7.55329880e+02, 7.59113059e+02, 7.60475918e+02, 7.60973536e+02,\n",
       "        7.61156143e+02, 7.61223272e+02, 7.61226236e+02],\n",
       "       [0.00000000e+00, 2.77556544e-04, 3.09147723e-03, 3.54433202e-02,\n",
       "        2.20056194e-01, 9.33337847e-01, 3.79314292e+00, 1.53963249e+01,\n",
       "        6.04374838e+01, 1.15360077e+02, 1.41245804e+02, 1.48821724e+02,\n",
       "        1.51065976e+02, 1.51822612e+02, 1.52095184e+02, 1.52194707e+02,\n",
       "        1.52231229e+02, 1.52244654e+02, 1.52245247e+02]])\n",
       " y_events: None"
      ]
     },
     "metadata": {},
     "output_type": "display_data"
    },
    {
     "name": "stdout",
     "output_type": "stream",
     "text": [
      "short-time-array-for-this-demo :  [0 1 2 3 4 5]\n",
      "\n",
      "content of Y.sol(short_time_array) found in T\n",
      "[[9.98000000e+02 1.00000000e+00 0.00000000e+00 0.00000000e+00]\n",
      " [9.95575997e+02 2.45233046e+00 8.09726715e-01 1.61945343e-01]\n",
      " [9.89672314e+02 5.98025017e+00 2.78953002e+00 5.57906003e-01]\n",
      " [9.75506573e+02 1.43889600e+01 7.58705568e+00 1.51741114e+00]\n",
      " [9.42669002e+02 3.35841169e+01 1.89557340e+01 3.79114680e+00]\n",
      " [8.72496243e+02 7.30471211e+01 4.45471963e+01 8.90943927e+00]]\n"
     ]
    }
   ],
   "source": [
    "################################################\n",
    "#\n",
    "# Peaking at Y()\n",
    "#\n",
    "\n",
    "print(\"Look at all contents of Y\")\n",
    "print()\n",
    "display(Y)\n",
    "\n",
    "#\n",
    "# Peaking at Y.sol()\n",
    "#\n",
    "# Let's just see what happens over 5 days with a delta-t of one day\n",
    "#\n",
    "\n",
    "short_time_array = np.arange(0, 5+1, 1)\n",
    "\n",
    "print(\"short-time-array-for-this-demo : \",short_time_array)\n",
    "\n",
    "\n",
    "\n",
    "print()\n",
    "print(\"content of Y.sol(short_time_array) found in T\")\n",
    "print(Y.sol(short_time_array).T)\n",
    "\n",
    "#\n",
    "################################################"
   ]
  },
  {
   "cell_type": "markdown",
   "metadata": {},
   "source": [
    "## Exploring the Results\n",
    "Let's Plot it!  Here we are going to pull each value in sol.T so we can specifically customize each color."
   ]
  },
  {
   "cell_type": "code",
   "execution_count": 11,
   "metadata": {},
   "outputs": [
    {
     "data": {
      "image/png": "[encoded data removed]",
      "text/plain": [
       "<Figure size 432x288 with 1 Axes>"
      ]
     },
     "metadata": {
      "needs_background": "light"
     },
     "output_type": "display_data"
    }
   ],
   "source": [
    "################################################\n",
    "#\n",
    "# Plot Results\n",
    "#\n",
    "\n",
    "plt.plot(Time, Y.sol(Time).T[:,0], \"g\", # susceptables\n",
    "         Time, Y.sol(Time).T[:,1], \"r\", # infected\n",
    "         Time, Y.sol(Time).T[:,2], \"b\", # recovered\n",
    "         Time, Y.sol(Time).T[:,3], \"k\") # fatalities\n",
    "plt.title(\"SIRF Model System, $R_o$=\"+\n",
    "          str(Ro) +\n",
    "          \", $p_c$=\" + \n",
    "          str(herd_immunity) +\n",
    "          \", $p$=\" + \n",
    "          str(immunization_fraction))\n",
    "plt.xlim(0, TimePeriod)\n",
    "plt.ylim(0, (S_0 + I_0 + R_0 + F_0))\n",
    "plt.xlabel('Time (Days)')\n",
    "plt.ylabel(\"Populations\")\n",
    "plt.legend([\"Susceptables\", \n",
    "            \"Infected\",\n",
    "            \"Recovered\", \n",
    "            \"Fatalities\"])\n",
    "plt.show()\n",
    "\n",
    "\n",
    "#\n",
    "################################################"
   ]
  },
  {
   "cell_type": "markdown",
   "metadata": {},
   "source": [
    "### Exploring Herd Immunity\n",
    "\n",
    "Let's now explore three values of Herd Immunity.  We will run three cases with 25%, 50% and 75% of the populus being vaccinated."
   ]
  },
  {
   "cell_type": "code",
   "execution_count": 12,
   "metadata": {
    "scrolled": true
   },
   "outputs": [
    {
     "data": {
      "image/png": "[encoded data removed]",
      "text/plain": [
       "<Figure size 432x288 with 1 Axes>"
      ]
     },
     "metadata": {
      "needs_background": "light"
     },
     "output_type": "display_data"
    },
    {
     "data": {
      "image/png": "[encoded data removed]",
      "text/plain": [
       "<Figure size 432x288 with 1 Axes>"
      ]
     },
     "metadata": {
      "needs_background": "light"
     },
     "output_type": "display_data"
    },
    {
     "data": {
      "image/png": "[encoded data removed]",
      "text/plain": [
       "<Figure size 432x288 with 1 Axes>"
      ]
     },
     "metadata": {
      "needs_background": "light"
     },
     "output_type": "display_data"
    },
    {
     "data": {
      "image/png": "[encoded data removed]",
      "text/plain": [
       "<Figure size 432x288 with 1 Axes>"
      ]
     },
     "metadata": {
      "needs_background": "light"
     },
     "output_type": "display_data"
    },
    {
     "data": {
      "image/png": "[encoded data removed]",
      "text/plain": [
       "<Figure size 432x288 with 1 Axes>"
      ]
     },
     "metadata": {
      "needs_background": "light"
     },
     "output_type": "display_data"
    }
   ],
   "source": [
    "################################################\n",
    "#\n",
    "# Plot Results\n",
    "#\n",
    "\n",
    "# We're also going to go for a longer game (one year)\n",
    "\n",
    "TimePeriod = 365.\n",
    "nTime      = int(TimePeriod / DeltaT + 1)\n",
    "Time       = np.linspace(start  = 0,          \n",
    "                         stop   = TimePeriod, # this is *inclusive*\n",
    "                         num    = nTime)\n",
    "\n",
    "\n",
    "\n",
    "\n",
    "\n",
    "for immunization_fraction in [0.00,0.25, 0.50, 0.75, 1.00]:\n",
    "    ############################################\n",
    "    #\n",
    "    # Run the Solver\n",
    "    #\n",
    "    Y = sciint.solve_ivp(dSIRF, \n",
    "                         [0, TimePeriod], \n",
    "                         [S_0, I_0, R_0, F_0],\n",
    "                         method = \"RK45\",\n",
    "                         dense_output=True)\n",
    "    \n",
    "     #\n",
    "    # Tally the total number of impacted cases\n",
    "    #\n",
    "    \n",
    "    Total_Impacted_Cases = Y.sol(Time).T[:,1] + \\\n",
    "                           Y.sol(Time).T[:,2] + \\\n",
    "                           Y.sol(Time).T[:,3]\n",
    "    \n",
    "    #\n",
    "    # Plot Each Graph\n",
    "    #\n",
    "    plt.plot(Time, Y.sol(Time).T[:,0],   \"g\", # susceptables\n",
    "             Time, Y.sol(Time).T[:,1],   \"r\", # infected\n",
    "             Time, Y.sol(Time).T[:,2],   \"b\", # recovered\n",
    "             Time, Y.sol(Time).T[:,3],   \"k\", # fatalities\n",
    "             Time, Total_Impacted_Cases, \"m\") # impacted cases\n",
    "    plt.xlim(0, TimePeriod)\n",
    "    plt.ylim(0,(S_0 + I_0 + R_0 + F_0))\n",
    "    plt.title(\"SIRF Model System, $R_o$=\"+\n",
    "          str(Ro) +\n",
    "          \", $p_c$=\" + \n",
    "          str(herd_immunity) +\n",
    "          \", $p$=\" + \n",
    "          str(immunization_fraction))\n",
    "    plt.xlabel('Time (Days)')\n",
    "    plt.ylabel(\"Populations\")\n",
    "    plt.legend([\"Susceptables\", \n",
    "                \"Infected\",\n",
    "                \"Recovered\", \n",
    "                \"Fatalities\",\n",
    "                \"Impacted\"])\n",
    "    plt.show()\n",
    "    #\n",
    "    ############################################\n",
    "\n",
    "\n",
    "\n",
    "#\n",
    "################################################"
   ]
  },
  {
   "cell_type": "markdown",
   "metadata": {},
   "source": [
    "Since this is more about learning programming tricks in Python rather than learning  we can do this again... not with a loop but with a 4-panel.  \n",
    "\n",
    "I'm going to \"steal\" the 4-panel section from our [plotting tutorial](http://kyrill.ias.sdsmt.edu/wjc/eduresources/CEE284_Python/Course_Materials/Classroom%20Sessions/Session%202%20-%20Arrays%20Math%20and%20Plotting%20in%20Python/Part%202%20--%20Arrays,%20Math,%20and%20Plotting%20in%20Python.html) for a lot of this material because I forget this operation *way* too often."
   ]
  },
  {
   "cell_type": "code",
   "execution_count": 13,
   "metadata": {},
   "outputs": [
    {
     "data": {
      "image/png": "[encoded data removed]",
      "text/plain": [
       "<Figure size 432x288 with 4 Axes>"
      ]
     },
     "metadata": {
      "needs_background": "light"
     },
     "output_type": "display_data"
    }
   ],
   "source": [
    "#############################################\n",
    "#\n",
    "#  Make a 2x2 plot with differennt logs on the \n",
    "#    axes to demonstrate leveraging the ax-and-fig\n",
    "#    method of plotting.\n",
    "#\n",
    "\n",
    "#\n",
    "# We'll start with the subplot command which\n",
    "#    will let us make 2 rows (first argument)\n",
    "#    and 2 columns.  \n",
    "#\n",
    "# The second modifier pair instruct the matplotlib\n",
    "#    \"share\" the axis attributes for each plot.\n",
    "#\n",
    "# When we do this, FIG will represent the atributes \n",
    "#     of the whole plotting area.\n",
    "#\n",
    "# The acutal \"subplots\" are typically called \"ax\"\n",
    "#     which you can consider to be the \n",
    "#\n",
    "\n",
    "fig, ax = plt.subplots(2,            # 2 rows in the y\n",
    "                       2,            # 2 cols in the x\n",
    "                       sharex='col', # set the colum (x axes to match)\n",
    "                       sharey='row') # set the rows (y axes to match)\n",
    "\n",
    "\n",
    "\n",
    "# Let's have our Top Left (0,0) plot represent the p=0 case\n",
    "\n",
    "immunization_fraction = 0.00\n",
    "\n",
    "\n",
    "Y = sciint.solve_ivp(dSIRF,\n",
    "                     [0, TimePeriod],\n",
    "                     [S_0, I_0, R_0, F_0],\n",
    "                     method = \"RK45\",\n",
    "                     dense_output=True)\n",
    "\n",
    "Total_Impacted_Cases = Y.sol(Time).T[:,1] + \\\n",
    "                       Y.sol(Time).T[:,2] + \\\n",
    "                       Y.sol(Time).T[:,3]\n",
    "    \n",
    "ax[0, 0].plot(Time, Y.sol(Time).T[:,0],   \"g\", # susceptables\n",
    "              Time, Y.sol(Time).T[:,1],   \"r\", # infected\n",
    "              Time, Y.sol(Time).T[:,2],   \"b\", # recovered\n",
    "              Time, Y.sol(Time).T[:,3],   \"k\", # fatalities\n",
    "              Time, Total_Impacted_Cases, \"m\") # impacted cases\n",
    "\n",
    "ax[0, 0].set_title(\"$p$=\"+str(immunization_fraction),\n",
    "                   loc='left')\n",
    "\n",
    "# Let's have our Top Right (0, 1) plot represent the p=0.25 case\n",
    "#  we are only going to put the legend on one pannel \n",
    "#  (this Lower Right one)\n",
    "\n",
    "immunization_fraction = 0.25\n",
    "\n",
    "\n",
    "Y = sciint.solve_ivp(dSIRF,\n",
    "                     [0, TimePeriod],\n",
    "                     [S_0, I_0, R_0, F_0],\n",
    "                     method = \"RK45\",\n",
    "                     dense_output=True)\n",
    "\n",
    "\n",
    "Total_Impacted_Cases = Y.sol(Time).T[:,1] + \\\n",
    "                       Y.sol(Time).T[:,2] + \\\n",
    "                       Y.sol(Time).T[:,3]\n",
    "\n",
    "ax[0, 1].plot(Time, Y.sol(Time).T[:,0],   \"g\", # susceptables\n",
    "              Time, Y.sol(Time).T[:,1],   \"r\", # infected\n",
    "              Time, Y.sol(Time).T[:,2],   \"b\", # recovered\n",
    "              Time, Y.sol(Time).T[:,3],   \"k\", # fatalities\n",
    "              Time, Total_Impacted_Cases, \"m\") # impacted cases\n",
    "\n",
    "ax[0, 1].set_title(\"$p$=\"+str(immunization_fraction),\n",
    "                   loc='right')\n",
    "\n",
    "# Let's have our Lower Left (1, 0) plot represent the p=0.25 case\n",
    "\n",
    "immunization_fraction = 0.50\n",
    "\n",
    "\n",
    "Y = sciint.solve_ivp(dSIRF,\n",
    "                     [0, TimePeriod],\n",
    "                     [S_0, I_0, R_0, F_0],\n",
    "                     method = \"RK45\",\n",
    "                     dense_output=True)\n",
    "\n",
    "Total_Impacted_Cases = Y.sol(Time).T[:,1] + \\\n",
    "                       Y.sol(Time).T[:,2] + \\\n",
    "                       Y.sol(Time).T[:,3]\n",
    "\n",
    "ax[1, 0].plot(Time, Y.sol(Time).T[:,0],   \"g\", # susceptables\n",
    "              Time, Y.sol(Time).T[:,1],   \"r\", # infected\n",
    "              Time, Y.sol(Time).T[:,2],   \"b\", # recovered\n",
    "              Time, Y.sol(Time).T[:,3],   \"k\", # fatalities\n",
    "              Time, Total_Impacted_Cases, \"m\") # impacted cases\n",
    "\n",
    "ax[1, 0].set_title(\"$p$=\"+str(immunization_fraction),\n",
    "                   loc='left')\n",
    "\n",
    "# Let's have our Lower Right (1, 1) plot represent the p=0.75 case\n",
    "#   which for us is on the safer side of our needed herd immunity\n",
    "#   the legend goes here because it's rather big.\n",
    "\n",
    "immunization_fraction = 0.75\n",
    "\n",
    "\n",
    "Y = sciint.solve_ivp(dSIRF,\n",
    "                     [0, TimePeriod],\n",
    "                     [S_0, I_0, R_0, F_0],\n",
    "                     method = \"RK45\",\n",
    "                     dense_output=True)\n",
    "\n",
    "Total_Impacted_Cases = Y.sol(Time).T[:,1] + \\\n",
    "                       Y.sol(Time).T[:,2] + \\\n",
    "                       Y.sol(Time).T[:,3]\n",
    "    \n",
    "ax[1, 1].plot(Time, Y.sol(Time).T[:,0],   \"g\", # susceptables\n",
    "              Time, Y.sol(Time).T[:,1],   \"r\", # infected\n",
    "              Time, Y.sol(Time).T[:,2],   \"b\", # recovered\n",
    "              Time, Y.sol(Time).T[:,3],   \"k\", # fatalities\n",
    "              Time, Total_Impacted_Cases, \"m\") # impacted cases\n",
    "\n",
    "ax[1, 1].set_title(\"$p$=\"+str(immunization_fraction),\n",
    "                   loc='right')\n",
    "\n",
    "ax[1, 1].legend([\"Susceptables\", \n",
    "                 \"Infected\",\n",
    "                 \"Recovered\", \n",
    "                 \"Fatalities\",\n",
    "                 \"Total Impacted\"])\n",
    "\n",
    "# add the big title\n",
    "\n",
    "fig.suptitle(\"SIRF Model System, $R_o$=\"+\n",
    "             str(Ro)    +\n",
    "             \", $p_c$=\" + \n",
    "             str(herd_immunity))\n",
    "\n",
    "\n",
    "# you have to kludge a common axis here which is\n",
    "#   rather disapointing (maybe the next version of \n",
    "#   matplotlib will have it.)\n",
    "#\n",
    "# we use the fig.text function\n",
    "#  the first two arguments are the x and y centers of\n",
    "#  the plot in the larger plotter space\n",
    "#\n",
    "\n",
    "fig.text(0.50, 0.00, \n",
    "         'Time (days)', \n",
    "         ha       = 'center')\n",
    "\n",
    "fig.text(0.00, 0.50, \n",
    "         'Populations', \n",
    "         va       = 'center', \n",
    "         rotation = 'vertical')\n",
    "\n",
    "plt.show()\n",
    "\n",
    "#\n",
    "############################################"
   ]
  },
  {
   "cell_type": "markdown",
   "metadata": {},
   "source": [
    "## Exploring Herd Immunity\n",
    "\n",
    "Let's look more closely at how the herd immunity chagnes the overall impact of the diseases (counting results)\n",
    "\n",
    "This also shows how to loop through the system and load the results into an array"
   ]
  },
  {
   "cell_type": "code",
   "execution_count": 14,
   "metadata": {},
   "outputs": [
    {
     "data": {
      "image/png": "[encoded data removed]",
      "text/plain": [
       "<Figure size 432x288 with 1 Axes>"
      ]
     },
     "metadata": {
      "needs_background": "light"
     },
     "output_type": "display_data"
    }
   ],
   "source": [
    "################################################ \n",
    "#\n",
    "# Plot Results\n",
    "#\n",
    "\n",
    "#\n",
    "# let's first make an array to carry our \n",
    "#    immune factor\n",
    "#\n",
    "\n",
    "# Make the immunity (dp = 0.01 so we have 101 slots)\n",
    "\n",
    "immune_array = np.linspace(0, 1,101)\n",
    "\n",
    "# clone the immune array as zeros for the impact array\n",
    "\n",
    "impact_array = np.zeros(immune_array.size)\n",
    "\n",
    "\n",
    "for i in range(0, immune_array.size):\n",
    "    ####################################\n",
    "    #\n",
    "    # Load Immunization Fraction\n",
    "    #\n",
    "    immunization_fraction = immune_array[i]\n",
    "    #\n",
    "    # Run the ODE Solver\n",
    "    #\n",
    "    Y = sciint.solve_ivp(dSIRF,\n",
    "                        [0, TimePeriod], \n",
    "                        [S_0, I_0, R_0, F_0],\n",
    "                        method = \"RK45\",\n",
    "                        dense_output=True)\n",
    "    #\n",
    "    # for the very last time step (all we need)\n",
    "    #    just extract the values at the end of our\n",
    "    #    simulation \"TimePeriod\"\n",
    "    #    #\n",
    "    # get the last three values, skipping the \n",
    "    #   Y.sol(Time).T[1:]\n",
    "    #\n",
    "    # and add them up with np.sum()\n",
    "    #\n",
    "    impact_array[i] = np.sum(Y.sol(TimePeriod).T[1:])\n",
    "    #\n",
    "    ####################################\n",
    "\n",
    "\n",
    "plt.plot(immune_array,\n",
    "         impact_array,\n",
    "        \"m\")\n",
    "plt.vlines(herd_immunity, \n",
    "           0, (S_0 + I_0 + R_0 + F_0), \n",
    "           'b')\n",
    "plt.legend([\"Total Impacted\",\n",
    "            \"Herd Immunity\"])\n",
    "plt.xlim(0, 1)\n",
    "plt.ylim(0, (S_0 + I_0 + R_0 + F_0))\n",
    "plt.title(\"SIRF Model System, $R_o$=\"+\n",
    "          str(Ro) +\n",
    "          \", $p_c$=\" + \n",
    "          str(herd_immunity))\n",
    "plt.xlabel(\"Fraction of Population Immunized, $p$\")\n",
    "plt.ylabel(\"Total Impacted by Disease\")\n",
    "plt.show()\n",
    "    \n",
    "#\n",
    "################################################"
   ]
  },
  {
   "cell_type": "markdown",
   "metadata": {},
   "source": [
    "So if you don't have a legitimate medical reason not to take a given immunization (e.g., alergies to the flu vaccines, immunocompromised, etc.), **[GET YOUR FRIGGIN' SHOTS!!!!!](https://www.cdc.gov/vaccines/index.html)**  \n",
    "\n",
    "(and if your curious about the title of the exercise... click below.)\n"
   ]
  },
  {
   "cell_type": "code",
   "execution_count": 15,
   "metadata": {},
   "outputs": [
    {
     "data": {
      "image/jpeg": "[encoded data removed]",
      "text/html": [
       "\n",
       "        <iframe\n",
       "            width=\"400\"\n",
       "            height=\"300\"\n",
       "            src=\"https://www.youtube.com/embed/R6qFG0uop9k\"\n",
       "            frameborder=\"0\"\n",
       "            allowfullscreen\n",
       "        ></iframe>\n",
       "        "
      ],
      "text/plain": [
       "<IPython.lib.display.YouTubeVideo at 0x12a0c3290>"
      ]
     },
     "execution_count": 15,
     "metadata": {},
     "output_type": "execute_result"
    }
   ],
   "source": [
    "#Tom Lehrer Sing's \"I got it from Agness\"\n",
    "YouTubeVideo('R6qFG0uop9k')"
   ]
  },
  {
   "cell_type": "markdown",
   "metadata": {},
   "source": [
    "## Version Information"
   ]
  },
  {
   "cell_type": "code",
   "execution_count": 16,
   "metadata": {},
   "outputs": [
    {
     "data": {
      "application/json": {
       "Software versions": [
        {
         "module": "Python",
         "version": "3.7.7 64bit [Clang 11.0.0 (clang-1100.0.33.17)]"
        },
        {
         "module": "IPython",
         "version": "7.13.0"
        },
        {
         "module": "OS",
         "version": "Darwin 19.4.0 x86_64 i386 64bit"
        },
        {
         "module": "version_information",
         "version": "1.0.3"
        },
        {
         "module": "numpy",
         "version": "1.18.2"
        },
        {
         "module": "scipy",
         "version": "1.4.1"
        },
        {
         "module": "matplotlib",
         "version": "3.2.1"
        }
       ]
      },
      "text/html": [
       "<table><tr><th>Software</th><th>Version</th></tr><tr><td>Python</td><td>3.7.7 64bit [Clang 11.0.0 (clang-1100.0.33.17)]</td></tr><tr><td>IPython</td><td>7.13.0</td></tr><tr><td>OS</td><td>Darwin 19.4.0 x86_64 i386 64bit</td></tr><tr><td>version_information</td><td>1.0.3</td></tr><tr><td>numpy</td><td>1.18.2</td></tr><tr><td>scipy</td><td>1.4.1</td></tr><tr><td>matplotlib</td><td>3.2.1</td></tr><tr><td colspan='2'>Sat Apr 25 18:43:17 2020 MDT</td></tr></table>"
      ],
      "text/latex": [
       "\\begin{tabular}{|l|l|}\\hline\n",
       "{\\bf Software} & {\\bf Version} \\\\ \\hline\\hline\n",
       "Python & 3.7.7 64bit [Clang 11.0.0 (clang-1100.0.33.17)] \\\\ \\hline\n",
       "IPython & 7.13.0 \\\\ \\hline\n",
       "OS & Darwin 19.4.0 x86\\_64 i386 64bit \\\\ \\hline\n",
       "version_information & 1.0.3 \\\\ \\hline\n",
       "numpy & 1.18.2 \\\\ \\hline\n",
       "scipy & 1.4.1 \\\\ \\hline\n",
       "matplotlib & 3.2.1 \\\\ \\hline\n",
       "\\hline \\multicolumn{2}{|l|}{Sat Apr 25 18:43:17 2020 MDT} \\\\ \\hline\n",
       "\\end{tabular}\n"
      ],
      "text/plain": [
       "Software versions\n",
       "Python 3.7.7 64bit [Clang 11.0.0 (clang-1100.0.33.17)]\n",
       "IPython 7.13.0\n",
       "OS Darwin 19.4.0 x86_64 i386 64bit\n",
       "version_information 1.0.3\n",
       "numpy 1.18.2\n",
       "scipy 1.4.1\n",
       "matplotlib 3.2.1\n",
       "Sat Apr 25 18:43:17 2020 MDT"
      ]
     },
     "execution_count": 16,
     "metadata": {},
     "output_type": "execute_result"
    }
   ],
   "source": [
    "################################################################\n",
    "#\n",
    "# Loading Version Information\n",
    "#\n",
    "\n",
    "%load_ext version_information\n",
    "\n",
    "%version_information version_information, numpy, scipy, matplotlib\n",
    "\n",
    "#\n",
    "################################################################"
   ]
  },
  {
   "cell_type": "code",
   "execution_count": null,
   "metadata": {},
   "outputs": [],
   "source": []
  }
 ],
 "metadata": {
  "kernelspec": {
   "display_name": "Python 3",
   "language": "python",
   "name": "python3"
  },
  "language_info": {
   "codemirror_mode": {
    "name": "ipython",
    "version": 3
   },
   "file_extension": ".py",
   "mimetype": "text/x-python",
   "name": "python",
   "nbconvert_exporter": "python",
   "pygments_lexer": "ipython3",
   "version": "3.7.7"
  }
 },
 "nbformat": 4,
 "nbformat_minor": 2
}
