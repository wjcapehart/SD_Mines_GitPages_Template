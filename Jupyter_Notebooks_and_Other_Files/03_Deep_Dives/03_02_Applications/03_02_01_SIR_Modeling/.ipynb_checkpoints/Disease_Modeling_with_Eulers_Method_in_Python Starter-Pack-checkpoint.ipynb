{
 "cells": [
  {
   "cell_type": "markdown",
   "metadata": {},
   "source": [
    "![CEE Masthead](http://kyrill.ias.sdsmt.edu/wjc/eduresources/CEE_284_Masthead.png)\n",
    "\n",
    "# \"I Got it From Agnes\" (Finite Differencing Edition) (Kick-Starter)\n",
    "# Epidemic Modeling"
   ]
  },
  {
   "cell_type": "markdown",
   "metadata": {},
   "source": [
    "## Trigger warning\n",
    "When Dr. Capehart does this in a live session, you get to hear the full (and sometimes uncensored) rant about when a certain PhD student brought their child to sit (in his good chair) with a very distinctive cough to find out by an email the day after that he had been exposed to Whopping Cough.\n",
    "\n",
    "Get your [Tdap](https://www.cdc.gov/vaccines/hcp/vis/vis-statements/tdap.html)!"
   ]
  },
  {
   "cell_type": "markdown",
   "metadata": {},
   "source": [
    "## Introduction\n",
    "This a Python program is an example of a \"Kermack-McKendrick Model\" in epidemic modeling.  \n",
    "\n",
    "\n",
    "This is also a good example of \n",
    "*  Scripting in Python\n",
    "*  Solving Differential Equations (in this case Brute-Force Finite Differencing) in Python\n",
    "*  Creating a Policy-Relevant Model\n",
    "*  Illustrating  how to code coupled systems of equations.\n",
    "*  Why you should be getting your flu shot.\n",
    "\n",
    "The basics of a Kermack-McKendrick Model is that you have [typically] three sub-populations in a community where something icky is going around.  This is normally called an \"SIR\" Model:\n",
    "*  **Susceptibles** : people who in principle can get sick (in this case we will bundle a block of people who are immunized into this block)\n",
    "*  **Infected** : people who have the disease and can spread it into the Susceptable population\n",
    "*  **Recovered** : people who have had the disease and are now immune.\n",
    "*  To this category we're adding a \"**Fatalities**\" category because we are monsters.  \"We also don't use [Salk](https://www.youtube.com/embed/milG4Aobnes?&start=187&end=190)\"\n",
    "\n",
    "Other versions of this system can distribute the Infected category into subgroups that symptomatic (changing their behavior in contrast to the other classes [not including the dead], contagious [at different levels of symptomatic or asymptomatic]).  \n",
    "\n",
    "You can break the \"Susceptible\" group into those with temporary immunity from their mothers, permanent immunity by random chance, and immunity from immunization.  \n",
    "\n",
    "You can have recovered people who have been infected lose their immunity.  \n",
    "\n",
    "In short, you can let your Pestilence Horseman run wild because “it’s only a model”\n",
    "\n",
    "Remember that this is a *simple* model.  The pro's working in operational epidemiology have far more sophisticated models."
   ]
  },
  {
   "cell_type": "markdown",
   "metadata": {},
   "source": [
    "\n",
    "## Sketching the Model Environment and the Kermack-McKendrick Equations\n",
    "\n",
    "It's always nice to sketch and doodle our models. The black letters will be our variables.  (We're not doing the \"cordon sanitaire\" option (where healthy people wall themselves off from the sick people) in this example.\n",
    "\n",
    "![SIR Modeling System Image](http://kyrill.ias.sdsmt.edu/wjc/eduresources/SIR_Image.png)\n",
    "\n",
    "This creates the following system of equations with the labeled parameters above \n",
    "\n",
    "$$\n",
    "\\begin{aligned}\n",
    "\\frac{dS}{dt} &= -\\beta SI    \\\\ \\\\\n",
    "\\frac{dI}{dt} &= +\\beta SI - \\gamma I - \\omega I   \\\\ \\\\\n",
    "\\frac{dR}{dt} &= +\\gamma I   \\\\ \\\\\n",
    "\\frac{dF}{dt} &= +\\omega I  \\\\ \\\\\n",
    "\\end{aligned}\n",
    "$$ \n",
    "\n",
    "The above $\\beta$ term is a combination of $\\kappa$, $p$, and $i$.  We will show how they are constructed as we move through this exercise.\n",
    "\n"
   ]
  },
  {
   "cell_type": "markdown",
   "metadata": {},
   "source": [
    "## Libraries\n",
    "\n",
    "Let's start with the libraries\n",
    "\n",
    "* [NumPy](https://docs.scipy.org/doc/NumPy/reference/routines.math.html) for some basic math functions\n",
    "* [SciPy](https://docs.scipy.org/doc/scipy/reference/integrate.html) for ODE solving\n",
    "* [SymPy](https://www.sympy.org/en/index.html) for symbolic solutions\n",
    "* [Matplotlib](https://matplotlib.org) for plotting\n",
    "\n",
    "also... \n",
    "\n",
    "* [IPython](https://ipython.readthedocs.io/en/stable/api/generated/IPython.display.html) for document support (this is just to import a youtube video)"
   ]
  },
  {
   "cell_type": "code",
   "execution_count": 1,
   "metadata": {},
   "outputs": [],
   "source": [
    "################################################\n",
    "#\n",
    "# Libraries\n",
    "#\n",
    "\n",
    "import numpy             as np\n",
    "import scipy             as sci\n",
    "import scipy.integrate   as sciint\n",
    "import sympy             as sym\n",
    "import matplotlib.pyplot as plt\n",
    "\n",
    "# Notice here that this is using a very different \n",
    "#   method to pull in functions.\n",
    "#\n",
    "#   I normally don't import libraries this way\n",
    "#\n",
    "#   This is simply (as the name implies) to bring\n",
    "#   in a youtube video.\n",
    "\n",
    "from IPython.display import YouTubeVideo\n",
    "\n",
    "\n",
    "#\n",
    "################################################"
   ]
  },
  {
   "cell_type": "markdown",
   "metadata": {},
   "source": [
    "### Setting up the Code\n",
    "\n",
    "To do this we will break this process down into several sub-sections\n",
    "\n",
    "* set up the time extent of our simulation, \"Time Control\"\n",
    "* set up the initial state of our players, \"Initial or Boundary Conditions\"\n",
    "* set up the rules for the simulation, \"Initialize Parameters\"\n",
    "\n",
    "\n",
    "\n",
    "First let’s set up the time control of our simulation.  There are variants of this system where you can do truly horrific things to the players to this system such as lose their immunity after a while, add new babies who can get sick easily or have temporary maternal immunity, recovered populations become sterile, or weaker with a higher natural death rate.  AES/CEE 615 (Environmental Systems Modeling) explores some of these scenarios at different levels depending on how ~disturbed~ creative the students are for that given semester.  \n",
    "\n",
    "But in this case we are playing a short-game lasting about a month.  We’d like some high temporal resolution.  So let’s start a simulation of 30 days with a time granularity (time step, $\\Delta t$) of about 0.125 days (3-hrs).  "
   ]
  },
  {
   "cell_type": "code",
   "execution_count": 2,
   "metadata": {},
   "outputs": [],
   "source": [
    "################################################\n",
    "#\n",
    "# Time Control\n",
    "#\n",
    "\n",
    "#\n",
    "# Total Duration and Time Interval\n",
    "#\n",
    "\n",
    "\n",
    "\n",
    "#\n",
    "# Number of timesteps from 0 to TimePeriod\n",
    "#\n",
    "\n",
    "#\n",
    "# Time Array from 0 to 30 \n",
    "#\n",
    "#  This is different from some array generators\n",
    "#    in python since linspace acutally gives you\n",
    "#    the stopping value you *asked* for!  (No \n",
    "#    need to add an extra time step.)\n",
    "#\n",
    "\n",
    "\n",
    "\n",
    "#\n",
    "################################################"
   ]
  },
  {
   "cell_type": "markdown",
   "metadata": {},
   "source": [
    "### Setting up Initial/Boundary Conditions\n",
    "The above equations need a starting point.  In this case, it's our cast of characters.\n",
    "* Starting Susceptables, $S_0$ (in this run this includes people who are immunized, so technically this just all healthy people).\n",
    "* Initial Infected Cases, $I_0$ (This/These are our \"Patient(s) Zero.  Pro-Tip: Don't be these guys.)  Immunization Rant will be down further in this notebook!\n",
    "* Recovered, $R_0$ (not to be confused with another $R_o$ that we will discussed shortly)\n",
    "* Fatalites, $F_0$ (because as mentioned above, we are monsters.)"
   ]
  },
  {
   "cell_type": "code",
   "execution_count": 3,
   "metadata": {},
   "outputs": [],
   "source": [
    "################################################\n",
    "#\n",
    "# Initial Conditions\n",
    "#\n",
    "\n",
    "\n",
    "\n",
    "\n",
    "\n",
    "\n",
    "#\n",
    "################################################"
   ]
  },
  {
   "cell_type": "markdown",
   "metadata": {},
   "source": [
    "### Creating our Arrays.\n",
    "\n",
    "Here we are going borrow from a certain British TV cooking presenter and repeat our mantra for this class, \"maximum satisfaction with minimal effort.\"\n",
    "\n",
    "We already have an array as long as we want, our *Time[]* array.  All we have to do is just borrow it, multuply it by zero and we have our arrays for our 4 population groups."
   ]
  },
  {
   "cell_type": "code",
   "execution_count": 4,
   "metadata": {},
   "outputs": [],
   "source": [
    "################################################\n",
    "#\n",
    "# Setting up our arrays\n",
    "#\n",
    "\n",
    "\n",
    "\n",
    "#\n",
    "# And we can initialize our first (or zero'th since it's python)\n",
    "#   time step from our above initial conditions\n",
    "#\n",
    "\n",
    "\n",
    "\n",
    "\n",
    "\n",
    "\n",
    "#\n",
    "################################################"
   ]
  },
  {
   "cell_type": "markdown",
   "metadata": {},
   "source": [
    "### Setting up Basic Disease ~Rules~ Parameters\n",
    "Every model needs a set of quantified rules.  For diseases this is difficult to explicitly nail down.  As such, we often rely on a set of expected probabilities.  Here are the traits we'll be working with\n",
    "\n",
    "Now onto the disease:  We will need to have the\n",
    "\n",
    "* **contact rate**: the likely number of people who an infected person comes into contact per unit time ($\\kappa$)\n",
    "  * Units: probability of infection per risky contact\n",
    " \n",
    " \n",
    "* **infection rate**: the probability of infection when a truly vulerable person is exposed per unit time ($\\kappa$) \n",
    "  * Units: person-to-person contacts (of $S$'s, $I$'s and $R$'s) per sick person per unit time\n",
    " \n",
    " \n",
    "* **recovery rate**: the probability of recovery per unit time for a given infected person ($\\gamma$)\n",
    "  * Units: probability of a given sick person recovering per unit time\n",
    " \n",
    " \n",
    "* **fatality rate**: the probability per unit time of an infected person dying from the disesase ($\\omega$)\n",
    "  * Units: probability of a given sick person to take the eternal dirt nap it per unit time.\n",
    " \n",
    " \n",
    "* $\\beta$ from the above equation system is a little more complex than the original case and is a combination of several of these terms. We'll address this later.\n",
    "  * Units: new infections per contact between sick and susceptable people per unit time\n",
    "  \n",
    "  \n",
    "* **immunization fraction**: If we want to include factors like artificial or natural immunity ($p$) we can include that, too.  Again, we aren't ready for that yet but we'll assume it's zero for now.\n",
    "  * Units: Fraction of people ~smart enough~ not stupid enough to listen to Andrew Wakefield and Jenny McCarthy.\n",
    "  * Education Outreach:  my vaccinated child doesn't have autism, he just doesn't like you.\n",
    "\n",
    "\n",
    "You can get this through some unit analysis.  If you follow the above diagram you can see how the parts come together.  Beta is officially a time dependant field but it is calculated as a function of values form a single time step.  This makes this a \"*diagnostic*\" variable. $S\\left(t\\right)$, $I\\left(t\\right)$, $R\\left(t\\right)$, and $F\\left(t\\right)$ since they are represented in the above equations as time-derivatives.\n",
    "\n",
    "$$\\beta\\left(t\\right)=\\frac{i \\kappa (1-p)}{S\\left(t\\right)+I\\left(t\\right)+R\\left(t\\right)}$$\n"
   ]
  },
  {
   "cell_type": "code",
   "execution_count": 5,
   "metadata": {},
   "outputs": [],
   "source": [
    "################################################\n",
    "#\n",
    "# Disease Traits\n",
    "#\n",
    "\n",
    "\n",
    "\n",
    "#\n",
    "# Public Health Traits\n",
    "#\n",
    "\n",
    "\n",
    "\n",
    "#\n",
    "################################################"
   ]
  },
  {
   "cell_type": "markdown",
   "metadata": {},
   "source": [
    "### Value-added Parameters\n",
    "\n",
    "#### Basic Reproductioin Number, $R_o$\n",
    "\n",
    "If you've seen the medical thriller \"Contagion\" the CDC Epidemiologist played by Kate Winslet gives a description of something called the \"[Basic Reproductive Number](https://en.wikipedia.org/wiki/Basic_reproduction_number),\" or \"R-nought\" ($R_o$), factor while plague-splaining the spread of the disease to city planners. \n",
    "\n",
    "[![Spoiler, Gwyneth Paltrow Dies!](http://kyrill.ias.sdsmt.edu/wjc/eduresources/contagion_poster.png)\n",
    "\n",
    "\n",
    "\n"
   ]
  },
  {
   "cell_type": "code",
   "execution_count": 6,
   "metadata": {},
   "outputs": [
    {
     "data": {
      "image/jpeg": "[encoded data removed]",
      "text/html": [
       "\n",
       "        <iframe\n",
       "            width=\"400\"\n",
       "            height=\"300\"\n",
       "            src=\"https://www.youtube.com/embed/VrATMF_FB9M\"\n",
       "            frameborder=\"0\"\n",
       "            allowfullscreen\n",
       "        ></iframe>\n",
       "        "
      ],
      "text/plain": [
       "<IPython.lib.display.YouTubeVideo at 0x11c8d7e50>"
      ]
     },
     "execution_count": 6,
     "metadata": {},
     "output_type": "execute_result"
    }
   ],
   "source": [
    "#  embed youtube video\n",
    "YouTubeVideo('VrATMF_FB9M')"
   ]
  },
  {
   "cell_type": "markdown",
   "metadata": {},
   "source": [
    "\n",
    "The $R_o$ describes how many people one infected person wil infect.\n",
    "\n",
    "Typical values for diseases we may encouter in these scenarios include\n",
    "\n",
    "| Disease | Means of Contagion | ${R_0}$ |\n",
    "|:---------:|:--------------------:|-------|\n",
    "|Measles|Airborne|12-18|\n",
    "|Diphtheria|Saliva|6-7|\n",
    "|Smallpox|Airborne droplet|5–7|\n",
    "|Polio|Fecal-oral route|5–7|\n",
    "|Rubella|Airborne droplet|5–7|\n",
    "|Pertussis|Airborne droplet from coughing in the prof's office|5-6|\n",
    "|Mumps|Airborne droplet|4–7|\n",
    "|(Conjunctivitis) \"Pink Eye\"|Dirty Lab Goggles|~4|\n",
    "|HIV/AIDS|Sexual contact|2–5|\n",
    "|SARS|Airborne droplet|2–5|\n",
    "|COVID-19 (ests.) |Airborne droplet|1.4–3.8|\n",
    "|Influenza (1918 pandemic strain)|Airborne droplet|2–3|\n",
    "|Ebola (2014 Ebola outbreak)|Bodily fluids|1.5-2.5|\n",
    "|MERS|Airborne droplet|0.3-0.8|\n",
    "\n",
    "\n",
    "$R_o$'s greater than 1 indicate a disease that will spread through the population.  The higher the $R_o$, the faster the spread.  $R_o$'s below 1 will likely self-contain due to low probability if infection (not every case will result in a new case but an influx of sick people may create a critical mass of \"players\" for some \"Susceptables\" to loose to the odds). \n",
    "Using our parameters we can derive $R_o$ via unit analysis as\n",
    "\n",
    "$$R_o =\\frac{i \\kappa}{\\gamma +\\omega}$$"
   ]
  },
  {
   "cell_type": "code",
   "execution_count": 7,
   "metadata": {},
   "outputs": [
    {
     "name": "stdout",
     "output_type": "stream",
     "text": [
      "Basic Reproductive Number, Ro =\n"
     ]
    }
   ],
   "source": [
    "################################################\n",
    "#\n",
    "# Basic Reproductive Number\n",
    "#\n",
    "\n",
    "\n",
    "print(\"Basic Reproductive Number, Ro =\")\n",
    "\n",
    "#\n",
    "################################################"
   ]
  },
  {
   "cell_type": "markdown",
   "metadata": {},
   "source": [
    "#### #We'reDoingShots!\n",
    "In this case we can play with a fraction of the population that enter the game with either natural immunity or have been immunized. This is the $p$ parameter above.\n",
    "\n",
    "This also allows us to bring up the idea of herd immunity which is one of the major battlegrounds in the vaccine \"controversy.\"\n",
    "\n",
    "Let's consider \n",
    "\n",
    "Assumung that $R=0$ and $S\\gg I$,\n",
    "\n",
    "$$\\begin{aligned}\n",
    "\\frac{dI}{dt} &= \\frac{ i \\kappa \\left( 1-p \\right) }{S+I+ \\left( R=0 \\right)} S I - \\left( \\gamma + \\omega \\right) I  \\\\\n",
    "0 &= \\frac{i \\kappa\\left(1-p\\right)}{\\left[(S+I) \\approx S\\right]}S\\;I-\\left(\\gamma +\\omega \\right)I  \\\\\n",
    "0 &= \\frac{i \\kappa\\left( 1-p \\right) }{S} S I - \\left( \\gamma +\\omega \\right) I \\\\\n",
    "0 &= I \\left[ \\frac{i \\kappa \\left( 1-p \\right) }{S}S-\\left( \\gamma +\\omega \\right) \\right] \\\\\n",
    "0 &= I \\left[ i \\kappa \\left(1-p\\right)- \\left( \\gamma +\\omega \\right) \\right] \\\\\n",
    "0 &= i \\kappa \\left( 1-p \\right)- \\left( \\gamma +\\omega \\right) \\\\\n",
    "i \\kappa\\left(1-p\\right) &= \\gamma +\\omega \\\\\n",
    "1-p &= \\frac{\\gamma +\\omega }{i \\kappa} \\\\\n",
    "1-p &= \\frac{1}{R_o} \\\\\n",
    "p &= 1 - \\frac{1}{R_o}\n",
    "\\end{aligned} $$\n",
    "\n",
    "This \"critical\" value of public immunity fraction, $p$, or $p_c$, is the \"herd immunity.\"  Thus for a $R_o$ of 12 (the low end of the communicability of Measles), to force the functional $R_o$ for Measles down to zero or less, over 90% of the populus must have artificial immunity.  "
   ]
  },
  {
   "cell_type": "code",
   "execution_count": 8,
   "metadata": {},
   "outputs": [
    {
     "name": "stdout",
     "output_type": "stream",
     "text": [
      "Herd Immunity Threshold, pc =\n"
     ]
    }
   ],
   "source": [
    "################################################\n",
    "#\n",
    "# Herd Immunity\n",
    "#\n",
    "\n",
    "\n",
    "\n",
    "print(\"Herd Immunity Threshold, pc =\")\n",
    "\n",
    "#\n",
    "################################################"
   ]
  },
  {
   "cell_type": "markdown",
   "metadata": {},
   "source": [
    "## Drafting our Prognostic and Diagnostic Equations\n",
    "\n",
    "In this scenario we are going to show off SciPy's integrating features.  Most of them will fit into the following setup.  \n",
    "\n",
    "We will need a single function that contains all of our prognostic equations, $\\frac{dS}{dt}$, $\\frac{dI}{dt}$, $\\frac{dR}{dt}$, and $\\frac{dF}{dt}$.  Since two of our equations need a value for $\\beta$, that gets put in there too."
   ]
  },
  {
   "cell_type": "markdown",
   "metadata": {},
   "source": [
    "### The Functions for our finite differencing approach\n",
    "\n",
    "Here we will create a single function that bundles all of our equations.  In the Differential Equations Hardcore Version of this exercise, we will use a single function with all four equations.  \n",
    "\n",
    "Also we will have an equation for $\\beta$ since we will have an opportunity to get fancy with that function as we play."
   ]
  },
  {
   "cell_type": "code",
   "execution_count": 9,
   "metadata": {},
   "outputs": [],
   "source": [
    "\n",
    "################################################################################################\n",
    "#\n",
    "# Our Four Beta, S, I, R, F function\n",
    "#\n",
    "#   We pass a vector of [S, I, R, F] through our system.   \n",
    "#\n",
    "\n",
    "#\n",
    "#  The Beta Function (the rate of aquisition of disease per\n",
    "#     susceptable-infected contacts.)\n",
    "#\n",
    "\n",
    "\n",
    "\n",
    "#\n",
    "#  The Susceptable Equation\n",
    "#\n",
    "\n",
    "\n",
    "\n",
    "#\n",
    "#  The Infected Equation\n",
    "#\n",
    "\n",
    "\n",
    "\n",
    "#\n",
    "#  The Recovered Equation\n",
    "#\n",
    "\n",
    "\n",
    "\n",
    "\n",
    "\n",
    "#\n",
    "#  The Fatalities Equation\n",
    "#\n",
    "\n",
    "\n",
    "\n",
    "\n",
    "\n",
    "#\n",
    "################################################"
   ]
  },
  {
   "cell_type": "markdown",
   "metadata": {},
   "source": [
    "### Time to Bunny-Hop through Time!  Euler's Method\n",
    "\n",
    "We are doing a finite differencing approach similar to our earlier adventures where we learned programming with Mathcad.\n",
    "\n",
    "There are fancier ways to do it but the goal here is more to show you some traditional structures in programming, such as loops and if-then-blocks.  \n",
    "\n",
    "Here is the basic math of any generic prognostic (time-dependant) function.\n",
    "1. Take a differential equations that's a function of time.  That $f_x(x)$ function represents all the forcings that are being inflicted on our mystery value *x* that change its value over time.\n",
    "$$\\frac{dx}{dt}=f(x)$$\n",
    "2. Whistle in the dark through your Calc 1 class and hope that $f_x(x)$ doesn't change much over a *small* discrete change of your independant integrating value (for us that's time), a.k.a., $\\Delta t$\n",
    "$$\\frac{\\Delta x}{\\Delta t}=f(x)$$\n",
    "3. Let's now treat time like a numberline with distinct intervals of space one $\\Delta t$ with our understanding of what's going on only resolvable at those discrete points on the hopscotch board that is now our modeled universe. To move forward we base our change on $x$ on our jump to the current time-step for which we're calculating, $t_{\\tau}$, on our values that we just solved on our previous timestep, $t_{\\tau-1}$.  (Hence it's important to chose timesteps where our valus of x don't change MUCH as we move in our steps forward in time.  This often means small values of $\\Delta t$. Much as in our scripts were we played with Pi using Reimann Sums)\n",
    "![Time Numberline](http://kyrill.ias.sdsmt.edu/wjc/eduresources/Time_Tau_Numberline_Bounce.png)\n",
    "\n",
    "$$\\begin{aligned}\n",
    "\\frac{\\Delta x}{\\Delta t}=\\frac{x_{\\tau}-x_{\\tau-1}}{\\Delta t=t_{\\tau}-t_{\\tau-1}}&=f_x(x_{\\tau-1})\\\\\n",
    "\\frac{x_{\\tau}-x_{\\tau-1}}{\\Delta t}&=f_x(x_{\\tau-1})\n",
    "\\end{aligned}$$\n",
    "\n",
    "4. And from there it's just a little Algebra-Fu™️ to solve for the value of x on our landing point (a.k.a., $x_{\\tau}$)\n",
    "\n",
    "$$\\begin{aligned}\n",
    "\\frac{x_{\\tau}-x_{\\tau-1}}{\\Delta t}&=f_x(x_{\\tau-1}) \\\\  \n",
    "x_{\\tau}-x_{\\tau-1}&=f_x(x_{\\tau-1})\\Delta t \\\\\n",
    "x_{\\tau} &= x_{\\tau-1}+f_x(x_{\\tau-1})\\Delta t \n",
    "\\end{aligned}$$\n",
    "\n",
    "Applying this to our scenario we have four equations moving together through time.\n",
    "\n",
    "$$\\begin{aligned}\n",
    "S_{\\tau} &= S_{\\tau-1}+f_S(x_{\\tau-1})\\Delta t \\\\\n",
    "I_{\\tau} &= I_{\\tau-1}+f_I(x_{\\tau-1})\\Delta t \\\\\n",
    "R_{\\tau} &= R_{\\tau-1}+f_R(x_{\\tau-1})\\Delta t \\\\\n",
    "F_{\\tau} &= F_{\\tau-1}+f_F(x_{\\tau-1})\\Delta t\n",
    "\\end{aligned}$$\n",
    "\n",
    "Our $f_S$, $f_I$, $f_R$, and $f_F$ are the functions we created above!\n",
    "\n",
    "Overall this method is called *finite differencing*.  The specific method of marching forward-in-time shown above is call Euler's Method.\n",
    "\n",
    "To solve this we just need to put things into a loop!\n",
    "\n",
    "For demonstration purposes, we're going to set this up one step at a time but copying our previous work each step where we add a feature or two to show how we do it specifically in the Python language.\n",
    "\n",
    "Just remember that above we already have the following \"victory laps\" already done:\n",
    "\n",
    "1. Created our Time and Time Step Variables\n",
    "2. Created our Modeling Variable Arrays & Initial Conditions\n",
    "3. Created our Model Parameters (e.g., infection rate, recovery rate...)\n",
    "4. Created our Functions for the Kermack-McKendrick Equations.\n",
    "\n",
    "So onward... "
   ]
  },
  {
   "cell_type": "markdown",
   "metadata": {},
   "source": [
    "#### Victory Lap #5.  Build the time loop.\n",
    "This is going to be a very simple loop that walks through our time.  Here we can loop through our time indices which we'll call $k$ which will go from 0 to *nTime*. \n",
    "\n",
    "Remember though that we have to do that wierd thing that Python does where the last falue *requested* in an array or series is the one AFTER the last one.  This is supposedly because this makes it prettier in languages that start with zero (though those of us who have worked with languages that start their indexing at 0 are used to just subtracting one to the number of values you want...).\n",
    "\n",
    "We'll use [numpy.arange()](https://numpy.org/doc/stable/reference/generated/numpy.arange.html#numpy.arange) for this"
   ]
  },
  {
   "cell_type": "code",
   "execution_count": 10,
   "metadata": {},
   "outputs": [],
   "source": [
    "################################################\n",
    "#\n",
    "# Step 5: Build the Time Loop\n",
    "#   We are also going to \n",
    "#\n",
    "\n",
    "\n",
    "\n",
    "#\n",
    "################################################"
   ]
  },
  {
   "cell_type": "markdown",
   "metadata": {},
   "source": [
    "#### Victory Lap #6.  Insert the equations... \n",
    "\n",
    "Now let's our equations into our loop."
   ]
  },
  {
   "cell_type": "code",
   "execution_count": 11,
   "metadata": {},
   "outputs": [],
   "source": [
    "################################################\n",
    "#\n",
    "# Step 6: Plumbing Test!\n",
    "#\n",
    "\n",
    "\n",
    "\n",
    "\n",
    "#\n",
    "################################################"
   ]
  },
  {
   "cell_type": "markdown",
   "metadata": {},
   "source": [
    "Just looking at numbers is boring.  \n",
    "\n",
    "## Plotting the Results!\n",
    "Let's Plot it!  Here we are going to pull each value in sol.T so we can specifically customize each color."
   ]
  },
  {
   "cell_type": "code",
   "execution_count": 12,
   "metadata": {},
   "outputs": [],
   "source": [
    "################################################\n",
    "#\n",
    "# Plot Results\n",
    "#\n",
    "\n",
    "\n",
    "\n",
    "\n",
    "#\n",
    "################################################"
   ]
  },
  {
   "cell_type": "markdown",
   "metadata": {},
   "source": [
    "### Exploring Herd Immunity\n",
    "\n",
    "Let's now explore three values of Herd Immunity.  We will run three cases with 25%, 50% and 75% of the populus being vaccinated."
   ]
  },
  {
   "cell_type": "code",
   "execution_count": 13,
   "metadata": {
    "scrolled": true
   },
   "outputs": [],
   "source": [
    "################################################\n",
    "#\n",
    "# Plot Results\n",
    "#\n",
    "\n",
    "# We're also going to go for a longer game (one year)\n",
    "\n",
    "\n",
    "\n",
    "\n",
    "#\n",
    "# Setting up our arrays\n",
    "#\n",
    "\n",
    "\n",
    "\n",
    "\n",
    "#\n",
    "# And we can initialize our first (or zero'th since it's python)\n",
    "#   time step from our above initial conditions\n",
    "#\n",
    "\n",
    "\n",
    "\n",
    "# This is the only time we need to do this above initialization\n",
    "#   until we change the size of our arrays.\n",
    "#   remember X[k=0] doesn't change in our loops\n",
    "\n",
    "\n",
    "\n",
    "    \n",
    "\n",
    "\n",
    "    ############################################\n",
    "    #\n",
    "    # Run the Solver\n",
    "    #\n",
    "\n",
    "\n",
    "        \n",
    "    #\n",
    "    # For this graph we will also want to sum up the total\n",
    "    #  number of people who have contracted the disease\n",
    "    # \n",
    "    \n",
    "    \n",
    "    #\n",
    "    # Plot Each Graph\n",
    "    #\n",
    "\n",
    "    #\n",
    "    ############################################\n",
    "\n",
    "\n",
    "\n",
    "#\n",
    "################################################"
   ]
  },
  {
   "cell_type": "markdown",
   "metadata": {},
   "source": [
    "Since this is more about learning programming tricks in Python rather than learning  we can do this again... not with a loop but with a 4-panel.  \n",
    "\n",
    "I'm going to \"steal\" the 4-panel section from our [plotting tutorial](http://kyrill.ias.sdsmt.edu/wjc/eduresources/CEE284_Python/Course_Materials/Classroom%20Sessions/Session%202%20-%20Arrays%20Math%20and%20Plotting%20in%20Python/Part%202%20--%20Arrays,%20Math,%20and%20Plotting%20in%20Python.html) for a lot of this material because I forget this operation *way* too often."
   ]
  },
  {
   "cell_type": "code",
   "execution_count": 14,
   "metadata": {},
   "outputs": [],
   "source": [
    "#############################################\n",
    "#\n",
    "#  Make a 2x2 plot with differennt logs on the \n",
    "#    axes to demonstrate leveraging the ax-and-fig\n",
    "#    method of plotting.\n",
    "#\n",
    "\n",
    "#\n",
    "# We'll start with the subplot command which\n",
    "#    will let us make 2 rows (first argument)\n",
    "#    and 2 columns.  \n",
    "#\n",
    "# The second modifier pair instruct the matplotlib\n",
    "#    \"share\" the axis attributes for each plot.\n",
    "#\n",
    "# When we do this, FIG will represent the atributes \n",
    "#     of the whole plotting area.\n",
    "#\n",
    "# The acutal \"subplots\" are typically called \"ax\"\n",
    "#     which you can consider to be the \n",
    "#\n",
    "\n",
    "\n",
    "\n",
    "\n",
    "# # # # # # # # # # # # # # # # # # # # # # # # # \n",
    "# Let's have our Top Left (0,0) plot represent the p=0 case\n",
    "# # # # # # # # # # # # # # # # # # # # # # # # # \n",
    "\n",
    "\n",
    "\n",
    "\n",
    "#\n",
    "# For this graph we will also want to sum up the total\n",
    "#  number of people who have contracted the disease\n",
    "# \n",
    "\n",
    "\n",
    "# Let's have our Top Right (0, 1) plot represent the p=0.25 case\n",
    "#  we are only going to put the legend on one pannel \n",
    "#  (this Lower Right one)\n",
    "\n",
    "\n",
    "\n",
    "\n",
    "\n",
    "\n",
    "#\n",
    "# For this graph we will also want to sum up the total\n",
    "#  number of people who have contracted the disease\n",
    "# \n",
    "\n",
    "\n",
    "# # # # # # # # # # # # # # # # # # # # # # # # # \n",
    "# Let's have our Lower Left (1, 0) plot represent the p=0.25 case\n",
    "# # # # # # # # # # # # # # # # # # # # # # # # # \n",
    "\n",
    "\n",
    "\n",
    "\n",
    "\n",
    "\n",
    "#\n",
    "# For this graph we will also want to sum up the total\n",
    "#  number of people who have contracted the disease\n",
    "# \n",
    "\n",
    "\n",
    "# # # # # # # # # # # # # # # # # # # # # # # # # \n",
    "# Let's have our Lower Right (1, 1) plot represent the p=0.75 case\n",
    "#   which for us is on the safer side of our needed herd immunity\n",
    "#   the legend goes here because it's rather big.\n",
    "# # # # # # # # # # # # # # # # # # # # # # # # # \n",
    "\n",
    "\n",
    "\n",
    "\n",
    "#\n",
    "# For this graph we will also want to sum up the total\n",
    "#  number of people who have contracted the disease\n",
    "# \n",
    "\n",
    "\n",
    "\n",
    "# add the big title\n",
    "\n",
    "\n",
    "\n",
    "\n",
    "# you have to kludge a common axis here which is\n",
    "#   rather disapointing (maybe the next version of \n",
    "#   matplotlib will have it.)\n",
    "#\n",
    "# we use the fig.text function\n",
    "#  the first two arguments are the x and y centers of\n",
    "#  the plot in the larger plotter space\n",
    "#\n",
    "\n",
    "\n",
    "\n",
    "#\n",
    "############################################"
   ]
  },
  {
   "cell_type": "markdown",
   "metadata": {},
   "source": [
    "## Exploring Herd Immunity\n",
    "\n",
    "Let's look more closely at how the herd immunity chagnes the overall impact of the diseases (counting results)\n",
    "\n",
    "This also shows how to loop through the system and load the results into an array"
   ]
  },
  {
   "cell_type": "code",
   "execution_count": 15,
   "metadata": {},
   "outputs": [],
   "source": [
    "################################################ \n",
    "#\n",
    "# Plot Results\n",
    "#\n",
    "\n",
    "#\n",
    "# let's first make an array to carry our \n",
    "#    immune factor\n",
    "#\n",
    "\n",
    "# Make the immunity (dp = 0.01 so we have 101 slots)\n",
    "\n",
    "\n",
    "\n",
    "# clone the immune array as zeros for the impact array\n",
    "\n",
    "\n",
    "\n",
    "\n",
    "    ####################################\n",
    "    #\n",
    "    # Load Immunization Fraction\n",
    "    #\n",
    "    #\n",
    "    # Run the ODE Solver\n",
    "    #\n",
    "\n",
    "    \n",
    "    \n",
    "    #\n",
    "    # For this graph we will also want to sum up the total\n",
    "    #  number of people who have contracted the disease\n",
    "    # \n",
    "\n",
    "    \n",
    "    \n",
    "    #\n",
    "    #\n",
    "\n",
    "    \n",
    "    \n",
    "    #\n",
    "    ####################################\n",
    "\n",
    "\n",
    "    \n",
    "#\n",
    "################################################"
   ]
  },
  {
   "cell_type": "markdown",
   "metadata": {},
   "source": [
    "So if you don't have a legitimate medical reason not to take a given immunization (e.g., alergies to the flu vaccines, immunocompromised, etc.), **[GET YOUR FRIGGIN' SHOTS!!!!!](https://www.cdc.gov/vaccines/index.html)**  \n",
    "\n",
    "(and if your curious about the title of the exercise... click below.)\n"
   ]
  },
  {
   "cell_type": "code",
   "execution_count": 16,
   "metadata": {},
   "outputs": [
    {
     "data": {
      "image/jpeg": "[encoded data removed]",
      "text/html": [
       "\n",
       "        <iframe\n",
       "            width=\"400\"\n",
       "            height=\"300\"\n",
       "            src=\"https://www.youtube.com/embed/R6qFG0uop9k\"\n",
       "            frameborder=\"0\"\n",
       "            allowfullscreen\n",
       "        ></iframe>\n",
       "        "
      ],
      "text/plain": [
       "<IPython.lib.display.YouTubeVideo at 0x11c907a10>"
      ]
     },
     "execution_count": 16,
     "metadata": {},
     "output_type": "execute_result"
    }
   ],
   "source": [
    "#Tom Lehrer Sing's \"I got it from Agness\"\n",
    "YouTubeVideo('R6qFG0uop9k')"
   ]
  },
  {
   "cell_type": "markdown",
   "metadata": {},
   "source": [
    "## Version Information"
   ]
  },
  {
   "cell_type": "code",
   "execution_count": 17,
   "metadata": {},
   "outputs": [
    {
     "data": {
      "application/json": {
       "Software versions": [
        {
         "module": "Python",
         "version": "3.7.7 64bit [Clang 11.0.0 (clang-1100.0.33.17)]"
        },
        {
         "module": "IPython",
         "version": "7.13.0"
        },
        {
         "module": "OS",
         "version": "Darwin 19.4.0 x86_64 i386 64bit"
        },
        {
         "module": "version_information",
         "version": "1.0.3"
        },
        {
         "module": "numpy",
         "version": "1.18.2"
        },
        {
         "module": "scipy",
         "version": "1.4.1"
        },
        {
         "module": "matplotlib",
         "version": "3.2.1"
        }
       ]
      },
      "text/html": [
       "<table><tr><th>Software</th><th>Version</th></tr><tr><td>Python</td><td>3.7.7 64bit [Clang 11.0.0 (clang-1100.0.33.17)]</td></tr><tr><td>IPython</td><td>7.13.0</td></tr><tr><td>OS</td><td>Darwin 19.4.0 x86_64 i386 64bit</td></tr><tr><td>version_information</td><td>1.0.3</td></tr><tr><td>numpy</td><td>1.18.2</td></tr><tr><td>scipy</td><td>1.4.1</td></tr><tr><td>matplotlib</td><td>3.2.1</td></tr><tr><td colspan='2'>Sat Apr 25 18:55:25 2020 MDT</td></tr></table>"
      ],
      "text/latex": [
       "\\begin{tabular}{|l|l|}\\hline\n",
       "{\\bf Software} & {\\bf Version} \\\\ \\hline\\hline\n",
       "Python & 3.7.7 64bit [Clang 11.0.0 (clang-1100.0.33.17)] \\\\ \\hline\n",
       "IPython & 7.13.0 \\\\ \\hline\n",
       "OS & Darwin 19.4.0 x86\\_64 i386 64bit \\\\ \\hline\n",
       "version_information & 1.0.3 \\\\ \\hline\n",
       "numpy & 1.18.2 \\\\ \\hline\n",
       "scipy & 1.4.1 \\\\ \\hline\n",
       "matplotlib & 3.2.1 \\\\ \\hline\n",
       "\\hline \\multicolumn{2}{|l|}{Sat Apr 25 18:55:25 2020 MDT} \\\\ \\hline\n",
       "\\end{tabular}\n"
      ],
      "text/plain": [
       "Software versions\n",
       "Python 3.7.7 64bit [Clang 11.0.0 (clang-1100.0.33.17)]\n",
       "IPython 7.13.0\n",
       "OS Darwin 19.4.0 x86_64 i386 64bit\n",
       "version_information 1.0.3\n",
       "numpy 1.18.2\n",
       "scipy 1.4.1\n",
       "matplotlib 3.2.1\n",
       "Sat Apr 25 18:55:25 2020 MDT"
      ]
     },
     "execution_count": 17,
     "metadata": {},
     "output_type": "execute_result"
    }
   ],
   "source": [
    "################################################################\n",
    "#\n",
    "# Loading Version Information\n",
    "#\n",
    "\n",
    "%load_ext version_information\n",
    "\n",
    "%version_information version_information, numpy, scipy, matplotlib\n",
    "\n",
    "#\n",
    "################################################################"
   ]
  },
  {
   "cell_type": "code",
   "execution_count": null,
   "metadata": {},
   "outputs": [],
   "source": []
  },
  {
   "cell_type": "code",
   "execution_count": null,
   "metadata": {},
   "outputs": [],
   "source": []
  },
  {
   "cell_type": "code",
   "execution_count": null,
   "metadata": {},
   "outputs": [],
   "source": []
  },
  {
   "cell_type": "code",
   "execution_count": null,
   "metadata": {},
   "outputs": [],
   "source": []
  }
 ],
 "metadata": {
  "kernelspec": {
   "display_name": "Python 3 (ipykernel)",
   "language": "python",
   "name": "python3"
  },
  "language_info": {
   "codemirror_mode": {
    "name": "ipython",
    "version": 3
   },
   "file_extension": ".py",
   "mimetype": "text/x-python",
   "name": "python",
   "nbconvert_exporter": "python",
   "pygments_lexer": "ipython3",
   "version": "3.9.7"
  }
 },
 "nbformat": 4,
 "nbformat_minor": 2
}
