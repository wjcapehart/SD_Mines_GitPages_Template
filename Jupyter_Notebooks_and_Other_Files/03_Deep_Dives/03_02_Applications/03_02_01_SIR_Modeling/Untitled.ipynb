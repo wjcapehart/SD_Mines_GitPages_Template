{
 "cells": [
  {
   "cell_type": "markdown",
   "id": "1867616a",
   "metadata": {},
   "source": [
    "$$\\begin{aligned}\n",
    "\\frac{dI}{dt} &=\\beta S I -  \\gamma I + \\omega  I \\\\\n",
    "0 &=\\beta S I-  \\gamma I + \\omega  I\\\\\n",
    "0 &= \\left ( \\beta S - \\gamma + \\omega \\right) I\\\\\n",
    "0 &=\\beta S -  \\gamma + \\omega \\\\\n",
    "\\gamma + \\omega &=\\beta S\\\\\n",
    "\\text{one} &= \\frac{\\beta S}{ \\gamma + \\omega } \\\\\n",
    "\\text{Neutral }R_0 &=\\frac{\\beta S}{\\gamma + \\omega } \n",
    "\\end{aligned}$$"
   ]
  },
  {
   "cell_type": "code",
   "execution_count": null,
   "id": "3adbce85",
   "metadata": {},
   "outputs": [],
   "source": []
  }
 ],
 "metadata": {
  "kernelspec": {
   "display_name": "Python 3 (ipykernel)",
   "language": "python",
   "name": "python3"
  },
  "language_info": {
   "codemirror_mode": {
    "name": "ipython",
    "version": 3
   },
   "file_extension": ".py",
   "mimetype": "text/x-python",
   "name": "python",
   "nbconvert_exporter": "python",
   "pygments_lexer": "ipython3",
   "version": "3.9.12"
  }
 },
 "nbformat": 4,
 "nbformat_minor": 5
}
